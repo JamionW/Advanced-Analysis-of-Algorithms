{
  "cells": [
    {
      "cell_type": "markdown",
      "metadata": {
        "id": "view-in-github",
        "colab_type": "text"
      },
      "source": [
        "<a href=\"https://colab.research.google.com/github/JamionW/Advanced-Analysis-of-Algorithms/blob/master/Combinatorial_Inverse_Elasticity.ipynb\" target=\"_parent\"><img src=\"https://colab.research.google.com/assets/colab-badge.svg\" alt=\"Open In Colab\"/></a>"
      ]
    },
    {
      "cell_type": "markdown",
      "metadata": {
        "id": "9eAwK17GxwjV"
      },
      "source": [
        "# This is the Master Code Notebook for Inverse Elasticity"
      ]
    },
    {
      "cell_type": "markdown",
      "metadata": {
        "id": "W2rTTWESx1_b"
      },
      "source": [
        "# Necessary libraries"
      ]
    },
    {
      "cell_type": "code",
      "execution_count": 1,
      "metadata": {
        "colab": {
          "base_uri": "https://localhost:8080/"
        },
        "id": "AJyp8Rx2-edE",
        "outputId": "ec5329b7-64f9-44e7-8a5f-14813a707b71"
      },
      "outputs": [
        {
          "output_type": "stream",
          "name": "stdout",
          "text": [
            "Requirement already satisfied: rtree in /usr/local/lib/python3.10/dist-packages (1.3.0)\n",
            "Requirement already satisfied: fiona in /usr/local/lib/python3.10/dist-packages (1.10.1)\n",
            "Requirement already satisfied: attrs>=19.2.0 in /usr/local/lib/python3.10/dist-packages (from fiona) (24.2.0)\n",
            "Requirement already satisfied: certifi in /usr/local/lib/python3.10/dist-packages (from fiona) (2024.8.30)\n",
            "Requirement already satisfied: click~=8.0 in /usr/local/lib/python3.10/dist-packages (from fiona) (8.1.7)\n",
            "Requirement already satisfied: click-plugins>=1.0 in /usr/local/lib/python3.10/dist-packages (from fiona) (1.1.1)\n",
            "Requirement already satisfied: cligj>=0.5 in /usr/local/lib/python3.10/dist-packages (from fiona) (0.7.2)\n"
          ]
        }
      ],
      "source": [
        "!pip install rtree\n",
        "!pip install fiona"
      ]
    },
    {
      "cell_type": "code",
      "execution_count": 2,
      "metadata": {
        "id": "6JqEWjxDMhvp"
      },
      "outputs": [],
      "source": [
        "import pandas as pd\n",
        "import geopandas as gpd\n",
        "import networkx as nx\n",
        "import pyproj\n",
        "from shapely.geometry import Point, LineString, box\n",
        "from shapely.ops import nearest_points, transform\n",
        "import fiona\n",
        "from scipy.spatial import cKDTree\n",
        "from joblib import Parallel, delayed\n",
        "from functools import lru_cache\n",
        "from typing import Dict, List, Tuple\n",
        "import numpy as np\n",
        "import logging\n",
        "import matplotlib.pyplot as plt\n",
        "import seaborn as sns\n",
        "import rtree\n",
        "import random\n",
        "import math\n",
        "from collections import defaultdict, Counter"
      ]
    },
    {
      "cell_type": "markdown",
      "source": [
        "#Global variable for FIPS Code"
      ],
      "metadata": {
        "id": "00vgccUpYaec"
      }
    },
    {
      "cell_type": "code",
      "source": [
        "#FIPS_TARGET = '47065000800'\n",
        "FIPS_TARGET = '47065000600' # North Shore"
      ],
      "metadata": {
        "id": "1KYbKQmNYH31"
      },
      "execution_count": 3,
      "outputs": []
    },
    {
      "cell_type": "markdown",
      "metadata": {
        "id": "kHImQEKuPQcT"
      },
      "source": [
        "# Dataset Imports and Set Coordinate Systems"
      ]
    },
    {
      "cell_type": "code",
      "execution_count": 4,
      "metadata": {
        "id": "sMPcbb4vOROG"
      },
      "outputs": [],
      "source": [
        "def import_data(address_file, svi_file, roads_file):\n",
        "    print(\"Importing data...\")\n",
        "\n",
        "    # Import addresses\n",
        "    print(\"Importing addresses...\")\n",
        "    address_df = gpd.read_file(address_file)\n",
        "    print(f\"Imported {len(address_df)} addresses.\")\n",
        "\n",
        "    # Import SVI data\n",
        "    print(\"Importing SVI data...\")\n",
        "    svi_df = gpd.read_file(svi_file, layer='SVI2022_TENNESSEE_tract')\n",
        "    print(f\"Imported SVI data for {len(svi_df)} tracts.\")\n",
        "\n",
        "    # Import roads\n",
        "    print(\"Importing roads...\")\n",
        "    with fiona.open(roads_file) as collection:\n",
        "        roads_df = gpd.GeoDataFrame.from_features(collection)\n",
        "    roads_df.set_crs(epsg=4326, inplace=True)  # Set initial CRS to WGS84\n",
        "    print(f\"Imported {len(roads_df)} road segments.\")\n",
        "\n",
        "    # Create samples dictionary\n",
        "    samples_dict = {\n",
        "        'address': address_df.head().to_dict('records'),\n",
        "        'svi': svi_df.head().to_dict('records'),\n",
        "        'roads': roads_df.head().to_dict('records')\n",
        "    }\n",
        "\n",
        "    return address_df, svi_df, roads_df, samples_dict"
      ]
    },
    {
      "cell_type": "code",
      "execution_count": 5,
      "metadata": {
        "id": "E9BMXiPexiHL"
      },
      "outputs": [],
      "source": [
        "def set_crs(address_df, svi_df, roads_df, target_crs=\"EPSG:32618\"):\n",
        "    print(f\"Setting CRS to {target_crs} for all datasets...\")\n",
        "\n",
        "    # Check and reproject roads_df if necessary\n",
        "    if roads_df.crs is None:\n",
        "        print(\"Roads CRS is None. Setting to EPSG:4326 (WGS84).\")\n",
        "        roads_df.set_crs(epsg=4326, inplace=True)\n",
        "\n",
        "    if roads_df.crs.to_string() != target_crs:\n",
        "        print(f\"Reprojecting roads from {roads_df.crs} to {target_crs}\")\n",
        "        roads_df = roads_df.to_crs(target_crs)\n",
        "\n",
        "    # Check and reproject address_df if necessary\n",
        "    if address_df.crs is None or address_df.crs.to_string() != target_crs:\n",
        "        print(f\"Reprojecting addresses from {address_df.crs} to {target_crs}\")\n",
        "        address_df = address_df.to_crs(target_crs)\n",
        "\n",
        "    # Check and reproject svi_df if necessary\n",
        "    if svi_df.crs is None or svi_df.crs.to_string() != target_crs:\n",
        "        print(f\"Reprojecting SVI data from {svi_df.crs} to {target_crs}\")\n",
        "        svi_df = svi_df.to_crs(target_crs)\n",
        "\n",
        "    print(f\"Roads CRS: {roads_df.crs}\")\n",
        "    print(f\"Addresses CRS: {address_df.crs}\")\n",
        "    print(f\"SVI CRS: {svi_df.crs}\")\n",
        "\n",
        "    return address_df, svi_df, roads_df"
      ]
    },
    {
      "cell_type": "code",
      "execution_count": 6,
      "metadata": {
        "colab": {
          "base_uri": "https://localhost:8080/"
        },
        "id": "_VyWusGsMw8_",
        "outputId": "593380e8-4524-44d5-fea5-2004be7f27cd"
      },
      "outputs": [
        {
          "output_type": "stream",
          "name": "stdout",
          "text": [
            "Importing data...\n",
            "Importing addresses...\n",
            "Imported 102761 addresses.\n",
            "Importing SVI data...\n",
            "Imported SVI data for 1701 tracts.\n",
            "Importing roads...\n",
            "Imported 13778 road segments.\n",
            "Setting CRS to EPSG:32618 for all datasets...\n",
            "Reprojecting roads from EPSG:4326 to EPSG:32618\n",
            "Reprojecting addresses from EPSG:4326 to EPSG:32618\n",
            "Reprojecting SVI data from EPSG:4269 to EPSG:32618\n",
            "Roads CRS: EPSG:32618\n",
            "Addresses CRS: EPSG:32618\n",
            "SVI CRS: EPSG:32618\n"
          ]
        }
      ],
      "source": [
        "# Define file paths\n",
        "address_file = '/content/drive/MyDrive/Colab Notebooks/data/chattanooga.geojson'\n",
        "svi_file = \"/content/drive/MyDrive/Colab Notebooks/data/SVI2022_TENNESSEE_tract.gdb\"\n",
        "roads_file = '/content/drive/MyDrive/Colab Notebooks/data/tl_2023_47065_roads.shp'\n",
        "\n",
        "# Import data\n",
        "address_df, svi_df, roads_df, samples_dict = import_data(address_file, svi_file, roads_file)\n",
        "\n",
        "# Set CRS\n",
        "address_df, svi_df, roads_df = set_crs(address_df, svi_df, roads_df)"
      ]
    },
    {
      "cell_type": "code",
      "source": [
        "# The below gives us an idea as to what our options for FIPS codes are\n",
        "\n",
        "# Perform a spatial join between address_df and svi_df\n",
        "address_svi_joined = gpd.sjoin(address_df, svi_df, how=\"left\", predicate='intersects')\n",
        "\n",
        "# Group the joined dataframe by FIPS code and count the number of addresses in each group\n",
        "address_by_fips = address_svi_joined.groupby('FIPS').size()\n",
        "\n",
        "# Sort by count\n",
        "address_by_fips = address_by_fips.sort_values(ascending=False)\n",
        "\n",
        "# Print the distribution of addresses by FIPS code\n",
        "print(address_by_fips)"
      ],
      "metadata": {
        "colab": {
          "base_uri": "https://localhost:8080/"
        },
        "id": "JB7fwTfIcMnp",
        "outputId": "d7f1b756-3dcd-4b0a-95cb-804cf59f3678"
      },
      "execution_count": 7,
      "outputs": [
        {
          "output_type": "stream",
          "name": "stdout",
          "text": [
            "FIPS\n",
            "47065011321    3756\n",
            "47065010432    3461\n",
            "47065010431    3394\n",
            "47065012100    3385\n",
            "47065011402    2858\n",
            "               ... \n",
            "47065980100      25\n",
            "47065011314      24\n",
            "47065011324      18\n",
            "47115050201       8\n",
            "47065010306       1\n",
            "Length: 72, dtype: int64\n"
          ]
        }
      ]
    },
    {
      "cell_type": "markdown",
      "metadata": {
        "id": "Px4XlQz0SeE6"
      },
      "source": [
        "# Address Filtering for Computational Efficiency"
      ]
    },
    {
      "cell_type": "code",
      "source": [
        "def filter_data_for_target_area(target_area: str,\n",
        "                                address_df: gpd.GeoDataFrame,\n",
        "                                svi_df: gpd.GeoDataFrame,\n",
        "                                roads_df: gpd.GeoDataFrame) -> Tuple[gpd.GeoDataFrame, gpd.GeoDataFrame, gpd.GeoDataFrame]:\n",
        "    \"\"\"\n",
        "    Filter the input data to include only the target tract and its immediate neighbors.\n",
        "\n",
        "    Parameters:\n",
        "    -----------\n",
        "    target_area : str\n",
        "        The FIPS code of the target census tract.\n",
        "    address_df : gpd.GeoDataFrame\n",
        "        GeoDataFrame containing all addresses.\n",
        "    svi_df : gpd.GeoDataFrame\n",
        "        GeoDataFrame containing SVI data for all tracts.\n",
        "    roads_df : gpd.GeoDataFrame\n",
        "        GeoDataFrame containing all road segments.\n",
        "\n",
        "    Returns:\n",
        "    --------\n",
        "    Tuple[gpd.GeoDataFrame, gpd.GeoDataFrame, gpd.GeoDataFrame]\n",
        "        Filtered address_df, svi_df, and roads_df.\n",
        "    \"\"\"\n",
        "    # Get the target tract\n",
        "    target_tract = svi_df[svi_df['FIPS'] == target_area]\n",
        "    if target_tract.empty:\n",
        "        raise ValueError(f\"Target area {target_area} not found in svi_df\")\n",
        "\n",
        "    # Find neighboring tracts\n",
        "    neighboring_tracts = svi_df[svi_df.geometry.touches(target_tract.geometry.iloc[0])]\n",
        "\n",
        "    # Combine target and neighboring tracts\n",
        "    tracts_of_interest = pd.concat([target_tract, neighboring_tracts])\n",
        "\n",
        "    # Create a unified geometry of all tracts of interest\n",
        "    unified_geometry = tracts_of_interest.geometry.unary_union\n",
        "\n",
        "    # Filter address_df\n",
        "    filtered_address_df = address_df[address_df.geometry.within(unified_geometry)]\n",
        "\n",
        "    # Filter roads_df\n",
        "    filtered_roads_df = roads_df[roads_df.intersects(unified_geometry)]\n",
        "\n",
        "    # Filter svi_df\n",
        "    filtered_svi_df = tracts_of_interest\n",
        "\n",
        "    print(f\"Filtered {len(filtered_address_df)} addresses, {len(filtered_roads_df)} road segments, and {len(filtered_svi_df)} census tracts.\")\n",
        "\n",
        "    return filtered_address_df, filtered_svi_df, filtered_roads_df\n",
        "\n",
        "# Usage\n",
        "target_area = FIPS_TARGET\n",
        "address_df, svi_df, roads_df = filter_data_for_target_area(target_area, address_df, svi_df, roads_df)\n"
      ],
      "metadata": {
        "colab": {
          "base_uri": "https://localhost:8080/"
        },
        "id": "RugsOhz4Z9BT",
        "outputId": "0b3bb300-2be0-4e80-e45e-c4743ba65f72"
      },
      "execution_count": 8,
      "outputs": [
        {
          "output_type": "stream",
          "name": "stderr",
          "text": [
            "<ipython-input-8-8168cfef8d37>:36: DeprecationWarning: The 'unary_union' attribute is deprecated, use the 'union_all()' method instead.\n",
            "  unified_geometry = tracts_of_interest.geometry.unary_union\n"
          ]
        },
        {
          "output_type": "stream",
          "name": "stdout",
          "text": [
            "Filtered 11919 addresses, 796 road segments, and 6 census tracts.\n"
          ]
        }
      ]
    },
    {
      "cell_type": "markdown",
      "metadata": {
        "id": "4OkpXWd-PTRt"
      },
      "source": [
        "# Graph Creation"
      ]
    },
    {
      "cell_type": "code",
      "execution_count": 9,
      "metadata": {
        "id": "7DfF_mJHPCPQ"
      },
      "outputs": [],
      "source": [
        "def create_graph_from_roads_and_addresses(roads_gdf: gpd.GeoDataFrame, address_gdf: gpd.GeoDataFrame, target_crs='EPSG:32618') -> nx.Graph:\n",
        "    print(f\"Creating graph in CRS: {target_crs}\")\n",
        "\n",
        "    # Ensure both GeoDataFrames are in the target CRS\n",
        "    if roads_gdf.crs != target_crs:\n",
        "        roads_gdf = roads_gdf.to_crs(target_crs)\n",
        "    if address_gdf.crs != target_crs:\n",
        "        address_gdf = address_gdf.to_crs(target_crs)\n",
        "\n",
        "    G = nx.Graph()\n",
        "\n",
        "    # Add roads to the graph\n",
        "    for idx, row in roads_gdf.iterrows():\n",
        "        if row.geometry.geom_type == 'LineString':\n",
        "            coords = list(row.geometry.coords)\n",
        "            for start, end in zip(coords[:-1], coords[1:]):\n",
        "                G.add_edge(start, end, geometry=LineString([start, end]), length=Point(start).distance(Point(end)))\n",
        "        else:\n",
        "            print(f\"Skipping non-LineString geometry at index {idx}\")\n",
        "\n",
        "    print(f\"Added {G.number_of_edges()} road segments to the graph\")\n",
        "\n",
        "    # Create a spatial index for efficient nearest edge lookup\n",
        "    edges = list(G.edges(data=True))\n",
        "    edge_geoms = [data['geometry'] for _, _, data in edges]\n",
        "    spatial_index = rtree.index.Index()\n",
        "    for idx, geom in enumerate(edge_geoms):\n",
        "        spatial_index.insert(idx, geom.bounds)\n",
        "\n",
        "    print(f\"Created spatial index with {len(edge_geoms)} edges\")\n",
        "\n",
        "    # Dictionary to store addresses projecting to the same point\n",
        "    projected_points = defaultdict(list)\n",
        "    skipped_points = []\n",
        "\n",
        "    MAX_GROUP_DISTANCE = 10  # meters\n",
        "\n",
        "    # First pass: project all addresses and group them\n",
        "    for idx, row in address_gdf.iterrows():\n",
        "        point = row.geometry\n",
        "        point_id = row['hash']  # Use 'hash' as point_id\n",
        "\n",
        "        # Find the nearest edge using the spatial index\n",
        "        nearest_indices = list(spatial_index.nearest(point.bounds, 1))\n",
        "        if not nearest_indices:\n",
        "            print(f\"No nearest edge found for address {idx}\")\n",
        "            skipped_points.append(point_id)\n",
        "            continue\n",
        "        nearest_idx = nearest_indices[0]\n",
        "        nearest_edge = edges[nearest_idx]\n",
        "        edge_geom = nearest_edge[2]['geometry']\n",
        "\n",
        "        # Project the point onto the nearest edge\n",
        "        nearest_point = edge_geom.interpolate(edge_geom.project(point))\n",
        "\n",
        "        # Move the projected point slightly towards the original point\n",
        "        vector = Point(point.x - nearest_point.x, point.y - nearest_point.y)\n",
        "        magnitude = math.sqrt(vector.x ** 2 + vector.y ** 2)\n",
        "        if magnitude > 0:\n",
        "            unit_vector = Point(vector.x / magnitude, vector.y / magnitude)\n",
        "            offset_distance = min(magnitude, 5)  # max 5 meters offset\n",
        "            projected_point = Point(nearest_point.x + unit_vector.x * offset_distance,\n",
        "                                    nearest_point.y + unit_vector.y * offset_distance)\n",
        "        else:\n",
        "            projected_point = nearest_point\n",
        "\n",
        "        node_coords = (round(projected_point.x, 6), round(projected_point.y, 6))\n",
        "\n",
        "        # Store the address information for this projected point\n",
        "        projected_points[node_coords].append({\n",
        "            'original_point': point,\n",
        "            'address_id': idx,\n",
        "            'point_id': point_id\n",
        "        })\n",
        "\n",
        "    print(f\"Total unique projected points: {len(projected_points)}\")\n",
        "    print(f\"Total skipped points: {len(skipped_points)}\")\n",
        "\n",
        "    def group_addresses(addresses):\n",
        "        grouped = []\n",
        "        for addr in addresses:\n",
        "            if not grouped or all(addr['original_point'].distance(g['original_point']) > MAX_GROUP_DISTANCE for g in grouped):\n",
        "                grouped.append(addr)\n",
        "        return grouped\n",
        "\n",
        "    # Analyze grouped addresses\n",
        "    grouped_address_counts = [len(addresses) for addresses in projected_points.values() if len(addresses) > 1]\n",
        "    print(f\"Number of points with multiple addresses: {len(grouped_address_counts)}\")\n",
        "    print(f\"Distribution of grouped address counts: {Counter(grouped_address_counts)}\")\n",
        "\n",
        "    non_zero_distance_groups = 0\n",
        "    for node_coords, addresses in projected_points.items():\n",
        "        if len(addresses) > 1:\n",
        "            distances = [addresses[0]['original_point'].distance(addr['original_point']) for addr in addresses[1:]]\n",
        "            max_distance = max(distances)\n",
        "            if max_distance > 0.00:\n",
        "                non_zero_distance_groups += 1\n",
        "                print(f\"Grouped addresses at {node_coords}:\")\n",
        "                print(f\"  Number of addresses: {len(addresses)}\")\n",
        "                print(f\"  Max distance between addresses: {max_distance:.2f} meters\")\n",
        "                print(f\"  Original coordinates:\")\n",
        "                for addr in addresses:\n",
        "                    print(f\"    {addr['original_point'].coords[0]}\")\n",
        "\n",
        "    print(f\"Number of address groups with non-zero distances: {non_zero_distance_groups}\")\n",
        "\n",
        "    # Second pass: add nodes and connect them to the graph\n",
        "    point_id_to_coords = {}  # New dictionary to store point_id to coordinates mapping\n",
        "    address_nodes_added = 0\n",
        "    for node_coords, addresses in projected_points.items():\n",
        "        grouped_addresses = group_addresses(addresses)\n",
        "        G.add_node(node_coords,\n",
        "                   type='address',\n",
        "                   addresses=grouped_addresses,\n",
        "                   projected_coord=node_coords,\n",
        "                   original_coords=[addr['original_point'].coords[0] for addr in grouped_addresses])\n",
        "\n",
        "        for addr in grouped_addresses:\n",
        "            point_id_to_coords[addr['point_id']] = node_coords\n",
        "\n",
        "        address_nodes_added += 1\n",
        "\n",
        "        # Find the nearest edge again (we need to do this to get the edge endpoints)\n",
        "        nearest_indices = list(spatial_index.nearest(Point(node_coords).bounds, 1))\n",
        "        if not nearest_indices:\n",
        "            print(f\"No nearest edge found for node {node_coords}\")\n",
        "            continue\n",
        "        nearest_idx = nearest_indices[0]\n",
        "        nearest_edge = edges[nearest_idx]\n",
        "\n",
        "        # Connect the address node to the endpoints of the nearest edge\n",
        "        G.add_edge(node_coords, nearest_edge[0], length=Point(node_coords).distance(Point(nearest_edge[0])))\n",
        "        G.add_edge(node_coords, nearest_edge[1], length=Point(node_coords).distance(Point(nearest_edge[1])))\n",
        "\n",
        "    # Add the point_id_to_coords mapping to the graph object\n",
        "    G.graph['point_id_to_coords'] = point_id_to_coords\n",
        "    G.graph['crs'] = target_crs\n",
        "\n",
        "    total_addresses_processed = sum(len(addresses) for addresses in projected_points.values())\n",
        "    print(f\"Total addresses processed: {total_addresses_processed}\")\n",
        "    print(f\"Unique projected points: {len(projected_points)}\")\n",
        "    print(f\"Addresses per projected point: {total_addresses_processed / len(projected_points):.2f}\")\n",
        "    print(f\"Total address nodes added to the graph: {address_nodes_added}\")\n",
        "    print(f\"Final graph: {len(G.nodes())} nodes, {len(G.edges())} edges\")\n",
        "    print(f\"Number of point_ids in mapping: {len(point_id_to_coords)}\")\n",
        "    print(f\"Number of skipped points: {len(skipped_points)}\")\n",
        "\n",
        "    return G"
      ]
    },
    {
      "cell_type": "code",
      "execution_count": 10,
      "metadata": {
        "id": "-LQubQ5sDXbU"
      },
      "outputs": [],
      "source": [
        "def verify_graph(G):\n",
        "    print()\n",
        "    address_nodes = [node for node, data in G.nodes(data=True) if data.get('type') == 'address']\n",
        "    print(f\"Number of address nodes: {len(address_nodes)}\")\n",
        "    print(f\"Sample of address nodes: {address_nodes[:5]}\")\n",
        "    print(\"Graph attributes after projection:\")\n",
        "    print(G.graph.keys())\n",
        "    print(\"point_id_to_coords in projected graph:\")\n",
        "    print(len(G.graph.get('point_id_to_coords', {})))\n",
        "    print(\"Sample of point_id_to_coords after projection:\")\n",
        "    print(list(G.graph['point_id_to_coords'].items())[:5])\n",
        "    print(\"Number of total nodes in projected graph:\", G.number_of_nodes())\n",
        "    print(\"Number of total edges in projected graph:\", G.number_of_edges())\n",
        "    print()\n",
        "    connected_components = list(nx.connected_components(G))\n",
        "    print(f\"Number of connected components: {len(connected_components)}\")\n",
        "    if len(connected_components) > 1:\n",
        "        print(\"Graph is not fully connected!\")\n",
        "        print(f\"Sizes of components: {[len(c) for c in connected_components]}\")\n",
        "\n",
        "    isolated_nodes = list(nx.isolates(G))\n",
        "    print(f\"Number of isolated nodes: {len(isolated_nodes)}\")\n",
        "    if isolated_nodes:\n",
        "        print(f\"Sample of isolated nodes: {isolated_nodes[:10]}\")"
      ]
    },
    {
      "cell_type": "code",
      "execution_count": null,
      "metadata": {
        "colab": {
          "base_uri": "https://localhost:8080/"
        },
        "collapsed": true,
        "id": "gkN3hLlhzCny",
        "outputId": "f5077ca3-2bcb-4df1-d7a1-8d460773bd71"
      },
      "outputs": [
        {
          "output_type": "stream",
          "name": "stdout",
          "text": [
            "Creating graph in CRS: EPSG:32618\n",
            "Added 14169 road segments to the graph\n",
            "Created spatial index with 14169 edges\n"
          ]
        }
      ],
      "source": [
        "# Create the graph in the target CRS\n",
        "G = create_graph_from_roads_and_addresses(roads_df, address_df, target_crs='EPSG:32618')\n",
        "\n",
        "# Validation step\n",
        "verify_graph(G)"
      ]
    },
    {
      "cell_type": "markdown",
      "metadata": {
        "id": "Z0rDP7UiJE0Z"
      },
      "source": [
        "# Euclidean Elasticity with Decay"
      ]
    },
    {
      "cell_type": "code",
      "execution_count": null,
      "metadata": {
        "id": "PkIWnBEVJO1U"
      },
      "outputs": [],
      "source": [
        "def calculate_euclidean_inverse_elasticity(\n",
        "    target_area_data: gpd.GeoDataFrame,\n",
        "    point_gdf: gpd.GeoDataFrame,\n",
        "    area_index_gdf: gpd.GeoDataFrame,\n",
        "    lambda_param: float = 0.001,\n",
        "    beta: float = 1,\n",
        "    index_column: str = 'RPL_THEMES',\n",
        "    area_id_column: str = 'FIPS'\n",
        ") -> pd.DataFrame:\n",
        "    print(\"Starting calculate_euclidean_inverse_elasticity\")\n",
        "    print(f\"Points in point_gdf: {len(point_gdf)}\")\n",
        "\n",
        "    target_geometry = target_area_data.geometry\n",
        "    print(f\"Target area size: {target_geometry.area}\")\n",
        "\n",
        "    points_within = point_gdf[point_gdf.geometry.within(target_geometry)]\n",
        "    print(f\"Points within target area: {len(points_within)}\")\n",
        "\n",
        "    neighboring_areas = area_index_gdf[area_index_gdf.geometry.touches(target_geometry)]\n",
        "    print(f\"Number of neighboring areas: {len(neighboring_areas)}\")\n",
        "\n",
        "    results = []\n",
        "    for _, point in points_within.iterrows():\n",
        "        point_geom = point.geometry\n",
        "        point_id = point['hash']\n",
        "\n",
        "        for _, neighbor_area in neighboring_areas.iterrows():\n",
        "            nearest_point = nearest_points(point_geom, neighbor_area.geometry)[1]\n",
        "            distance = point_geom.distance(nearest_point)\n",
        "\n",
        "            target_index = target_area_data[index_column]\n",
        "            neighbor_index = neighbor_area[index_column]\n",
        "            index_difference = abs(target_index - neighbor_index)\n",
        "\n",
        "            if index_difference == 0:\n",
        "                inverse_elasticity = float('inf')\n",
        "            else:\n",
        "                inverse_elasticity = np.exp(-lambda_param * distance) / (index_difference ** beta)\n",
        "\n",
        "            results.append({\n",
        "                'target_area': target_area_data[area_id_column],\n",
        "                'point_id': point_id,\n",
        "                'neighbor_area': neighbor_area[area_id_column],\n",
        "                'distance_euclidean': distance,\n",
        "                'inverse_elasticity_euclidean': inverse_elasticity\n",
        "            })\n",
        "\n",
        "    print(f\"Total results calculated: {len(results)}\")\n",
        "    return pd.DataFrame(results)"
      ]
    },
    {
      "cell_type": "markdown",
      "metadata": {
        "id": "dBHY7jxtW9es"
      },
      "source": [
        "# Network Elasticity with Decay"
      ]
    },
    {
      "cell_type": "code",
      "execution_count": null,
      "metadata": {
        "id": "SNPPK0nJbLWw"
      },
      "outputs": [],
      "source": [
        "def calculate_network_inverse_elasticity(\n",
        "    G: nx.Graph,\n",
        "    target_area_data: pd.Series,\n",
        "    point_gdf: gpd.GeoDataFrame,\n",
        "    area_index_gdf: gpd.GeoDataFrame,\n",
        "    euclidean_results: pd.DataFrame,\n",
        "    lambda_param: float = 0.001,\n",
        "    beta: float = 1,\n",
        "    index_column: str = 'RPL_THEMES',\n",
        "    area_id_column: str = 'FIPS'\n",
        ") -> pd.DataFrame:\n",
        "    target_geometry = target_area_data.geometry\n",
        "    points_within = point_gdf[point_gdf.geometry.within(target_geometry)]\n",
        "    neighboring_areas = area_index_gdf[area_index_gdf.geometry.touches(target_geometry)]\n",
        "\n",
        "    point_to_node = G.graph.get('point_id_to_coords', {})\n",
        "\n",
        "    # Precompute nearest nodes for neighboring areas\n",
        "    neighbor_nodes = {}\n",
        "    for _, neighbor_area in neighboring_areas.iterrows():\n",
        "        nearest_point = nearest_points(target_geometry.centroid, neighbor_area.geometry)[1]\n",
        "        neighbor_nodes[neighbor_area[area_id_column]] = min(G.nodes(), key=lambda n: Point(n).distance(nearest_point))\n",
        "\n",
        "    # Create a dictionary for fast lookup of euclidean distances\n",
        "    euclidean_distances = euclidean_results.set_index(['point_id', 'neighbor_area'])['distance_euclidean'].to_dict()\n",
        "\n",
        "    results = []\n",
        "    failed_points = []\n",
        "    for _, row in points_within.iterrows():\n",
        "        point_id = row['hash']\n",
        "        point_node = point_to_node.get(point_id)\n",
        "        if point_node is None:\n",
        "            #print(f\"Point node not found for point_id: {point_id}\")\n",
        "            failed_points.append(('missing_node', point_id))\n",
        "            continue\n",
        "\n",
        "        for _, neighbor_area in neighboring_areas.iterrows():\n",
        "            neighbor_id = neighbor_area[area_id_column]\n",
        "            neighbor_node = neighbor_nodes[neighbor_id]\n",
        "            euclidean_distance = euclidean_distances.get((point_id, neighbor_id), 0)\n",
        "\n",
        "            try:\n",
        "                network_distance = nx.astar_path_length(G, point_node, neighbor_node,\n",
        "                                                        heuristic=lambda u, v: euclidean_distance,\n",
        "                                                        weight='length')\n",
        "                used_euclidean_fallback = False\n",
        "            except nx.NetworkXNoPath:\n",
        "                print(f\"No path found between {point_id} and {neighbor_id}\")\n",
        "                failed_points.append(('no_path', point_id, neighbor_id))\n",
        "                network_distance = euclidean_distance\n",
        "                used_euclidean_fallback = True\n",
        "\n",
        "            index_difference = abs(target_area_data[index_column] - neighbor_area[index_column])\n",
        "\n",
        "            if index_difference == 0:\n",
        "                inverse_elasticity = float('inf')\n",
        "            else:\n",
        "                inverse_elasticity = np.exp(-lambda_param * network_distance) / (index_difference ** beta)\n",
        "\n",
        "            results.append({\n",
        "                'target_area': target_area_data[area_id_column],\n",
        "                'point_id': point_id,\n",
        "                'neighbor_area': neighbor_id,\n",
        "                'network_distance': network_distance,\n",
        "                'inverse_elasticity_network': inverse_elasticity,\n",
        "                'used_euclidean_fallback': used_euclidean_fallback\n",
        "            })\n",
        "\n",
        "    print(f\"Total failed points: {len(failed_points)}\")\n",
        "    print(f\"Failed points sample: {failed_points[:10]}\")\n",
        "\n",
        "    return pd.DataFrame(results)"
      ]
    },
    {
      "cell_type": "markdown",
      "metadata": {
        "id": "c2PuELYQJXqi"
      },
      "source": [
        "#Combine Elasticities"
      ]
    },
    {
      "cell_type": "code",
      "execution_count": null,
      "metadata": {
        "id": "xEZ-28EbJgud"
      },
      "outputs": [],
      "source": [
        "def combine_elasticities_and_calculate_weighted_index(network_df, euclidean_df, area_index_gdf, network_weight=0.7, index_column='RPL_THEMES', area_id_column='FIPS'):\n",
        "    print(f\"Starting combine_elasticities_and_calculate_weighted_index\")\n",
        "    print(f\"Network df shape: {network_df.shape}, Euclidean df shape: {euclidean_df.shape}\")\n",
        "\n",
        "    if network_df.empty:\n",
        "        print(\"Warning: Network DataFrame is empty. Proceeding with Euclidean results only.\")\n",
        "        combined_df = euclidean_df.copy()\n",
        "        combined_df['combined_inverse_elasticity'] = combined_df['inverse_elasticity_euclidean']\n",
        "        combined_df['combined_distance'] = combined_df['distance_euclidean']\n",
        "    else:\n",
        "        print(f\"Distribution of eucidean fallbacks:\")\n",
        "        print(network_df['used_euclidean_fallback'].value_counts())\n",
        "\n",
        "        combined_df = pd.merge(euclidean_df, network_df,\n",
        "                               on=['target_area', 'neighbor_area', 'point_id'],\n",
        "                               how='left')\n",
        "        print(f\"Combined df shape after merge: {combined_df.shape}\")\n",
        "\n",
        "        # Check for any rows where network data is missing\n",
        "        network_nulls = combined_df[combined_df['network_distance'].isnull()]\n",
        "        print(f\"Rows missing network data: {len(network_nulls)}\")\n",
        "\n",
        "        # Calculate combined inverse elasticity and distance\n",
        "        euclidean_weight = 1 - network_weight\n",
        "        combined_df['combined_inverse_elasticity'] = np.where(\n",
        "            combined_df['inverse_elasticity_network'].isnull(),\n",
        "            combined_df['inverse_elasticity_euclidean'],\n",
        "            network_weight * combined_df['inverse_elasticity_network'] + euclidean_weight * combined_df['inverse_elasticity_euclidean']\n",
        "        )\n",
        "        combined_df['combined_distance'] = np.where(\n",
        "            combined_df['network_distance'].isnull(),\n",
        "            combined_df['distance_euclidean'],\n",
        "            network_weight * combined_df['network_distance'] + euclidean_weight * combined_df['distance_euclidean']\n",
        "        )\n",
        "\n",
        "    # Prepare for weighted index calculation\n",
        "    target_indices = area_index_gdf.set_index(area_id_column)[index_column]\n",
        "    combined_df['target_index'] = combined_df['target_area'].map(target_indices)\n",
        "    combined_df['neighbor_index'] = combined_df['neighbor_area'].map(target_indices)\n",
        "\n",
        "    # Calculate weights\n",
        "    grouped = combined_df.groupby('point_id')\n",
        "    total_weights = grouped['combined_inverse_elasticity'].transform('sum')\n",
        "    combined_df['weight'] = combined_df['combined_inverse_elasticity'] / total_weights\n",
        "\n",
        "    # Calculate weighted index difference for each point-neighbor combination\n",
        "    combined_df['weighted_diff'] = (combined_df['neighbor_index'] - combined_df['target_index']) * combined_df['weight']\n",
        "\n",
        "    # Aggregate the results\n",
        "    weighted_index_df = grouped.agg({\n",
        "        'target_area': 'first',\n",
        "        'target_index': 'first',\n",
        "        'weighted_diff': 'sum',\n",
        "    }).reset_index()\n",
        "\n",
        "    weighted_index_df['neighbor_count'] = grouped.size().values\n",
        "    weighted_index_df['weighted_index'] = weighted_index_df['target_index'] + weighted_index_df['weighted_diff']\n",
        "\n",
        "    print(f\"Final weighted index df shape: {weighted_index_df.shape}\")\n",
        "    print(f\"Number of unique point_ids: {weighted_index_df['point_id'].nunique()}\")\n",
        "    print(f\"Distribution of number of neighboring areas per point:\")\n",
        "    print(weighted_index_df['neighbor_count'].describe())\n",
        "\n",
        "    return weighted_index_df[['target_area', 'point_id', 'weighted_index']]"
      ]
    },
    {
      "cell_type": "markdown",
      "metadata": {
        "id": "evNSldeiJjXi"
      },
      "source": [
        "#Processing by Tract"
      ]
    },
    {
      "cell_type": "code",
      "execution_count": null,
      "metadata": {
        "id": "5r_GMT_qTbw5"
      },
      "outputs": [],
      "source": [
        "def process_target_area(target_area, area_index_gdf, point_gdf, G, lambda_param=0.001, beta=1, network_weight=0.7, index_column='RPL_THEMES', area_id_column='FIPS'):\n",
        "    print(f\"Starting combined process for target area: {target_area}\")\n",
        "\n",
        "    target_area_data = area_index_gdf[area_index_gdf[area_id_column] == target_area].iloc[0]\n",
        "\n",
        "    print(\"Graph attributes after creation:\")\n",
        "    print(G.graph.keys())\n",
        "    print(\"point_id_to_coords in graph (after creation):\")\n",
        "    print(len(G.graph.get('point_id_to_coords', {})))\n",
        "    print(list(G.graph.get('point_id_to_coords', {}).items())[:5])\n",
        "\n",
        "    # Calculate Euclidean-based inverse elasticity first\n",
        "    euclidean_result = calculate_euclidean_inverse_elasticity(target_area_data, point_gdf, area_index_gdf, lambda_param, beta, index_column, area_id_column)\n",
        "\n",
        "    print(\"Graph attributes just before calculate_network_inverse_elasticity:\")\n",
        "    print(G.graph.keys())\n",
        "    print(\"point_id_to_coords in graph (just before calculate_network_inverse_elasticity):\")\n",
        "    print(len(G.graph.get('point_id_to_coords', {})))\n",
        "\n",
        "    # Calculate network-based inverse elasticity using Euclidean results as heuristics\n",
        "    network_result = calculate_network_inverse_elasticity(G, target_area_data, point_gdf, area_index_gdf, euclidean_result, lambda_param, beta, index_column, area_id_column)\n",
        "\n",
        "    # Ensure both results have a 'target_area' column\n",
        "    if 'target_area' not in network_result.columns:\n",
        "        network_result['target_area'] = target_area\n",
        "    if 'target_area' not in euclidean_result.columns:\n",
        "        euclidean_result['target_area'] = target_area\n",
        "\n",
        "    # Combine the results and calculate weighted index\n",
        "    combined_result = combine_elasticities_and_calculate_weighted_index(\n",
        "        network_result, euclidean_result, area_index_gdf, network_weight, index_column, area_id_column\n",
        "    )\n",
        "\n",
        "    print(f\"Rows in combined result: {len(combined_result)}\")\n",
        "\n",
        "    return combined_result\n"
      ]
    },
    {
      "cell_type": "code",
      "source": [
        "def verify_point_id_mapping(G, point_gdf):\n",
        "    point_ids_in_gdf = set(point_gdf['hash'])\n",
        "    point_ids_in_graph = set(G.graph['point_id_to_coords'].keys())\n",
        "\n",
        "    missing_ids = point_ids_in_gdf - point_ids_in_graph\n",
        "    extra_ids = point_ids_in_graph - point_ids_in_gdf\n",
        "\n",
        "    print(f\"Number of point_ids in GeoDataFrame: {len(point_ids_in_gdf)}\")\n",
        "    print(f\"Number of point_ids in Graph mapping: {len(point_ids_in_graph)}\")\n",
        "    print(f\"Number of missing point_ids: {len(missing_ids)}\")\n",
        "    print(f\"Number of extra point_ids: {len(extra_ids)}\")\n",
        "\n",
        "    if missing_ids:\n",
        "        print(f\"Sample of missing point_ids: {list(missing_ids)[:10]}\")\n",
        "\n",
        "# Call this function before calculate_network_inverse_elasticity\n",
        "verify_point_id_mapping(G, address_df)"
      ],
      "metadata": {
        "id": "1G8D0brLDJEP"
      },
      "execution_count": null,
      "outputs": []
    },
    {
      "cell_type": "markdown",
      "metadata": {
        "id": "Z5WTCFwUJywU"
      },
      "source": [
        "# Execution Step"
      ]
    },
    {
      "cell_type": "markdown",
      "metadata": {
        "id": "6Ji83KWFKPZq"
      },
      "source": [
        "*   Increase lambda_param to make the influence decay more quickly\n",
        "with distance.\n",
        "*   Decrease lambda_param to allow influence to extend further.\n",
        "*   Increase beta to make the function more sensitive to SVI differences.\n",
        "*   Decrease beta to make the function less sensitive to SVI differences."
      ]
    },
    {
      "cell_type": "markdown",
      "metadata": {
        "id": "_yhDIBiEKoDL"
      },
      "source": [
        "\n",
        "---\n",
        "\n",
        "As the network_weight increases (approaches 1):\n",
        "\n",
        "More weight is given to the network-based distance and inverse elasticity calculations.\n",
        "\n",
        "Less weight is given to the Euclidean-based calculations.\n",
        "\n",
        "So:\n",
        "\n",
        "When network_weight = 1: The result is based entirely on network distance (road network).\n",
        "\n",
        "When network_weight = 0: The result is based entirely on Euclidean distance (straight-line).\n",
        "\n",
        "When network_weight = 0.7 (as in the example): The result is 70% influenced by network distance and 30% by Euclidean distance.\n",
        "\n",
        "---\n",
        "\n",
        "target_area: The specific area to analyze\n",
        "\n",
        "svi_df: DataFrame containing SVI (Social Vulnerability Index) data\n",
        "\n",
        "address_df: DataFrame containing address point data\n",
        "\n",
        "G_projected: Projected NetworkX graph object\n",
        "\n",
        "lambda_param: The decay parameter\n",
        "\n",
        "beta: The exponent for index difference sensitivity\n",
        "\n",
        "network_weight: The weight given to network-based calculations vs. Euclidean-based calculations\n",
        "\n",
        "index_column: The name of the column containing the index values (SVI in this case)\n",
        "\n",
        "area_id_column: The name of the column containing area identifiers"
      ]
    },
    {
      "cell_type": "code",
      "execution_count": null,
      "metadata": {
        "collapsed": true,
        "id": "nWYoXQeCJ1jQ"
      },
      "outputs": [],
      "source": [
        "# Usage\n",
        "target_area = FIPS_TARGET\n",
        "lambda_param = 0.0015\n",
        "beta = 0.96\n",
        "network_weight = 0.7\n",
        "\n",
        "combined_result_df = process_target_area(\n",
        "    target_area,\n",
        "    svi_df,\n",
        "    address_df,\n",
        "    G,\n",
        "    lambda_param,\n",
        "    beta,\n",
        "    network_weight,\n",
        "    index_column='RPL_THEMES',\n",
        "    area_id_column='FIPS'\n",
        ")"
      ]
    },
    {
      "cell_type": "markdown",
      "source": [],
      "metadata": {
        "id": "B7ww1ahN-av4"
      }
    },
    {
      "cell_type": "markdown",
      "metadata": {
        "id": "71sbvXuEoeXG"
      },
      "source": [
        "# Index combination with elasticity set"
      ]
    },
    {
      "cell_type": "code",
      "execution_count": null,
      "metadata": {
        "id": "DNu3nzQSBBTY"
      },
      "outputs": [],
      "source": [
        "def combine_and_compare_svi(combined_result_df, address_df, svi_df):\n",
        "    \"\"\"\n",
        "    Combines the calculated weighted index with the original address data and compares it to the tract-level SVI.\n",
        "\n",
        "    Parameters:\n",
        "    combined_result_df (pd.DataFrame): Result from process_target_area function\n",
        "    address_df (pd.DataFrame): Original address DataFrame\n",
        "    svi_df (pd.DataFrame): Original SVI DataFrame\n",
        "\n",
        "    Returns:\n",
        "    pd.DataFrame: DataFrame with address-level and tract-level SVI, and their difference\n",
        "    \"\"\"\n",
        "    # Rename 'hash' to 'point_id' in address_df for clarity\n",
        "    address_df = address_df.rename(columns={'hash': 'point_id'})\n",
        "\n",
        "    # Perform the join\n",
        "    address_df_with_svi = address_df.merge(combined_result_df, on='point_id', how='left')\n",
        "\n",
        "    # Ensure the result is a GeoDataFrame\n",
        "    address_df_with_svi = gpd.GeoDataFrame(address_df_with_svi, geometry='geometry', crs=address_df.crs)\n",
        "\n",
        "    # Join the census tract SVI to the address_df_with_svi\n",
        "    address_df_with_both_svi = address_df_with_svi.merge(\n",
        "        svi_df[['FIPS', 'RPL_THEMES']],\n",
        "        left_on='target_area',\n",
        "        right_on='FIPS',\n",
        "        how='left'\n",
        "    )\n",
        "\n",
        "    # Rename the columns for clarity\n",
        "    address_df_with_both_svi = address_df_with_both_svi.rename(columns={\n",
        "        'weighted_index': 'address_level_svi',\n",
        "        'RPL_THEMES': 'tract_level_svi'\n",
        "    })\n",
        "\n",
        "    # Calculate the difference between the two SVI measures\n",
        "    address_df_with_both_svi['svi_difference'] = address_df_with_both_svi['address_level_svi'] - address_df_with_both_svi['tract_level_svi']\n",
        "\n",
        "    return address_df_with_both_svi"
      ]
    },
    {
      "cell_type": "markdown",
      "metadata": {
        "id": "d-SSrZE1IbZg"
      },
      "source": [
        "# Final Sanitization and Dataset Creation"
      ]
    },
    {
      "cell_type": "code",
      "execution_count": null,
      "metadata": {
        "id": "u04XztMaIgqq"
      },
      "outputs": [],
      "source": [
        "def sanitize_svi_data(df: gpd.GeoDataFrame, address_df: gpd.GeoDataFrame, svi_df: gpd.GeoDataFrame) -> gpd.GeoDataFrame:\n",
        "    \"\"\"\n",
        "    Sanitize the SVI data by removing unnecessary rows and columns, and ordering the data.\n",
        "\n",
        "    Parameters:\n",
        "    -----------\n",
        "    df : gpd.GeoDataFrame\n",
        "        The input GeoDataFrame containing SVI data.\n",
        "    address_df : gpd.GeoDataFrame\n",
        "        The original address GeoDataFrame.\n",
        "    svi_df : gpd.GeoDataFrame\n",
        "        The original SVI GeoDataFrame.\n",
        "\n",
        "    Returns:\n",
        "    --------\n",
        "    gpd.GeoDataFrame\n",
        "        The sanitized GeoDataFrame.\n",
        "\n",
        "    This function performs the following steps:\n",
        "    1. Removes rows without an address level SVI.\n",
        "    2. Removes the 'target_area' column (keeping only 'FIPS').\n",
        "    3. Removes any columns that are completely empty or contain only whitespace.\n",
        "    4. Orders the dataset by city, street, and number (all ascending).\n",
        "    5. Compares the final row count with the original address count for the FIPS code.\n",
        "    \"\"\"\n",
        "    print(\"Starting data sanitization process...\")\n",
        "\n",
        "    # 1. Remove rows without an address level SVI\n",
        "    initial_row_count = len(df)\n",
        "    df = df.dropna(subset=['address_level_svi'])\n",
        "    rows_removed = initial_row_count - len(df)\n",
        "    print(f\"Removed {rows_removed} rows without an address level SVI. {len(df)} rows remaining.\")\n",
        "\n",
        "    # 2. Remove the 'target_area' column\n",
        "    if 'target_area' in df.columns:\n",
        "        df = df.drop(columns=['target_area'])\n",
        "        print(\"Removed 'target_area' column, keeping only 'FIPS'.\")\n",
        "    else:\n",
        "        print(\"'target_area' column not found. No action taken.\")\n",
        "\n",
        "    # 3. Remove any columns that are completely empty or contain only whitespace\n",
        "    initial_column_count = len(df.columns)\n",
        "    df = df.dropna(axis=1, how='all')\n",
        "    df = df.loc[:, df.apply(lambda x: x.astype(str).str.strip().str.len() > 0).any()]\n",
        "    columns_removed = initial_column_count - len(df.columns)\n",
        "    print(f\"Removed {columns_removed} completely empty columns. {len(df.columns)} columns remaining.\")\n",
        "\n",
        "    # 4. Order the dataset\n",
        "    if all(col in df.columns for col in ['city', 'street', 'number']):\n",
        "        df = df.sort_values(['city', 'street', 'number'])\n",
        "        print(\"Ordered dataset by city, street, and number (ascending).\")\n",
        "    else:\n",
        "        print(\"Unable to order dataset. One or more required columns (city, street, number) not found.\")\n",
        "\n",
        "    # 5. Compare final row count with original address count for the FIPS code\n",
        "    if 'FIPS' in df.columns:\n",
        "        fips_code = df['FIPS'].iloc[0]  # Assuming all rows have the same FIPS code\n",
        "\n",
        "        # Perform spatial join between address_df and svi_df\n",
        "        address_with_fips = gpd.sjoin(address_df, svi_df[['FIPS', 'geometry']], how='left', predicate='within')\n",
        "\n",
        "        original_address_count = len(address_with_fips[address_with_fips['FIPS'] == fips_code])\n",
        "        print(f\"Original address count for FIPS {fips_code}: {original_address_count}\")\n",
        "        print(f\"Final row count after sanitization: {len(df)}\")\n",
        "        if original_address_count == len(df):\n",
        "            print(\"Row counts match. All original addresses are present in the final dataset.\")\n",
        "        else:\n",
        "            print(f\"Warning: Row counts do not match. {abs(original_address_count - len(df))} addresses were added or removed during processing.\")\n",
        "    else:\n",
        "        print(\"Warning: 'FIPS' column not found in the sanitized dataset. Unable to compare row counts.\")\n",
        "\n",
        "    print(\"Data sanitization process completed.\")\n",
        "    return df"
      ]
    },
    {
      "cell_type": "code",
      "execution_count": null,
      "metadata": {
        "id": "ZVfiWhWsImbL"
      },
      "outputs": [],
      "source": [
        "def process_and_compare_svi(combined_result_df, address_df, svi_df):\n",
        "    print(\"\\nProcessing and comparing SVI data...\")\n",
        "    result1_df = combine_and_compare_svi(combined_result_df, address_df, svi_df)\n",
        "    results_df = sanitize_svi_data(result1_df, address_df, svi_df)\n",
        "\n",
        "    print(\"\\nFinal result:\")\n",
        "    print(results_df[['address_level_svi', 'tract_level_svi', 'svi_difference', 'FIPS']].head())\n",
        "\n",
        "    return results_df"
      ]
    },
    {
      "cell_type": "code",
      "execution_count": null,
      "metadata": {
        "id": "kRI7LsRuIr3k"
      },
      "outputs": [],
      "source": [
        "# Final call to sanitize\n",
        "result_df = process_and_compare_svi(combined_result_df, address_df, svi_df)"
      ]
    },
    {
      "cell_type": "markdown",
      "metadata": {
        "id": "fFxq-me1SLBu"
      },
      "source": [
        "# Validation"
      ]
    },
    {
      "cell_type": "code",
      "execution_count": null,
      "metadata": {
        "id": "O95Jdot_FoEi"
      },
      "outputs": [],
      "source": [
        "# Download the result_df dataset as a CSV file.\n",
        "\n",
        "#from google.colab import files\n",
        "#result_df.to_csv('result_df.csv', encoding = 'utf-8-sig')\n",
        "#files.download('result_df.csv')"
      ]
    },
    {
      "cell_type": "code",
      "execution_count": null,
      "metadata": {
        "collapsed": true,
        "id": "HxkBW1iDQRVD"
      },
      "outputs": [],
      "source": [
        "def validate_svi_results(result_df: gpd.GeoDataFrame, output_dir: str = None):\n",
        "    \"\"\"\n",
        "    Validate and visualize the SVI (Social Vulnerability Index) results.\n",
        "\n",
        "    This function generates summary statistics and creates visualizations\n",
        "    to help validate and understand the SVI differences between address-level\n",
        "    and tract-level calculations.\n",
        "\n",
        "    Parameters:\n",
        "    -----------\n",
        "    result_df : gpd.GeoDataFrame\n",
        "        A GeoDataFrame containing the results of SVI calculations. It should\n",
        "        have columns 'svi_difference', 'address_level_svi', and 'tract_level_svi'.\n",
        "    output_dir : str, optional\n",
        "        Directory to save the output plots. If None, plots will be displayed\n",
        "        but not saved.\n",
        "\n",
        "    Returns:\n",
        "    --------\n",
        "    dict\n",
        "        A dictionary containing summary statistics of SVI differences.\n",
        "\n",
        "    Notes:\n",
        "    ------\n",
        "    This function creates three visualizations:\n",
        "    1. A histogram of SVI differences\n",
        "    2. A histogram of address-level SVI with tract-level SVI marked\n",
        "    3. A choropleth map of address-level SVI within the census tract\n",
        "    \"\"\"\n",
        "    # Calculate summary statistics\n",
        "    summary_stats = result_df['svi_difference'].describe()\n",
        "    print(\"\\nSummary statistics of SVI difference:\")\n",
        "    print(summary_stats)\n",
        "\n",
        "    # Write out a sample head\n",
        "    print(\"\\nSample head of the result_df:\")\n",
        "    print(result_df.head())\n",
        "\n",
        "    # Create a histogram of the SVI differences\n",
        "    plt.figure(figsize=(10, 6))\n",
        "    sns.histplot(result_df['svi_difference'], kde=True)\n",
        "    plt.title('Distribution of Differences between Address-level and Tract-level SVI')\n",
        "    plt.xlabel('SVI Difference (Address - Tract)')\n",
        "    plt.ylabel('Count')\n",
        "    if output_dir:\n",
        "        plt.savefig(f\"{output_dir}/svi_difference_histogram.png\")\n",
        "    plt.show()\n",
        "\n",
        "    # Create a histogram of address-level SVI with tract-level SVI marked\n",
        "    plt.figure(figsize=(10, 6))\n",
        "    plt.hist(result_df['address_level_svi'], bins=30, edgecolor='black')\n",
        "    plt.axvline(result_df['tract_level_svi'].iloc[0], color='r', linestyle='dashed', linewidth=2)\n",
        "    plt.title('Distribution of Address-level SVI')\n",
        "    plt.xlabel('SVI')\n",
        "    plt.ylabel('Count')\n",
        "    plt.legend(['Tract-level SVI', 'Address-level SVI'])\n",
        "    if output_dir:\n",
        "        plt.savefig(f\"{output_dir}/address_level_svi_histogram.png\")\n",
        "    plt.show()\n",
        "\n",
        "    # Create a choropleth map of address-level SVI within the census tract\n",
        "    fig, ax = plt.subplots(figsize=(15, 15))\n",
        "    result_df.plot(column='address_level_svi', cmap='YlOrRd',\n",
        "                   legend=True, ax=ax, legend_kwds={'label': 'Address-level SVI'})\n",
        "    plt.title('Address-level SVI within Census Tract')\n",
        "    plt.axis('off')\n",
        "    if output_dir:\n",
        "        plt.savefig(f\"{output_dir}/address_level_svi_map.png\")\n",
        "    plt.show()\n",
        "\n",
        "    return summary_stats.to_dict()"
      ]
    },
    {
      "cell_type": "code",
      "execution_count": null,
      "metadata": {
        "collapsed": true,
        "id": "l2RuIQ6XRnQQ"
      },
      "outputs": [],
      "source": [
        "# Usage\n",
        "summary_stats = validate_svi_results(result_df)\n",
        "\n",
        "print(f\"The mean SVI difference is: {summary_stats['mean']}\")"
      ]
    },
    {
      "cell_type": "markdown",
      "metadata": {
        "id": "ecfuTmC0QQ-5"
      },
      "source": [
        "### Visualization"
      ]
    },
    {
      "cell_type": "code",
      "execution_count": null,
      "metadata": {
        "id": "dUEt3esNlBK3"
      },
      "outputs": [],
      "source": [
        "def visualize_address_svi_with_roads(\n",
        "    result_df: gpd.GeoDataFrame,\n",
        "    target_area: str,\n",
        "    svi_df: gpd.GeoDataFrame,\n",
        "    G: nx.Graph,\n",
        "    output_file: str = None,\n",
        "    padding: float = 0.1\n",
        "):\n",
        "    fig, ax = plt.subplots(figsize=(20, 20))\n",
        "\n",
        "    # Ensure all inputs have the same CRS and it's properly set\n",
        "    target_crs = 'EPSG:32618'  # UTM Zone 18N - adjust if needed for your area\n",
        "\n",
        "    if svi_df.crs is None:\n",
        "        svi_df.set_crs(target_crs, inplace=True)\n",
        "    elif svi_df.crs != target_crs:\n",
        "        svi_df = svi_df.to_crs(target_crs)\n",
        "\n",
        "    if result_df.crs is None:\n",
        "        result_df.set_crs(target_crs, inplace=True)\n",
        "    elif result_df.crs != target_crs:\n",
        "        result_df = result_df.to_crs(target_crs)\n",
        "\n",
        "    # Get the target tract\n",
        "    target_tract = svi_df[svi_df['FIPS'] == target_area].iloc[0]\n",
        "    target_gdf = gpd.GeoDataFrame([target_tract], geometry='geometry', crs=target_crs)\n",
        "\n",
        "    # Find neighboring tracts using a small buffer\n",
        "    buffer_distance = 1  # 1 meter buffer\n",
        "    buffered_geometry = target_tract.geometry.buffer(buffer_distance)\n",
        "    neighboring_tracts = svi_df[svi_df.geometry.intersects(buffered_geometry) & (svi_df['FIPS'] != target_area)]\n",
        "\n",
        "    # Print debugging information about neighbors\n",
        "    print(\"\\nNeighboring tracts found:\")\n",
        "    for idx, neighbor in neighboring_tracts.iterrows():\n",
        "        print(f\"FIPS: {neighbor['FIPS']}, SVI: {neighbor['RPL_THEMES']:.3f}\")\n",
        "\n",
        "    # Create a GeoDataFrame with target and neighboring tracts\n",
        "    all_tracts = gpd.GeoDataFrame(pd.concat([target_gdf, neighboring_tracts], ignore_index=True))\n",
        "\n",
        "    # Calculate bounds\n",
        "    total_bounds = all_tracts.total_bounds\n",
        "    padding_x = (total_bounds[2] - total_bounds[0]) * padding\n",
        "    padding_y = (total_bounds[3] - total_bounds[1]) * padding\n",
        "    bounds = (total_bounds[0] - padding_x, total_bounds[1] - padding_y,\n",
        "              total_bounds[2] + padding_x, total_bounds[3] + padding_y)\n",
        "\n",
        "    # Plot target tract boundary\n",
        "    target_gdf.plot(ax=ax, color='none', edgecolor='red', linewidth=2, zorder=2)\n",
        "\n",
        "    # Plot the address points\n",
        "    result_df_filtered = result_df[result_df['FIPS'] == target_area]\n",
        "    result_df_filtered.plot(column='address_level_svi', cmap='YlOrRd', legend=True,\n",
        "                          ax=ax, legend_kwds={'label': 'Address-level SVI'},\n",
        "                          markersize=20, zorder=3)\n",
        "\n",
        "    # Plot graph edges\n",
        "    edge_gdf = gpd.GeoDataFrame(geometry=[data['geometry'] for _, _, data in G.edges(data=True)\n",
        "                                         if 'geometry' in data and data['geometry'].intersects(box(*bounds))],\n",
        "                               crs=target_crs)\n",
        "    edge_gdf.plot(ax=ax, color='darkgray', linewidth=0.5, alpha=0.5, zorder=1)\n",
        "\n",
        "    # Add label for target tract\n",
        "    target_centroid = target_tract.geometry.centroid\n",
        "    ax.annotate(\n",
        "        f\"Target Tract SVI: {target_tract['RPL_THEMES']:.2f}\",\n",
        "        xy=(target_centroid.x, target_centroid.y),\n",
        "        xytext=(0, 0),  # No offset as we want it centered\n",
        "        textcoords='offset points',\n",
        "        bbox=dict(\n",
        "            boxstyle=\"round,pad=0.5\",\n",
        "            fc=\"lightgreen\",  # Different color for target tract\n",
        "            ec=\"darkgreen\",\n",
        "            alpha=0.6  # More transparent\n",
        "        ),\n",
        "        fontsize=12,\n",
        "        fontweight='bold',\n",
        "        ha='center',\n",
        "        va='center',\n",
        "        zorder=5\n",
        "    )\n",
        "\n",
        "    # Plot neighboring tract boundaries and add labels\n",
        "    for idx, neighbor in neighboring_tracts.iterrows():\n",
        "        # Plot neighbor boundary\n",
        "        neighbor_gdf = gpd.GeoDataFrame([neighbor], geometry='geometry', crs=target_crs)\n",
        "        neighbor_gdf.plot(ax=ax, color='none', edgecolor='blue', linewidth=1, zorder=2)\n",
        "\n",
        "        # Find the shared boundary\n",
        "        shared_boundary = target_tract.geometry.intersection(neighbor.geometry)\n",
        "        if not shared_boundary.is_empty:\n",
        "            # Get the midpoint of the shared boundary\n",
        "            if shared_boundary.geom_type == 'LineString':\n",
        "                midpoint = shared_boundary.interpolate(0.5, normalized=True)\n",
        "            elif shared_boundary.geom_type == 'MultiLineString':\n",
        "                longest_line = max(shared_boundary.geoms, key=lambda x: x.length)\n",
        "                midpoint = longest_line.interpolate(0.5, normalized=True)\n",
        "            else:\n",
        "                midpoint = shared_boundary.centroid\n",
        "\n",
        "            # Calculate a point in the neighboring tract for label placement\n",
        "            neighbor_centroid = neighbor.geometry.centroid\n",
        "            vector = [neighbor_centroid.x - midpoint.x, neighbor_centroid.y - midpoint.y]\n",
        "            # Normalize vector and scale it\n",
        "            vector_length = (vector[0]**2 + vector[1]**2)**0.5\n",
        "            if vector_length > 0:\n",
        "                vector = [v/vector_length * 500 for v in vector]  # Scale factor of 500 meters\n",
        "                label_point = (midpoint.x + vector[0], midpoint.y + vector[1])\n",
        "            else:\n",
        "                label_point = (neighbor_centroid.x, neighbor_centroid.y)\n",
        "\n",
        "            # Add label\n",
        "            ax.annotate(\n",
        "                f\"SVI: {neighbor['RPL_THEMES']:.2f}\",\n",
        "                xy=label_point,\n",
        "                xytext=(0, 0),  # No offset needed as we're already positioning the point\n",
        "                textcoords='offset points',\n",
        "                bbox=dict(\n",
        "                    boxstyle=\"round,pad=0.5\",\n",
        "                    fc=\"yellow\",\n",
        "                    ec=\"black\",\n",
        "                    alpha=0.8\n",
        "                ),\n",
        "                fontsize=12,\n",
        "                fontweight='bold',\n",
        "                ha='center',\n",
        "                va='center',\n",
        "                zorder=4\n",
        "            )\n",
        "\n",
        "    # Set the plot extent\n",
        "    ax.set_xlim(bounds[0], bounds[2])\n",
        "    ax.set_ylim(bounds[1], bounds[3])\n",
        "\n",
        "    plt.title(f'Address-level SVI and Road Network in Census Tract {target_area}')\n",
        "    plt.axis('off')\n",
        "    plt.tight_layout()\n",
        "\n",
        "    if output_file:\n",
        "        plt.savefig(output_file, dpi=300, bbox_inches='tight')\n",
        "        plt.close()\n",
        "    else:\n",
        "        plt.show()\n",
        "\n",
        "    # Print summary information\n",
        "    print(f\"\\nSummary:\")\n",
        "    print(f\"Number of addresses plotted: {len(result_df_filtered)}\")\n",
        "    print(f\"Number of neighboring tracts: {len(neighboring_tracts)}\")\n",
        "    print(f\"CRS used: {target_crs}\")"
      ]
    },
    {
      "cell_type": "code",
      "source": [
        "visualize_address_svi_with_roads(\n",
        "    result_df=result_df,\n",
        "    target_area=target_area,\n",
        "    svi_df=svi_df,\n",
        "    G=G,\n",
        "    padding=0  # Adjust this value to zoom in or out\n",
        ")"
      ],
      "metadata": {
        "id": "eBZcMoPxpY--"
      },
      "execution_count": null,
      "outputs": []
    },
    {
      "cell_type": "markdown",
      "metadata": {
        "id": "LIn61hYOMpMq"
      },
      "source": [
        "# FORMULAS"
      ]
    },
    {
      "cell_type": "markdown",
      "metadata": {
        "id": "SHaHEKbOWQnI"
      },
      "source": [
        "![image.png](data:image/png;base64,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)"
      ]
    },
    {
      "cell_type": "markdown",
      "metadata": {
        "id": "VnvLGZZgW0kz"
      },
      "source": [
        "![image.png](data:image/png;base64,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)"
      ]
    },
    {
      "cell_type": "markdown",
      "metadata": {
        "id": "XheFb27DWVab"
      },
      "source": [
        "where..."
      ]
    },
    {
      "cell_type": "markdown",
      "metadata": {
        "id": "KsfRFqZfWfkl"
      },
      "source": [
        "![image.png](data:image/png;base64,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)"
      ]
    },
    {
      "cell_type": "markdown",
      "metadata": {
        "id": "sKuQQBCbW_6P"
      },
      "source": [
        "E_c(p,n): The combined inverse elasticity between point p and neighboring area n.\n",
        "\n",
        "w: The network weight (between 0 and 1). It determines the balance between network and Euclidean distance in the calculation.\n",
        "\n",
        "λ (lambda): The decay parameter. It controls how quickly the influence decreases with distance.\n",
        "\n",
        "d_n(p,n): The network distance between point p and the nearest point in neighboring area n.\n",
        "\n",
        "d_e(p,n): The Euclidean distance between point p and the nearest point in neighboring area n.\n",
        "\n",
        "e: The mathematical constant e (approximately 2.71828), base of natural logarithms.\n",
        "\n",
        "s_t: The index value (e.g., SVI) of the target area.\n",
        "\n",
        "s_n: The index value (e.g., SVI) of the neighboring area n.\n",
        "\n",
        "β (beta): The exponent for the index difference. It controls how sensitive the calculation is to differences in the index values.\n",
        "\n",
        "|s_t - s_n|: The absolute difference between the index values of the target and neighboring areas.\n"
      ]
    },
    {
      "cell_type": "code",
      "execution_count": null,
      "metadata": {
        "id": "fvvuxe14hD4k"
      },
      "outputs": [],
      "source": [
        "# The above is identical to the below, but the above is simpler"
      ]
    },
    {
      "cell_type": "markdown",
      "metadata": {
        "id": "a8LLQo5SfNLK"
      },
      "source": [
        "\\text{For each target area } t:\n",
        "\\begin{aligned}\n",
        "  &\\text{For each point } p \\text{ in } t:\\\\\n",
        "  &\\quad\\text{For each neighboring area } n:\\\\\n",
        "  &\\qquad E_e(p,n) = e^{-\\lambda d_e(p,n)} / |s_t - s_n|^\\beta &\\quad&\\text{(Euclidean inverse elasticity)}\\\\\n",
        "  &\\qquad E_n(p,n) = e^{-\\lambda d_n(p,n)} / |s_t - s_n|^\\beta &\\quad&\\text{(Network inverse elasticity)}\\\\\n",
        "  &\\qquad E_c(p,n) = w \\cdot E_n(p,n) + (1 - w) \\cdot E_e(p,n) &\\quad&\\text{(Combined inverse elasticity)}\\\\\n",
        "  &\\\\\n",
        "  &\\quad W(p,n) = \\frac{E_c(p,n)}{\\sum_n E_c(p,n)} &\\quad&\\text{(Normalized weight)}\\\\\n",
        "  &\\quad s_p = s_t + \\sum_n \\left(W(p,n) \\cdot (s_n - s_t)\\right) &\\quad&\\text{(Weighted index for point }p\\text{)}\\\\\n",
        "  &\\\\\n",
        "  &S_t = \\frac{\\sum_p s_p}{P} &\\quad&\\text{(Final weighted index for target area)}\n",
        "\\end{aligned}\n",
        "\n",
        "\\text{Where:}\n",
        "\n",
        "\\begin{aligned}\n",
        "\n",
        "&d_e(p,n) \\text{ is the Euclidean distance}\\\n",
        "\n",
        "&d_n(p,n) \\text{ is the network distance}\\\n",
        "\n",
        "&\\lambda \\text{ is the decay parameter}\\\n",
        "\n",
        "&\\beta \\text{ is the exponent for index difference sensitivity}\\\n",
        "\n",
        "&w \\text{ is the network weight}\\\n",
        "\n",
        "&s_t \\text{ is the index value of the target area}\\\n",
        "\n",
        "&s_n \\text{ is the index value of the neighboring area}\\\n",
        "\n",
        "&P \\text{ is the total number of points in the target area}\n",
        "\n",
        "\\end{aligned}"
      ]
    },
    {
      "cell_type": "markdown",
      "metadata": {
        "id": "TnMygZSTfEtz"
      },
      "source": [
        "![image.png](data:image/png;base64,iVBORw0KGgoAAAANSUhEUgAABEQAAALxCAQAAAD/W7tUAAAA0mlDQ1BJQ0MgUHJvZmlsZQAAGJVjYGCsSCwoyGESYGDIzSspcg9yjIyIjFJgv8rAzsDIAAaJycUFjgEBPgw4wbdrELWXdUFm4VaHFbCkpBYnA+ktQFyaXFBUwsDAqANkq5eXFIDYIUC2SHZIkDOQnQFk80HVg4C0c2JOZlJRYklqioJ7UWKlgnN+Tn5RcUFiciqJriAClKRWlIBo5/yCyqLM9IwSBUegb1OBduYWlJakFukoeOYl6zEwgMIPouNzIDhcGMXOJJcWlUGNYWQyZmAAABFdNMUdedORAAAAOGVYSWZNTQAqAAAACAABh2kABAAAAAEAAAAaAAAAAAACoAIABAAAAAEAAAREoAMABAAAAAEAAALxAAAAAH1WEOwAAEAASURBVHgB7L1Plts48y2I+rpGb8TKWsFPnvVQtkfds1LuQOlageUdKI9nPasj70D2Cuz08M2UNXwjW9pB6luBM7UDdVyCQQAkKFEUJVHShU4mSfyJCFwQYDAQAH9bG4YLQqBvJqZnbqRGS/NsViaR855cPZtXR69l33wR3ofgnJi5eTQfDl6j5nz6gv3y4PKRAREgAkTgAhD4jYrIBbRiWIXEvEjEb17kxIyDay/pwKcz88b80TqPvigiyxqq1XRPZaUun3IFX8y3PXmXaTKGCBABInCRCPznImt13ZValap/L/YD2EWOHw5jFViY1/LbHvatc10+RUl6YomaFSN5TQSIABEgAjEEqIjEULm8uOmJFJFDIbmQqY9tYZBOUW3LtTm9Dp8yhYFEPZajGUMEiAARIAJlBKiIlDG5rBhrFVhcmCKyvY165mF7pgPluJWJo+2K0oGYkywRIAJE4LwQ+P28xKW0OyNwn/oqLM3ntOTY/Jkef5lP6XGQOrc+GuTqy3SCjS0ymUjEL/HJmJpFltRLqSZydR88cocSj+mYecbPZh/L4ZWoQjbNxrn/VoaluRNaRqwYzwWaRZmhYqgTrHWIXcpEDXIlOY+h+Vto9TNl5M4xy896ZmjeSo0eBQEjJUOJka0On5xcdjKQOiZmIBhADbpPsfDzzKR+dSaV/DI8JwJEgAhcNgJrw9/FIbCWYNu1t555tZuvx9nVaD3P4+eSB/Hz9Use5+6KZP2UleoJ1X6W4yE7TiTV5cVVkl6PszJToTnJ4maBLK4UzsB7mtN8WfdyqnGZZ56sMyk9ivBAfMjFvwK3kSfdej2I5K7Dx6eKc+A0jNBCGoJFqFiK10SACBCBK0WAUzOXqmc+yDv5zDx5fhJTeVdXiwfsI9Os6ktZ2QKPhjvzVwQM2AtsKVhVvqQ5hmJNGKVn92I3sGdG7ABjsQfYKYm/5cwGuG3auIXkqAqwomgJ2EV0WqVKZrXMgN5SLB86FbKJB/JqSAQZWGkS808m3TLnr3lwbMJnk4fIK+HJSRsfYZ4TASJw9QhQEbnUW+BOFIs77+GaiMLw3avso1xjasUGPHCXwWPXxqOUc7ucyyMfAY/9Z5tBzm+zs4mcu7zuEa5xePQ7jlmh/KD0EPFZ+IDTZpnzonJSj4crcZNi0ZdyTi2w3jQuT+ysDp9NHiJLwYiBCBABIkAEPAToI+KBcXGnK3mkq5rwRmr3y6shzq0lBNudVQWU6omlwwZsipbIo3uR7g2SSHlsnqbKBR7rGvbzg4DK8ka4bJJZOTU7WnVgkHqlWAq9QE1rRtWW8nHYhw7LEgEiQASuAgEqIpfezDoBE6unqhDOKlDMhRy+C6tOnwzNR/NTJlDctl2wYBzjbV9lLkpafY3dZWOSQWJVnTCd0s7OH3CYbYdSdY2YQgSIABG4IASoiFxQY0aroo/an5Lqb/OO1TOaFi2YRiKHX8rmxE6trwsTOZiKqTO5YSls/g+OkLeZzEXaPZErpohA+dAJpDux83wrFmx0DaoW12FrNpZGgrAQESACROA8EKCPyHm00/5SruSxiIekhqE8LqstIZprJbne6YUc7STNWGL1EW6VD7i0PqZTKZpZXVj1etvxxsswEuqg30xmJbTMJo1uKur5Nq8DfFHCZchKY/fjW+EGXKH+lAPsJQxEgAgQASLgIUBFxAPjQk6rJi/eS/2gMCBAoXC7a1SVQM478SDRUv1sF5JlvhZnIFYLVSGQU1e79CJ2FHDRvKAchiT3RMFkkspWJXOSe6YUqTgeM3nog+etqEixMMjSsUbnU7Dvictdh4/LjbNfmcfNh3yFkp/+X1mtswltPy/PiQARIAJXgQA/endZzdwX341euuJkIdMRS88Z09Zzkj4G4TOBRbJYcnsvdoxEHtWr/OFvc/r/8UXfpTxi4fyKkKTLeGdyXIgiMpf/2BgMwc8JWQZpnq9S7kt6jnU16meSFsj+PYjMd+kmZHCGtbJpelFmpYutyJ438hgLxUfzIzpF0hOV4DZF6q35Gs1Rn49KimMiag2sObos2E+DHwo3NAsR4RURIAJXjwAVkau/BToBABSRsi/KIUUbifLkf6H4kLxImwgQASJABCoR4NRMJTRMuGgEsNsHAxEgAkSACJwcASoiJ28CCnASBLjbx0lgJ1MiQASIQBEBKiJFRHh9CgSw18cxA1avzI/JkLyIABEgAkQgjgAVkTgujD0eAgNx4YRT60wW0R4njMy/wug+/9rOcbiSCxEgAkSACEQQoLNqBBRGEQEiQASIABEgAsdBgBaR4+BMLkSACBABIkAEiEAEASoiEVAYRQSIABEgAkSACBwHASoix8GZXIgAESACRIAIEIEIAlREIqAwiggQASJABIgAETgOAlREjoMzuRABIkAEiAARIAIRBKiIREBhFBEgAkSACBABInAcBKiIHAdnciECRIAIEAEiQAQiCFARiYDCKCJABIgAESACROA4CFAROQ7O5EIEiAARIAJEgAhEEKAiEgGFUUSACBABIkAEiMBxEKAichycyYUIEAEiQASIABGIIEBFJAIKo4gAESACRIAIEIHjIEBF5Dg4kwsRIAJEgAgQASIQQYCKSASUK4nqm5l5Mi/ym8vZg/zN06unE9S/n/Jum3Mi9ZtuqE0V10EqzXxDye1J23hvp8AcRIAIEIGrQOC39VVUk5WsQCAR1cOY37zUiRkH117SgU9n5o35o1UeUDSW5tVGmlVcoYa83lhyc2Id3pspMJUIEAEicBUI0CJyFc1cWclVKeXePJpeKfYYEcvWmSxEldimTFRxrYqvK2Qd3nVpMR8RIAJE4IIRoCJywY3bsGrTEykiDcXdWGxhyqrWxgItJp6Sd4vVICkiQASIwGERoCJyWHzPi7q1hCwuSBGpxv80Vp9qeZDSRZk2S8xUIkAEiMDeCPy+NwUSuBwE7s0HqczSfE6rNDZ/psdf5lN6HJiJPCofDXLB0dXGpknev4mc/xK/jKlZZLG9lGoiV/eBfWIo8ZgAmWf8bPaxHF4JH5tm49z/vvkiaUuZcIF0SSFfyLsnDrg985z7iCRS9tncSOkniUtElvuccJxr3/wtOcqSb0fG571J5k0yqXBl/KpaIqw/ypfLKlU99szQ3ErLPppRilS/AnkjLX6zdaJLqfJIBIgAEaiPwNrwd9UIrCXYe6C3nnlIzNfj7Gq0nufxc8mD+Pn6JY9zd1CyfspK9YRqP8vxkB0nkury4ipJr8dZmanQnGRxs0AWVwpnM+E+KuWL857lciZyNkr5TdP69NeD7CrO9UHyOwRe1r00N/jXRcbxrpY5LlNY3zh+xZaI1z9e1qc/lRqNpS0mWXtNUnT8HHqOO8W2mMbwSASIABFoAYEWSOQDNGmdIwJ4vDzIbyZHp3BMA6VhvsbjCj88nqFg9HI1w6+zX8o+7s16KHStAmC8s4GcW0UAD3aroEy9uImc+5T983i+GG8jj1dVmMY5RZ+3kZo5SXyuqKnjOs+x8flA9mpkHO8qLlUyOb5V+JVbwpdrM/Y+9V6qbAEDVRudTH4+nPc8ZayYxmsiQASIQGME6CNS33h0uTnvDH6YlrEhETP9d72QI8z2mKCwAVMuy3ziRWMxhTGSnBrmMn2DsJQpkOcscimTADZMJN7l1UkccLIBO4o4jlmkdyjmi/P2Cpi3+QWmg0JvjCI1m1WlxtVXqQ3q0wwZS6/MZZNMtkwVfjbVtUS8/nHslbI9op0Hgru2wVtpmXhYVqbE8zOWCBABIlALAfqI1ILpCjKtxFND1YQ3Ut9fXp1x/iZTEvzHs5clzYEHPLwtELB7B/wwFuneIImU74mPgSoX/Vzl2G+3jpSV/IPEZd6aiuMP8YWAPFbBqXrY+iX8c+R/I3VphoxPyT+vI1McP1DxWyJe/+qyKgXqBU8beJfYMAg8djSWRyJABIjAwRCgInIwaM+Q8KZdSFWFwKM8HpDDd2FVC8vQfDQ/xXH0W25zgW1hV1UgzlNjq3hrupHH60fzLn3IfhCFQq0TLr352XZkqmjXk6mMn6Xnt0RV/avK+hIN5ELxGIha8tVP5DkRIAJE4NAIUBE5NMLnRF8fRz9FaH8/Uqye0bTq+iCHX8rmxE6tr3PDv43DNEA4OWLjm/+P8/bprUQRus1WfWzb5MwvZ89v5ABUmiFTpmdj6sgUw69ML17/emVvxU6kauFdasOykzVlLowhAkSACBwAAfqIHADUsye5Eg8RvCdrGIoa4r9/a3x4XEmud16UnaQZS6z6H1jlA9MAj+kkh2Ye6UnjY5y3Tw5brsMPBr96AcqHhjupA2rRDBmlUjzWkSmOX5FSvP71ysJDRMM7UdeghqiVR+NxxBQOAxEgAkSgdQSoiLQO6VkRjD1wUIH38qd+A1Ao7hCZhqoSSLwTvwUt1c92IVmKZ4gNA7En6DlyPmTxvYgdBVw0b5YtenD5Yrzx8FR5VyLZUB6xA3E61bgiSUcNKc+5MtaXR7AiUB8Zxzvk47jUkSmOHyiGtYjVv7qskwjqxSy/TNLzu8BVWRP/K/uvhDw1hUciQASIwB4I8KN3e4B35kX74jXRS9eCLMQ0v/S297IVm6SPHWwAZjf+GsjxjcTBOqKP5TIE2PRsKa6ucH5FwJZd8B1JxKLwU6wSC9nqzL6B+zkhC97DF+Kh8FlK4BzraorWi835fIpGamZpPooKAo4PoohoWIiqtchzxLg+mH9S59qVSNIrbN62HRmf9/OGupVlUgn1GMMPW8PFWiKs/ybslTqmyOYyYaVTM2NZXbSUFtJrl48bmvlY8JwIEIEWEaAi0iKYJNVhBKaiGlmFCorFR1FK/pCY04YuynRaRMidCBCBK0SAisgVNvoVVnkg9pA/gnq/iFXH+UYESUe66KJMR6o62RABIkAEHAL0EXFY8OxyEfD33LC1fA724ThFzbso0ylwIE8iQASuHAEqIld+A1xJ9bFziL9LykQ8RHQtz6kg6KJMp8KCfIkAEbhiBDg1c8WNf2VVH8q3dK0TJtaGYGvz04cuynR6VCgBESACV4UAFZGram5WlggQASJABIhAtxDg1Ey32oPSEAEiQASIABG4KgSoiFxVc7OyRIAIEAEiQAS6hQAVkW61B6UhAkSACBABInBVCFARuarmZmWJABEgAkSACHQLASoi3WoPSkMEiAARIAJE4KoQoCJyVc3NyhIBIkAEiAAR6BYCVES61R6UhggQASJABIjAVSFAReSqmpuVJQJEgAgQASLQLQSoiHSrPSgNESACRIAIEIGrQoCKyFU1NytLBIgAESACRKBbCFAR6VZ7UJrLRWBgho0qNzVJo3IsRASIABE4CwSoiJxFM1HIziDwIB/Mi4eReQq+8Bvm6pnbhh/auzdfQlJnejUyYzMRhKhWnWkDUmwicCgE+NG7QyFLupeKwIv5x3yKVm4uj9nP0RQj6sttRcr26KHpVXDcXrYrOaCC4NvHY/Onue+KUJSDCBCBLiBAi0gXWoEynBMCn82HCnH75rEiZWgWFSl1or8Lx/O2IwzN11QNMaKGMBABIkAEAgSoiARw8IIIbEXgH7FPDCK5BmaVPWzLiR83TNqUc5djvpt35cgzinmbKWKJ+MlMz0huikoEiMAREODUzBFAJov0fX7VCg79vWwLrYhgHqQ+bqIlEc+HJyH8Vv7uKhiszW95ylhyzsyzuREas8JUzti8krhlqui8Ne9FtbFhINMZjmNOSk4Uj0ToYeqjK8GXJxE1ailWnb7I+LpTUnYFrSZywEam90eT8ixzaQjoWHCG9aJF5Awb7exE7om7ZXtD5unfqKeiKOAxgNAz/5V3/E/yG4oKEQ997+GLweJr6i/xWdSWqZR3AWkzwepNSi8xozxpGeTLo0WOj9nFoHLCyOU+5pkvz0CmrH5Kze7Nt4Yrh44p+XnwardPnUedKeU2BE4/Nm6TsCKdikgFMIyuQGAgD5QX+T3J8UF+MzNPr+cV+Y08sh/k3b6tsBB+k7aIRelAoSj+fI6JPPKXuQIwlYcr/D+gmFR5iNwEatijWEQeM7vOSqwEfkDaz8xK0vPUF9hPYuHDWUx0oCYrqdV3aTlVnGK1YVxdBFyf6su9+pT1QPRI9Ed7Hd5Z2yn3054M2x5CIlTKj7Ve1tttnvb/x7m2z2cfiiFOzSltq+u29DLnw4+NZZ5txawNf0RgRwSm6/V6GJSZrufBtX9XPawHlWl+vvrns3W/ZYr1efekpsl6vH5JJUgECVu74fopl2mwnqxHkkepDtaz/Bxxc0nFsSele0GKSwNll4YrpeYfHc+h8PRTTn3uy+OQ6FfU49TSnhv/sE/h7gjvj6Hcn2EPrVfDh+y+NtLD1t4d7Zd2efzYds6rubZDvy0qzTCYBj10W12L6WHpqpqccmyskqlGPC0ibWl010TnjVQ2fPufeG/vIRJ9eecP84bpTa4mJ9tZA++fd+nbPdwujUyiKBK3aS3xFgp/jnt5/3+VV61oz1BEYFkJ/TqSHK2R2EyWub3Et47kZGXq5ru7OIuzv89O4i7CWuxT5WnP73IH+pN+dWvh7saFePO8jhZzeaLJe0VWc92LbOuFm2EQtsi2uhbTw9JVVTrd2FglUa14KiK1YGImDwE8LGFq90PxgerSPh5gIuVRDMe7Gp6dRM3PhuZfcRnFILSSByoW8f6UP0zK9MUdcy7/MVhMJBWbd7nJqtDDA5I/y19PVBnr3NoXkzqoQInRlTe34kmSmL/TWOSNLf+9kzzdD4NcJRtI/dqbpOt+zQ8lYZ0+5SvCzeRYFPp4Myq7ljoN112lbJJ/UJpe3VZXP71cOi7DqcbGuDS1Y3+vnZMZiYBFAEtXnY3DempjPjMWYDc4xKPnu/gaVK1QicnRTtzE/JVbMP4RpQR1vxPrDJxU34vSkKTbjvUlV6imQblwNg24bsIN9VWm1EDNwCMa1o1evopmKqkf5b3WBqyzKYakQj0p5jv1dU9Us4n5JTuI/Kp4xz61hOfFf1ufGtLq1MEG7cnLRjM7CiqzS+nTjI17Qk5FZE8Ar7A4lpHqY1H304ArYizgDd9/KMMK8Fac4B5TO0kiVoN4OeS7lTx4ZGOKo586iDoOP9JHubve72wkD8gn4VMljVJ3ky1GVJA/0ujv+bCv0yQ63PREMVE7xlTkV6UCi3bDnVm/Sz3tPiEu3tEFm2HkET6KOBOqpCbFzT78HU2Xus8ZWmQ3ysu87vvwZVmLQLFPFXHR6S9Y7PqiJsNKh3s1EdUZyusfeY8cZr2qfN/jwdcTu52740ep2vwrL6tc4cb9S/JN83u9l9oKYeG7z3JbKZZyD2NfXciAScly8LnGy4ykJPrVo0gD++GD/H9OJQO1UJaBXPck572UwZQq+gE4P0l5vAa4WoflQCkMm9PL9S3zGaa2TVg+EfAK5dc1jZQ+blGxcvnpYenZRgyMaXdstLId/n/gPlPDqYT5rx6BJ3FjS1IU+uLOZs+q7pzJ+iHACw5XI3GIm2Tl1NWzWB75xkJ9krmlTgrOsHDP28y5SLHqOhHK6gY2a4VmX+iN0p/P07mrvkScd/uROFfad/x0sSH2YZ5x7io7b9mxty5lJ491zHVy82w/BIp9CtQQLFW4qYb0Z3makTvT9ZtJ3ntdm0680rPgXPvxQEoph0TOrSMy3K7VgVxzgr6TZJa6aNs+Oys4b7tcRlKUOs7h1l0s8+TRHeXjS1yWudCAhPOMqnOpRx8F33g5J1E83ccpVt8yH1sbRxdnfl1jreGnAwtXOo6BTW9vbHT8Dn52cAYeeOR1CQjgNn+R7o/B5CXoHLHaPeQPeaRitYkR5cINhk/5QOKX7qX5MGjq4DaWcz8Hht7YWhwMEFU/HTBCOnOvDk5ZCPO0cQX1BHQwZJdVKLeuJMYrJnlf8Pfzugc/YhU5PDb8XPuf16Ws8vSi7bS/HNdLIexTFgdp8LxPuge5TUM/UrRGcm7vvoGcaQ+a53eJ/4B15+h97p51K0ameTmoOPZBOZS8qnq6M6sCKT+MACpR8ei4VpVBHXQ9mb7QIK+701UWI5i8pGNIL/3flyvl18+kjJfTXFV0nZSx+sb4xBQRR2V7a4SKSBwDldq1rMZ0/khn1cMbnS6LAyZjvolx8VZ+f6XOmpvqlwSm3Jt0GgNrRtx0DQzH5YBpDvhS6NTG24gpFwbWYrgXw3PVL+ZTMhaj7T9CJEnNvDDBHiosxHiNj9dhb4biXhrOfyTGfRL1stm2g8iDmMGBtDOuz+S6jVCmvInqYOs9sqk008oIhH3Kpds++T+pI7SLrTrDOjfn6aX9LJ4bU6Suxz5nmbDhnqMAV20EuLFrjmU6gZJll4Pmhj9ZrPe6nO6sXOabJOrXnhSLuCyWCuq2TEeSpXCdi9QYcxYyikGKWB1sOfzflh6vb5mPoxg/26U1QCGGgU+5Lrp+mZOe00fkpPCfIXPfQ+TG8xXRASOs0o3MH7tg54WxvFVDL/ew0BgckQ8zyU4xGJR8SdzA6Jfc9RyrUnryyF7J4zKmqOxKb1P+RToYAr9iqF5zhJwOLb+cv3OpH2/PPwh2QA+PAos6HGJj8/JPJV9+S8HNvIfUy5TD9OJV3AeomIvX9REI+1Sx3Cp/3G92ZtYl5CgfX6arlPHYjt05WLqOvmMDFF6oBdZ3KpGF7T25sw7xQMSKtVHaK4aZz4VdRl+WBZKpUoTzVepajleBlZTHnRmvA/LasC1dfcXC+pb5KL2qY/3WsBQcBtZPJqTbztgY0jzwFRWRAwN8ceRhEVGlQ489GXSqQvFrq3hv0nKgpW6vxfI+H2yo/rWQQd+FCtE7XmLdC5zYzi0Mcwzjkn+WYbYvDnJjGXDt2yPUkNgA5SwmcUrF2DLlYg5eHxqBYp8K+aniGlc8bV70wphyEVLafAUlw3e7VivFUCx+P0VF+JbbLTbT2T31H7EtYm3Qbc6hSpbi13jgAg53eXx6EWvcqstZqbalI1esvkU+fh39rzDZ+F1aQ0vDvgqb8V2OgePRztjo6B3hjIrIEUC+IBb2LWtVqJE+7BIZgmAB+TN/i38uvRNBwYCxFAFbg8HIGAu3kqZDJfKhDDqeC/67jsZOpHtWBSy1LQbHo5jS7Wu3Bqcs51BsIa9TxBaC/o1kgEoyEjQn8uDwESyX3RxTpmxE1Yl/pm8zJaY2R6Dcp0Ja2jtv817o0vFgRUBvqn55SLPk/9ALY3lxJ5XV2IncEa/zHp4TafUEW/19kDtZa2pfbcqyFJlinx+oCNjuDevYPqW9YVO5eB19urH6lvn4JfDapiObjd+lNbQ0av9BFD6Hgc8jNjb66Z07/0/nJKJAXUbAt1OonKOsMyTy+bev0rk/ecPWwju3+fWD8Hb+VRf4lTco85WOd6m64j40h7LxN7p7GRqrfmU1BBuS6dAM6fCOcQ5hs9EdHig6PPVSS9IifST9I//3UUOsb0tIufozfeeA43nKWO5TsXrA68m2lbYYcr3Nsz6m0xJ66T6vqDH+8VPQL1QpwSSQXXRu89pJmrHE4sGKYHO6CVYb28Z/fHZykvpbWWpxWYqcbtJFtDbWSrWt3LZ0KOLl+pb5gCc8RxDCL0+lUUIDk0AaYq1RLv05tcVgoikM4BIqOmF6J6+oiHSyWTorFHwqwsmUsQwHtjP8K+oC3sHx7q3hR9DBEDuQ4cl2yAdRWdSD4EWcyHSAQy48ah2fJD2/kzcZDdv2UtB82473Ip+VBjtvYNeBcwjvPCTK8to9FhA/lEeRxczuvVDOu1tMjHLVZ/p2o8zc9REo9ym9gx2NnuwZor0Qk5q2b/XTe92e34n3hN3VAqlqFfApJXnPuJd+rQ+8UdpjbD7QUDWjL3ZQhGXucwQ3ZdjjygGl4yno+b4MrmxYBuNGaFeIyYLSITX3qjHIalRVTjnH0x3VeH3LfDBu2pHPfgzCyqZ0wCXWGpoeK40WiU2/tTU2KgJHOf62PgobMrkABLANuZ1YsUMclAUMat+zKY+1qBVPMhDBcKohke+Cug2UMHg8ycwu5kTfyru6UyzQSSe5WoJ8czHwKp2x5F7KwKHX2LqoF5loUa67HOH0+UMe2NiSydHfhcLx886l7kVZMfOt3gHYxxTBbTOHjaA2uyTWq0WZspGWmqYth7Z+lcvly1OPNnPVQyDsU32ZDrWfFtB+h+k49LDP0uY2YKushfQ8GOyxv+djloJetJR7xd4noASr46Pk+ZmfY8UMAqbgsNoFE5zvhNJUXiMQQhp48H+R2JkcF0JlLv+nkttSXkif/yzp4OKkSMmk/5wEk61lpiJl8bUhlAVO8XjNwCSGtYYOZOzBxoXF7fjCck4ePQvTnZQPUptYfU0Fn7FYZB5ltMG456gowlVcNN0vbSXD15b1VU5lbXNsdDQPf5avq+78SmNK2mkE4vtjYPW87iqAOwzr3+N3WhLki+dxsU/5Hggu7lrO8P3fcl11345yCmIesm/z6r4s8VxNYrGvjN3VYZzKpRw2y9OEE8soAmGf0lgerw2B+Pe2z3Js/M/hVR1yuAoEsCbDGn0xyYE3Mhsm+Xs6rnUxaZboHd7k79JeZMVpzFOlIusFRm/bQSRW5b68h+FdqWhHieXdLQ6GYEs1/EzfblSYexcEwj61S0nmvXQEznRs/P3S24X1OxoCf4nBF1+cTcT06B54cOVyjqf+evlQsH7EyBjmcFf3LU3LOIrndBb77sw2+SeiAmIztdW2jDunV32mb2dCLFAbgbBP1S7GjBeBAKacsI5wnDqiF6t0pmMjFZFiQ/K6KQKLfE46pPBeHOfs92jhVQJVpRwScXWr+5AciWqjfvllSpceM5C610XKYVGeSXZp+525XViwLJLhOAi4PnUcfuTSHQT66QIAuLGWR8GzHRs5NdOdG+xSJVnJFuVwYBuJQoJ9QtX/3q/vu3SjdT+m6rwv7/bqlFmV55Ljm0zMXDIe11k37VPXWfvrrvVnWZ04Evdf9wqgeJzx2MhVM9qIPB4SAXxSfPf3+JhE2LnimkNV/XXHxa5g0zV5uoJLe3K016fak4mUTolA1dhwSplq8qYiUhMoZiMCRIAIEAEiQATaR4BTM+1jSopEgAgQASJABIhATQSoiNQEitmIABEgAkSACBCB9hGgItI+pqRIBIgAESACRIAI1ESAikhNoJiNCBABIkAEiAARaB8BKiLtY0qKRIAIEAEiQASIQE0EqIjUBIrZiAARIAJEgAgQgfYRoCLSPqakSASIABEgAkSACNREgIpITaCYjQgQASJABIgAEWgfASoi7WNKikSACBABIkAEiEBNBKiI1ASK2YhASwgMzLARpal815iBCBABInBxCFARubgmZYUOjsCDmVXwGJmn6Ef9XPaefLSv2Vdq79NPBzpK53s2kk+YTwQnKlbn24aUnAi0iAC/NdMimCR1NQi8yNeCy1+/RPXn8oD9vAGHmSgiTcPQ9Cq4NqV4inJQQZbCeGz+vOrvKJ8Ce/IkAp1EgBaRTjYLheo4Ap/NhwoJ++axIgXRw72+HfxduJ67FWFovqZqiBE1hIEIEAEiIAhQEeFtcCwEkhYfov1jCV3B5x+xTQwiaQOzyh6zkUSJ+rhl4iZeysV+N+/cRXCmiCQiWbdCKNHbTBVLRCmbdkvQM5Omzf50ZlW/anG1p18UCFRELqo5O1yZnng4rFqU77QPsZX4edx7tUnkoTqW34eN9hBj+p6aMjYPZiSP41F69IjJ6VjoDSU3aD54CtzM3IUZs6uBqDg2DCptNdGCR4j0JUrEh2YgNXoy/5UpKkzQMDRDoO3+1EwKljoFAqcd+w5SYyoiB4H1gokOxFHzRX5PcnyQ30y8InA931jnRHK+35hjt8SF8JvsVqTl3FN5oOo0SU8eq1Px3vgkykOVGyvY+2pIXywDX6XUUjxK7uTo2zGQNhPF7U1KMxFVRcMyyKexRpSP8xicBqKo/ZS63ZtvghVDUwRcf+qnPXBt1p6Frp/1yW2O0025x8sNUq6bxwGUhDLa9bvVIvgUr+gOsdvqui09xur0Y19Mqn3jcAfzRwR2QmC6Xq+HQYnpeh5cF++ph/VgY3oxf53r2brfOk3lO1zPSr+Jxy1ZP6yf1hozW0/TtERw6Xm5lJoeBx5KkH0iPGzaS4BnmPbkpSXrlyj9pzx2mEulXE999CUa53L2KmpyamnPg3+xPz3JnRfeGf69VlUne9dWpTaJn3t3eFX5vsjq7teqXKePfyggWk+iENNtdS2mh6WrOR5y7KvmesCU3/dVZFj+ChF4I3UOXTInG+0TfbEFhPnbAG0iNoPXbRCK0Pi+cYltT+w7f4md4mM6PZPIu6hdCTMQ+4adbhibt/LW15fJqNtgMuU557WQs0H2ZtiTt0Rca/DT4GHhp6kVRvPiONoorZ+zO+f0cGjeFuX+9Ch3Gibx3MTdT7E8bQu+FW5b3nrpVRY7v/RCeu05TMo1kzHEdFtdi+lhaR+18PyQY1/I6UhX/zkSH7K5HASSdIoh9PfQB3C8lh83qinxMttjH+XxfQrHLRjD72Tg/yz8Mb3g1LLbVN3qi+oAPDBZg4W8zqn12dwE1VL17EOa309CzazqNhI1ZJnXE5TL4U4mec4t/H2GylNXMI71p3u5T4bedNdqq0fWoHA3Hq92i62yHU+WdjmVMd1WVz+9XLpKulONfVXy7B1PRWRvCK+OAB6szr5hVQHMdVYFPK6/VSXuFf89d9Hci8xOhYfm38zNEg6rWMSLN0/YKfqyomUu/6EsfJejdWb1/ULC90Ug9yx/PcHHvsn25Z3WWjzc6ptbUTIS87fkQwitIzauaDOxsV38PzCvMrEGop616TPUxdoeSqaq/oR76Et2/2znDaseQ7sI7IfpbqVPMfa1i1ZAjVMzARy8qIEApiHUJVPf9mEfqAp4qPr2Ezx4MXHxmNpJEnl4V5VFzlvJ9SiTD3iE9eXB71sEfnhunFXc68aPxGD8JFyqpbGUJjIpozL8I0oJHEvv5AEARN6LwpCIHQThTapcJPLWqbmNoABVRK/huAk31FeZYgM1Aw9o7LvayzGZSqqdAgLVtznyuLJhlE3w6HV4BHK/ZM+OX5lcYeo+V7tT7klbTjJpDjWptk+NzqNssT+p1EtRfSeiXthpQo3VI1y7f8m9ME0n+oapagvFF2Em/QqTAt+k/FTu3ETuzFv5P09tJvfpvYjt5xD0PhpI3p7ku5eysBGG2/v1pCzCt1RVT0+zf3jc9kQBt/35i5wvpeeBOhRq279HqTxWClgUIeVz1kvCesSkAJUnoYae5XpzWM6XyJ5vTgdN+7pxn49lRT4hplAL/bpaLsOshlYuP71YehMGoNXm2GdlO+3/3HnsgI4o5HFRCMAxLklr1BenM3u26e6ZiGOnnw6HrJE4gk2ysutKR1bkHKdOodYtdVJwhYNz6Hb+Pu/4eSJ01U1s1grFXuaONxK6Pc/ZdOS5ks6kbkV5EkGmGOdfx/AO43zXUKCnPOYtu/bWp+wk2lw3v548r0ag2J+QU+/eufQIRVldqY3c0U/ZfdCTdHXxnnm9CT1JeyncsJX7S9Yb5vl9NPJKzcXZGvfXPHfrfMhT1YFbKfnHWZ7fCIW5SGx7MRzENd+TJ8Uoky1ej6IUzm1+mmERL6ecqvCZeFIqNhNPqjIfWxtHF2d+XVHa1tT1Hj/dbxGUjWGg1Nsa+5TeiY+cmjmtHnh+3PHeskotADOxB4S2jnht8P7jgp3EeSVvLP9k7xbL9G3D5dCzXjrd80r4fU3f4vA2FvqEwM4CD41imKQLirGouPyLGaT/FQJup1TfelOkXPe6l3lA/JR3ymF2jrKfvRq8yWrl03T2Ej9Wz0GpKB2mfopxmt/IW6udRMNSY9/l1eVoenY4yk0lupZyYX8Ka4338PI3fPC2by0WWCz+JSySXsGiqdbNmfS4JI1NJBb3FiiqxQPWS118u5Teh/vrTqyEYcDeOK5HhWkmuBPh/6R38CKXAXduT342vMqm8eL1CKXA1KgGlTNeTnOB12Z84Htjl9DfC3V7FuPjKLoz1+sGYvf5kPXVv3N0XLoro2cxDDQN7RIb+zT9zI5URM6swU4uLoarbzL03Mrvrxqe+TBo+g/Km/SxDFdMF+uGjrB6mKTABIZ21rf5tIbLl7jT/Oze/FH5s94YeVY5GctQ+I8csfrlIR2U/NRm5zBZI2DaRodwS+k+G8Yx2JfXNaC21eHvjKqfY9sOIg9p/R5TU7gtN/OUIZ/SrudlypspbFayNpdlqkMg7E8uHmdWqQ+VbexD4+4qeDHFAryTrCryWnqmfdi+S52gUR49UQMmFF2vQ99c5j3U5sGDvWq6Van4R5UOfmZK+Zucqypja7ypHk6KpVCYi4QYUxapb9qmcpBiWzrqt8pfppYy7iGU+aTRG/5NpIzWNFTGqgqVMQhzKlZh7Fle/X6WUlPo0yHge4jc5B4Lmx6gN2LJcMF6SAy8R6paD1wee4acsL9gWLNhUBreVpq0xxGOoD15XK9EMSirKXsQjhZdiCKCL87gbc35ftismx/Vk6h7p79vaZnhB0EP+GH4tMjDD0W9VML8TxWrKHR2Psxdphyml68G6WOhHM+Y3RAI+1OxLLbHG8iD2CkCeG/G/W0DfDNiqgxeDLAvMCyW38SDBOrz65QKyvs9GOfWEmKdreUyCBPh/tPjHyTWvoAr+CgdJYapj4h9/4/X49mjupL6f0l710pKA4Vt9d+WDqXhD6GTCKWe9BH7+C/z8YSInuo6OCTW85ByGFg/mZBsG2NfSPGEV1RETgj+WbLGW5Pq9Xp0RtR4laybm0vDO5mWBT11fXU59MznhumFr5qQHWNDaiHL1ku4m4ZWi61F9sqwEH4me68KCW1eBG1tLGGJYY5jGK9Xn2Uo7stjZSyDsn2/hBoSH8LwiKofypS3lXWPxm05mb4ZgWJ/CnPfpfv8OmsbHpy+M6naGbSUOlR/kwe/3ZMGNgJMAMXvE5QDTYRyDkykfk1tEvu29z+isGMy8ja7c6vrEUqBPYDgDo9vGWFKqbqcrcO2dOQaykvDT1GIfOfbIh9LTWn6TuqIw5gXfwGwJfz/2iKYBBuKWvkoylWx1eLqpE/lrM6piJxVc51cWLtUNOz4JnvIjcX8P5POBuXhrby9a67nfNhS8ZEDD2ME7MgBE2Q83Eqqdl/kRKnQ+uK/DSmNiXTfqoDJkjA4DmH8OVx9SN8Z45IOxRYCMzsUHwxtGAz/lkfMUuJnWxSYOEWNLVPGBFe89bUMj20hUO5PIeWV9D18fEGnU6Dyb1Iy8RqBPjaVe2MoOXG+lLNValewy9P98lCD9DVCTgvhZ9pHP0nZx5RSIXmHS+yfAxuNjiPb6mFJw3cDKgK+BTWV8p9SWX35iyJspzuRu/t1Wi9XtszHpcECVbRuYuSqmoL2S+LclbZ2qp85BmHO2NgX5jibK/qInE1TdUJQ30KhAo3SblL9fZRFqQPqF1ih1cP8aoea2PZkvtLxLlVY3Bde7HuZqikqDY73MpxW/YpqCAbaxCuMN5BzCVYtrJL2oyToII73VCh/sKr8I/+rHyRV1Pz4MuXq1vfL8bwNBMr9yRQm1fAYdg+9lbS2/81mnaSBlwPCTXaXYGutj9myW+yQo/ufYoLA7xOwwul9VVWfe1EiQk+Vqpyb4vE9JywotqGqHiGFm3Rhso2zk7rbym1Lh5Lt/NQsrhNBDVO6Ph+cFzHNMqSHx8C51Hrh+Onx0p9FJYx9sxttFxv7Qopnc0VF5GyaqhOCovOFEyn4TqwdKh7FDqJzw/77wI+gA6IaAxkm7SD4IG8sasLFh/Pc8Il8eNA6bkl6fifDooaqHRU0vd7xXuSz0sAwjb0RziW887Aoy4y9IGzA261FDbjvX78Y5arWL8vFmP0QKPcnfwWHpe3skbi+k2kW+1CGVUwndnR1jN0PGPkwjWetk/gIo9ui8L2kaXmoMU6Z136D0gjW8oaze6GlZXDth6rt/UENljsNGBn8kSReD/tComUwjaJqk35Coaqclomnu7otc6kGMsKphGU+GBvtyOYwdXUFF1XOermNyqXHStsVSjGvrnbGPkXg5Mff1icXgQKcCQLqVw+TKQLUBCgO3/OBaS4qCQaPRJbNWhOvzfcizl4rnKYBQ9ytDFOYwPnqPUrRiSe5WoKs2BZJ38vwXoJVM/herQYsb3ODosbufoTD5w+RENs9Oeq70zl2ibnUvigvZsfVmwSbhyG47eawTdLrFsQsUzbSVrHWx4PBSdQC66sngd7l+lNfXDPx8MPKFb8v4PtHeh8AMvSVpdwP7l5Aj/pb1NIfeR9E/1Ma9jMGDuyJ8ICagG3TEOBubrc+g9tmGIOl3U/CDza496UpjY9SFurwRB7M9hzfocayYsRjZYnzh5jKoztUnMN6xKS4Fd7lTfzCcqnAwb8wvZ9J9ij88SkHLHmeyXEhishc/uPVK87Hx9RR0cXuVVw03S+t4uEr5/qypnG2PbWtXOz5nuUbyJx4QxPKcfYIuG/PjtNtjXTjJGzqo5ss4S4byeZJ8btt23ZexVJPlVuhFXNe4nUv3zzKr53bPsyP1fOHbEM11zaasu+xuvU3S7Qv32ssH/ana0TgmursNqbza31hYx+nZs5Xh+ya5DAW2vfz8Pso0N79dzNdSFqW/01WvpwSi4n5q8TyXWrcth1EYvXuy/sv2qNoR4nl3S2uuvV3o8Pc2xEI+9P2/MxxaQhc3NhHReTSbtHT1cf/PsorMW065QOuXjpvi1nq0NjqJO6L4bN+uM/NyPXLXFLOJp8SnIhBGV49bqKsLUSqW78tDqSjCIT9SWN5vCQEBulUEKbPvkaqdXFj3++RSjKKCDRBwO3FAa/9MLyX7eD/Sh9/8CyZh4nZVSJudPUfkCNRbrAk7lrDQGpfHy1FqTzXrCn7Hje1/r60Wb6IgOtPxRReXwYC/dTFH3455VHuAsc+WkQu47btei2wtwEcvkaikMCjXpfk+XK/Szda92Oqz/sFV7zqnJea0mRi5lKxuL56aX+6vppfS40/y/qlkdiVnYKvNb/IsY+rZrR5eTw0Apv3atyNO/atuO5QhYDblbEr+HRPoq4gs58cbfan/SRh6WMiUNXzjylD67yoiLQOKQkSASJABIgAESACdRHg1ExdpJiPCBABIkAEiAARaB0BKiKtQ0qCRIAIEAEiQASIQF0EqIjURYr5iAARIAJEgAgQgdYRoCLSOqQkSASIABEgAkSACNRFgIpIXaSYjwgQASJABIgAEWgdASoirUNKgkSACBABIkAEiEBdBKiI1EWK+YgAESACRIAIEIHWEaAi0jqkJEgEiAARIAJEgAjURYCKSF2kmI8IEAEiQASIABFoHQEqIq1DSoJEgAgQASJABIhAXQSoiNRFivmaI5AYfEWyndBvh0xHqHQbmTalqwv4cdu3zRoeV3Ijfaq9XlW3dZiv+wgc+z5sBREqIq3ASCIbEOjJd3d3/2B9NcHYl3urc3c5pdvItC1d3ZY4Xvu2XcPjSW5M27LXbR3m6z4Cx7wPW0KDikhLQF4NmYGZmRf5PcnxQX4zM0+v5xUIJJLnfUVak+iF8Js0KXjAMrtiYkXpNjJl6RAzPiCKlnTT9t29Dco13K9yTSVvwjUme89MpW/YXjkQoolcNw+DtF/HenUifX8fylCi7JgRl25/+nG67cb20zo87U10W223pZcFOOZ9WObeNGZt+CMCOyIwXa/Xw6DMdD0Prt1d9bAeVKS4PLuezdb91mnuKkMx/y6Y2LLdRiaU7mH9sEYNx0fBvWn77tYGYQ2L7dnsuqnku3Iryz5ev3itM15PpEfO9mytebRX9+U+eNqTspH76aWCRjv0d0W0Sf7qOmyiNg3qva22xfSwdBWfY92HVfx3jt+5QAAiS18nAnMZipLgTujJwBLDot/CkFWmO4gOkOV8x4ypj4mV6pTIbH9AxaTrHU0Radq+u7RBrIb73y9NJd+Nc1n2B2mbUDkfSsz2dt7M96Gin/ULvX8zlXjqpFIRMVKTcHSJUzh97KY6VEtXbJVttQ3Ti6XjfI5zH8Z5N4rl1ExTU9L1lktM3ywLXh9LiYmFjweZRnkUs3O3XLJ2wcTidEpkerGmCuIOI13AYsNFs/bdrQ0OU8Nmkm+AIppUlH1khuaDWQR5v5vvwXWbF4tC72+TNmgdmn7b8u5Cb2BuCtm31dZPL5cuEMsuj3Mfxnk3iqUi0gi2qy6E+efHHAGrEGAmsxwSGSC/laNbiPluPrZApT0S9TGxPLuNzOGkq4t4k/bdpQ0OV8MmktdFJX7vWF+QzyUiX0sxjDg1Aj3xs2oedil9+PuweT0iJX+PxDGKCGxC4FYSZ1kGDP4IK1MeCI0ZSLy/XqYnislbcXR7TO0kibh7xUqBHnLeSq5HMzKv5Lovb3y+zeWHxLcR4PbaM3cZqYnUCyrWWLi9DiTfxqs+JpZSt5EpSret9rul18G8Sfvu0gbFGnbvzqzGtCg7eoJ7MXDlvksP0jA2f6anv8yn9NiXlWw96VGv5V7/U86StH+N5Pin9LV7z7rSN39LCSwUvk97BB6GPfOc9UqfSiLxfi9FO/+SfFOP2khkWkqsPyqkAuX/6tAfCR/I/JjWcJA+3J9TyiYdWRzXgVz3JN+9lOhL70btIeVTWqNX3ggUkzYXKj3ZnANUfZxQpMhpmGLZz5QRjDp+bVHCpLYtjHR2bPTTw9KzDRiATpMehHKnCtGZ/UazPKR0JQg85R4imKveNJs7KXiOwNFqJHPDk6zUutKRFTnHQn2SzXzD9c6/K5NcBj921/NxKodKAZqjlMtEzsIZ922U62NiKZ0WmW2uhkXprMzt+IjUw7xJ++7SBsUadu3O3HS/FWWHf8hmF8Z57sY68vrRTM5HWU/E+Xjdy+5+vT/gjKnuyei3Nt2I74lzNA2pqAdDIn3XlsRdo31plo8HA0l3NIq13U7fSHmVEmOK9VCLc4XTLmSZZxzdSDLN+nu8nC9VPIfvI6I+chNPrjInYOdiLQe/tihtR9RxjryfHpaOYaBSN+lBWvYER07NnEoDPFe+eO9ZyfvUTH7/yln1uw30/Wevmnb65pW8i/yTlVqmbxFeluy0l070vJLyX7O3qV8FnxBwfVMuKO8/WFoc/xWNonj7W4nVxmRSOtM+3v021avIeBdMbNnjI1OUedN1KN2mnLum1cW8qn2r+e3WBmENj3FnVku+a0oou30L33S3TqXHWTuISS2QuvR2KX1Kfb0Wcr7KbI4/pN85LyJXcplPK/jeKCEVtZDCemBLLoXnl7SKY+lr77PKPnpWknL9t9OH5cNJ+SqjG+NqpFZvUovRnflLWPW9uikS8XK+XNtyDMWSYW2090LfnsU4+TT13NV2kNpibVv+nY+NLl1L6DGGgabt3oO05EmOVEROAvsZM8VQ800mM27l95f5ubEmSfA4v0nd5/oyKLhh0w14ISE42g0kp3bCt9kg6edK/Ivs/N78UfnTCRgtdpPuhnAn0lgut/lQDFO3PxFkS2DHlHjYBRNL4fjIxCWPx4bSxfM0i90F81j7ttUGYQ2PcWc2wytWKpQd06JWGYnlRcoocFvFZKdDVqd04OGlfdmn9+wR/SoP8biLuE8FtMFT4zDJYEthohW0bfApa1zVUWlBSpX9m5xjMgTBIhLnanOghy/Tfr6U3HORDyPPIvVg21TOlt6eAwqd1miZThiBX5GTpVb9fyJltK6QblsoYxCWUKzC2E5e/d5JqShUdxHwZ+JvxCpiA5SGcriR2WAX7KN9IPO1GnrBEKmx6MIYXHrpfK+NHZS8SdyQ5srtdmblGeVvi34ddFDxKULdKD4EbPoumNgSx0ZmIkOvC4nYjFx4zH1kNC6UTmM3HZ9KawFsbp2517L1MY+3b1ttENawa3emohU/hrLDG2DoveX7ZXBHw27o90KcWwuBnxPnFoVirLtG+psaj0drq+zlm9/BxytJ749tHByv7WcrGTtG6VgyzCw1qGmRq72L/N68krv9S/oKspLS8FGrLqdSbM+xkNcf1PKNSHAjR4QypzR6wz+8pGl4rScbjg4D6ycTZo33oDBPZ66oiHSmKc5EEDwKtLvo0RlJi5WwLnIuFu9GWgqUVJFxOfTM5zOQrv1VE7JjXCUoZNp6CS6Wsq/4xNcAYUCNd25fVq1dNSZWqOMic++pf0YmvlCXTaEo3aa8SNtGzy9fD/N4+7bXBsUadu3O9BErnoeyfxaFHZgWQyJv5no3hmn2QRnGtXkF+tYx1FKF5eKmTQYprX9EARuKOnKbWUZiXC3TsNdiYTOc5oeijmDSqrqcirw9B5xMP4pN6UFsLGqnMcIn5KT0cIRqFipmuAPDGD9/eK6lp8IX6uadx1VzxnuQpnbs+HvH5KE43UYAj2t/XbuVFj7pNkxSj/hX2WPvOe3kfo0wYKrJEZMiMC7Ggz9RotMnvs1CPTvC0hPpmFVhUXrzx4yxyoO3Hh22Q2O20qsaJDZhMpZH9EyGF9T7rcxk65B4fGS0FnWOZenqlKqbpy7m/nus0m7SBhj0P6ZWgT9zdaxcw0PfmVqD/Y9F2VfS+6ZiHSiuQMOm93bCxVcTocTofb6bLFAldPpmc0nQ93kiN1quaiIW6buHhdD8IHXRPhXjWqYKzw0oCN/lXphK+U8pGkVpw3LbKU/E/vM6H9ls6TInnypeVMK7GeNiXYS0NGr/QVpFMfA5xEfIMEdnrv7TGUkoyDkggOG6OIyNsm4AO8IP6djfZFDEwwaP+GLHept3Vsy72gWBeFDY/Gmh7J+vdLxLFRbYRTTgLOzGNuVeBsCqX9FHBCX+zKlAUn30uVhLdfP/akz6UtuZGILfCCp483LTI8dHZnMdwtSydGH6flcO3WrMq9q3inN1G+Du+q9YvdAC7m4s1/DQd2aV5LvHl2X/LH1y6tUONNUeAvM90NEw9B7dGld9hPKh4U7uZn2J0Lj4cSU83nlJ9gtFnwI5XFt4GXc8nQrFidTchjjXIsmbdAmtjYULKqycMWltDvt/e46x0FBsbM0mYvHAwmcbLCecw3ME4SaiPNiJtDRZ/rnRQmNipT+nthjFwOXctQe5kic5+89JuJLpuSKArhVOp4xlILDd4It0MjiZYu7Vdsof6fyrX9eBDJe2Iz7Ig0Hf4V7EfSwcmGBlcHyS9PwupW6pFfdS8Hnscj7L5YGfB6wi2EXkn/RY998mTB7FDvIzq6f/BtRtZMrSKRbhpIDG7nasg/mu7bupDf4VNXYhd90oVzrhV2Hb2knetTvTSVY8K8tuZHriXvqQ+yQhHtD3WUGsVNEHIXLEFHL0SV/p0PPnXHnA+72WTLI+nDHID47KnSj1yrMv6j4CRgV9YI4E/yoqUKLsGJETzk4cfRuB8cPvVTGuyBlSw2SGDYNMnqpyWTY5xHM4usscvYH0d0WvzAmjpx0B3bSZqy246Nq+Xm5Tcumx0kB04N3ZKvOuPUjLnej42/pEjMn27BB4kA6NLgyTKAKUBagP39MBCg6QrnOlGSTHizhxreyF/Mey3NvU+vFW3lGhtNiAzjnJ1RLE4fucr/PuNZbH+VIGDWcDwcI1HRYzIg0PI6GDx9S9DI0YKn957zbbSW7GBOXnIjcGTGDxKq/BaZHZ5iNSlM5IHW6k3bBwG/aw+7weqOHuYTvmu7TvtjZYC/5PIrHet5C3WMMu3plVuBZl13y99B5+TtumuFXgRGoMVWMpeRD6MlkFC+NC+iGW19pzbPz1kLYz0LqT83+kDHwN0NftclwtiU0JnyNUsO7DTtSiDe3mZfrCASX/lbQFxpA7sZk8y31lqaZCpf/q00f2qcgYWmhDrnCNh8qDKQw7XgxkBML9/0vUI93eDZTCcogphjCHk/NBEEzSJcozOS5EEZkqO3kaAABAAElEQVTLfygIcU5jsZQ8iiqM8c9RwZoihCoumu6XTguIagMJigF02hkhi5QPcx1sE3WCjUzI/0IQwFciy5ubzbItg+ydNZI88XssCfLF8/ixT5Vbofm5Tn+ObYXsNlDjdCMj3doJGxvZzdOsjMdFxm0FVYVQKF1VrsPFt9e+2FCrfF+eFv99cTt16+wrP8u3icAkOqa214PalLWSFqdmDqPfXR9VrKTX6RX1EYF+rwZiIILtnePhTWVKLH/MIyCW7/RxMJDaOt/Ku2cSzBqfDpmqVnB4he3m4o9z1mb7xu/L874zT9s6x7kHyGUfBNrsQfvIUbssFZHaUDHjRgRWsr3ZRzG9juTPOW7hDJ3CBn+dvMZpSj1/fJv7/myMjr3caDoVc/BHTy07JTLwh9kcQuk2520/td32/UumCkaF+xIu1+d7Z4ayt48/KXYfAayJwnTbWF5wyqHdHlSm33rM761TJMFrRSC2PNbIktV/RUWBnwjmmeN7k9qNv+viNpJHiHqo1y1zqnxuBhwLBsPQbWScdKHUh79qu30Xmc9CUXJXw/O7M53sxVrx+joQ6Kfu1lBFymNh2z3oGIhG55cqZ3KYmwjsjEA//SQVPre1lk86xT7PpZ/eqnPfWWp1cnY/T7eROQ3Sx+Tabfw337/HxGmzJEw9BQKJjKRj+ShomfdZ3hlcNXMMbe/aeeAzXbCJtBGwN8flhG4j06Z0ddvsuO3bZg2PKzlWlrXXq+q2DvN1H4Fj34etIEJFpBUYSYQIEAEiQASIABFoggCdVZugxjJEgAgQASJABIhAKwhQEWkFRhIhAkSACBABIkAEmiBARaQJaixDBIgAESACRIAItIIAFZFWYCQRIkAEiAARIAJEoAkCVESaoMYyRIAIEAEiQASIQCsIUBFpBUYSIQJEgAgQASJABJogQEWkCWosQwSIABEgAkSACLSCABWRVmAkESJABIgAESACRKAJAlREmqDGMkSACBABIkAEiEArCFARaQVGEiECRIAIEAEiQASaIEBFpAlqLEMEiAARIAJEgAi0ggAVkVZgJBEiQASIABEgAkSgCQJURJqgxjJEgAgQASJABIhAKwhQEWkFRhIhAkSACBABIkAEmiBARaQJaixDBIgAESACRIAItIIAFZFWYCQRIkAEiAARIAJEoAkCVESaoMYyRIAIEAEiQASIQCsIUBFpBUYSIQJEgAgQASJABJogQEWkCWosQwSIABEgAkSACLSCABWRVmAkESJABIgAESACRKAJAlREmqDGMkSACBABIkAEiEArCFARaQVGEiECRIAIEAEiQASaIEBFpAlqLEMEiAARIAJEgAi0ggAVkVZgJBEiQASIABEgAkSgCQJURJqgxjJEgAgQASJABIhAKwhQEWkFRhIhAkSACBABIkAEmiBARaQJaixDBIgAESACRIAItIIAFZFWYCQRIkAEiAARIAJEoAkCVESaoMYyRIAIEAEiQASIQCsIUBFpBUYSIQJEgAgQASJABJog8Lvpm4npmRspvDTPZmUSOe/J1bN51YTgXmX65ovwPgXnvcRmYSJABIgAESACRKAZAr+tUS4xL/L/N4/ExIyDay/pwKcz88b8UYvH1HyolW+fTMfgUUe+rshRR1bmIQJEgAgQASJQGwE7NbMq5b83j6ldpJRw8IhlbQ6w2xw6HINHnTp0RY46sjIPESACRIAIEIHaCFhFJJZ9eiJFJCZLLG6QTifFUtqLOwaPOtJ2RY46sjIPESACRIAIEIEdEIgpIvbte9FpRaRnHnao5aas1baG9nhs4r89rStybJeUOYgAESACRIAI7IjA75H896nvxdJ8TtPG5s/0+Mt8So+D1Ln10SBX38yy2CKZiUT8EnfXqVlkSb2UaiJX9+IS68JQ4jEdM8/42ZSxHF6JKmTTXG57NjR/y0k/U0busuQyh7isibjEPos9ZWmehEci0tynFEKZ4zwyVumhLj8jiNVFw6dvz+NyzET+1+XMjCECRIAIEAEicGYIrE36W0uwZ731LDvD9Xw9zq5Gcm5zIHaWxs/XL3mcppl1sn7KSvWEaj/L8ZAdJ5Lq8uIqSa/HWZmp0JxkcbNAFlcKZzNPHpsS51CUNRH6o5TjNKXQXw/kKi5zmYcvQ11+9dHwqfvnZTnQXhY3Px/PiQARIAJEgAicGQIqLh5sD/KbydEpHNNAaZivp+kD3Ei+l1TB6OVqhtLB0S9lH/ZmPRS69vFvvLOBnEMNwG+e8Zp6cRM59yn758WHc5xDWdZxTtPnHpM5puw4Ceryi1GuKuuoh2fFupp1T35hHl4RASJABIgAEThDBHwfkTuDn1sSm5iR+e4ZeB7lGlMrNmDKZZlPvGgslgKPZMWNhrlMoCAsZQLkOYtcmtvsbCLxLq9O4pg87knyOY5ZoYpDnIPN7Mv6Ni+PCSHrIRKXOc8YPanHL055U9kos1LkUpBjIAJEgAgQASJw9ggUfURW4qmhasIbqd0vr4Y4f5MpCapUeMnZKUr1ZBcSG7ApGrwwFuneIImUx+Zpqlz0c5XD7O3xEOcAKUJZf5hhKpFVcezjPC6zrUHV/3r84pSry1ZxYzwRIAJEgAgQgYtEoKiIoJLTDTVVFWJVmQc5fBdWtbAMzUfzU9xLv+U2F9hK9n+vx06wlkqZgxUylPWzyPEudYz9IOqRtcdUyayVdDw0Bsc6/KooV5X16ZfP43KU8zGGCBABIkAEiMCZIBBTRHSy5KfUwd/mHatnNK26esjhl7I5sVPr68JEDiZMqhfPVnMIU3pCA4pIjEOY016tRBW6zewvuu4kLrMrrTxcTF1+ccp1ZfX54TwmRzEPr4kAESACRIAInBECvo9IUeyVeIgMvMihqCGhdcFLzE9XkutdfmWySZqxxELxQLDKB5a0PspUjQsjd1rjbJlN8NxkMsU5lAn1ZaEwPGHw0xCXGfYaWDSM2FzK9a7HL065XlmVLiZH0oIK5+jzbFcEknx6cdeSxfzWh6oYy2siQASIwNUgYBUR+7gtV/q9REFhQIDXh+7YsdmF9E68MrRUP9uFZCkPcxsGMkGj58ipG5P1InYUyKV5s+L5YSaPYqTfijqDEOeAlLB2K5FtKArWQNxoXUpMZkwxhTxATUNdfjHK1WWVengsy/Ff2QPFSR/m5tWhEejJTjSr1phsmgptjQkJEQEiQAS6isBv6774TPTStS0LeZgvs829nLyT9IEHPwy77ddAjm8kDtYRp5i4/PYMX/RdiqsrnF8RsIkYHuyJ2EV+ik1iIZ4oVoHwc0KWQZrnq5T7kp5jXY2zXaTEsn9j2dbs0fzIVvbEOGDztLKsD6KIaFiY97mlxpdE00MeGotjfX5Q5uqi4XPwz4tycEMzH519zu39DJdmrGVCu9qvTy8r3acT86/5q0VFZCQquO1b+9SDZYkAESACZ4qA/frumQrfSOypPELssI/pjY+ilPzR4kOlkUgsdGIEprLk/C5Yqj4VBVY9iIrCPeRKdDGl6fVM7kiduGxKg+WIABEgAmeKwLUpIgOZCvojaKsXeQRZ20wQzYsrQgC73YTqaE+sWHF7Hz4sUHbG3g8sfIqgSu3ZjzJLEwEiQAQ6j8AmZ9XOC99AwHBPERB4lh/DNSOQiBpip2UcCtUbxn0UpaHt8CgTQnRabRtV0iMCROBMELg2RQQ7h/jOgRMxidMofiY364HExMowZxOzCkEizsCxkMhU3rdYwp5x32WSkIEIEAEicJUIxPYRuWwg7uRR8iBvwAiJuM/STfCy23t77bCT8CzLpsvV1cm6WHog/kT+epme3E1vU58R2EmSwjekXWnkuxVbCj6TgImdvjhg+5v5/ZB4BiJABIjAVSJwbT4iV9nIrPRGBJ7Eadl6iMD/43WgaBQLYv2T7zsyFYViJArGZ/NPWm6dLycPSyLfWP6+m6+pBW4iK8J8r5DEvBS8VMLyvCICRIAIXCwC1zY1c7ENyYo1RABrp1ayVHwmv3/lzLd3lEn2Ao8iO4HzSiwhVg3Bbjaxpea9dKLnlXCyagi+4RT6hICrv7lfmTNjiAARIAIXisD1Tc1caEOyWg0RwGSMfv8IEyabQxJMqNykS37x6UanvvSiBPAV64HkU3+ktwEdWySJlmQkESACRODCEaBF5MIbmNXbgoDvIXJT8hUpFr4Jvkdt19YM8lL4fIHv+aGlkQ+WF91FGEoJVBM/OFXGj+U5ESACRODiEaBF5OKbmBXciAAsIrpmRo/4uGBV+LOQgCkWLQda6vZayCaqh58vkUmaMCSeVSVM4RURIAJE4KIRoCJy0c3Lym1BAHaKRUkFuM+naCbpZwrcFuzPYtkIAxQMnXC5E0pVi3tvJU2tJciHMpisceHZnfKMCBABInA9CHBq5nramjUtI+DbKTR1lCkmcEX9YT6JajHKXUsXJVvJ21wNSSTffV42dEYNlY53qbqCryppwJmqKRrHIxEgAkTgKhCgInIVzdx6JRPvIbov8eIje196u5T/WzKHkylj2RXEbnn3RVQDeHLg20Rq8/hRWtsyENXEKhQPorTYTzwaWYw7D1QWWF4cH+xfg29ZOz+R4v4ku9SBea8TgTb74HUiuFutTzlO7SbpGebm1MwZNtrJRa7+Eksz0bDLxvHDgygQsIhMMlsElAX4hnxPr7GHKhxZEVS9gJcHhv+VjZb/UEJu083IsK2ZUyweJWXglbuRMm4a5l6+G/022Cr+rZeaE+cJEahEoO0+WMmICTkCpxmncvYXfbI2/F0tAuP1fP0iv/l6mmIwXM/Wa7l+Wj9kmAzkHDEzD6NE8ife9f530Gg9aZXe/hKZdV/qHavlbD3yZB1Jrji3JMgXz+Nin9aDCjouD8+IgCLg+mBf+uZc7sK1dwf1s379lPVrLXWoo+X3lN3BiYwZdjxpwq+Xyd6kbLnMNllCycvlw5gujlOhhGd7dbaCc9huBYFEBjAdQOy9AMUjfAC/rHsBrwdvyGvr/pnJg78tWu3QSUT9UplG+ZmRuvt4PQRXPufBDiiFNH0qPCcCMQSKfdC+Lvg5B/JA968Pff4g/cXygArv95HdOTtau5cNS9SRZZZLHpY1EXWqe+NUUeYzvaaPyEXbu7ZWDpMMN0EuN+1go4fiy+C7UfbFcdNNMgRF97iYyN6m3Qor85d8iG4s0y5jqa/6iGByZpFO6Fhpq7Hom5+1K3QfbBtfuxgzXikC5T74KP5JibdPjZG7r/791waMboxYyMcL/M8X7E7d0dq9bFiijizV3DBRG4bujVOhfGd7RR+Rs226lgRfyQDmQi9dHwKPBg1vC58F/Bj4NmiufY/wveh7j/t96bVRflGhHryXreD/ShGCV8k8yioxf3oYRrPkkSOpt1N08mieEIEKBGJ98F7U46H81E9p28cKKki3Et2lu7m5LIPCKxqg6eI41UqTnZoILSKnboFT838OBLhPBzL3JjCWr6j4AS6cVTtl+Pl2P/8u9ofzCCvzPrXfjEQhMaKm2TU2oezvCriFqf5VX5xd+QVoHxGeb0agqg/iY4xfgteKzXSuPdWNcjEk/H2Q/fTzGad8qTt/TotI55vowALC9qEbkw/FuIuVImojQVd1thEIUlxmis/bY73IY2onScQ+4FaYIL8LyHkruR5lsuOVROO7Lr5R9Ee69sTl7/LZQlSHRGpaVVd/nc32evhf892emzmuHYFiH1Q8lnJXTrIerHHuOBYbHcIvmcRBGEjenvRGbN7Xl+Xkn+T/l3QkeC2TkX/KWZL20JEc/5Q0t4S9l65xwxihu+akBLN/eIDj05Do40Z24rmRF5eVcH0l/ft7bmOcSBripp4tcCTjwzLdQDAtWvo3Er4Ykb6J5FNZRp+I9Lfyf55aLu7T3hjSDWXBuPZFJLsRLk/CG6vf3CvAWCjjs5R2VBrKujaMUfajDH4PPadxqgRhhyOO6tB0po40F43Rg7iWqVMm1q6M5VrXhZR93yf5ehrblsgxEmevSebg6vvuh62NnGNxYptk3CYFZzq4zYZOsmF5XhEBIgAEin0QcdpTsX5Ge6+/Em0ufc+iN/L63VxW3CAea+dsKlbgjLJ+iPNx5qg+8dxPdUWdHweplIYRqnr+lPdpxNn+jZUsVpqeN/bM8pEFrtta3kql/zFGKHffTdxSrqKrtOB+brGZphj0M3fyqcTr+DXz1gei/srZHTlOOSxaPPtPh3UkinYMBDA1Y91V7TQMLCDWIgL7SDHgXccF7D2K94hEJiKs5WSZvi25HHrWy3L25Bsrdtb2l7xv+AHl3/gR2flENger+pXlixBgFBG4KATCPhhWDe/u06z/uhTEWDuItdXpZOJSehwcz+/E58mGpfTKZdaXF3KunyX4IbYCO5UBP5RRmvleYuxZVjg/2B6OS/0u9UgsMO8zurBaWGmWYsWwTurjNN0S8F3DbYz+X0l+7PyDMBPudpyCbRKjR4yu+/yCEVmRE+FBajaQcUid7rHBoB2/fEf0NGvpX9U4VcrIiF0QoCKyC1qXmBcdK5G/nnRFnGO6xJpVb/OOKlFZ8DfzggID1zisHEFJG+xwpVfuiJz4tooOUm9TTi4dZ5CjGO7NH5U/32RaLMdrInCZCIR9MKyjfREIFXR8ekBdWJEbk6Oup6E/LvNeadPxH9MqWHtjA/q3LQM15TmLXaYTudlF9GBduXuiHH3PZIA0qgAYmVaxryOYsgUPG5S+XrujbkJoZF3OSighvEs/IBmn60oamULWgDEuHKdUItTZYaP5i8ftOYoleL0FAfqIbAHo4pN/SQ3RKT9k86UYBGAhGXvzp3KZhRuZw3XB+ngMvJy9YMgLc2KNCd5abPD3HbUxbiDSPM2O62bFzqzUb2cmL8VtC4GwDxapfhb7xkAe0c5/CXZGv9fi3FpCTK5SFKnote/FZeMW8lqAh/Ub6c03Wx/aaoGAg7cNkKYno4sNeOVJ0vGmzCnLEhygrnwQpQW22G/ixwHLyuu0rjG64YjyQ2w5VomDIlGPX8A8uwipxnIwbmcEqIjsDNmFFUCH/FO66NesXuhmUBmKbqpZcubyplewh+AdywaYTd0XVbLI/IBUlzPJOWqGTW96mqfOkY/oOigxz/kiYN1Oq+S/M/8VC4TaMuK58ChGaPJQHcr6tp8yvfGtYhrWUnb/JzJG4NvTUECWMrZgjNCJIrwA6dSwK7HpDJ+gxDTLd6E0EorPWR1idEM6n0Xud6nS8sGblgnzxK6gKPlqS1vjVIzX1cZREbnaps8qbgcIfGHFBmsRgS99LDynA4mfAvVikUXg8/bf/MTgHIORdmjkRClM1rgA3sUwESWpKlTt9FGVn/FE4PwRKPfBsE6wPjzIT3s0VBI72WrzQY3xe11YetvVRKwZr/Mevy03XlTGonZYfhhVcOZLAwoYFcKpEsTGw1TUj6FQQJmlnK1E6UKI0U0T8n8Ym26zrdZ22XAN3jE6bllisXEqZ8OTJgj8p0khlrkgBNCpBt6uF1BMdNlauZqL0oDxNh+U8IaiC/qwPVkx+ErHu1RhGXhqDd5owu5uy9/LoFP1o49IEWNeXz4C5T5YtCnAH8M92FdyhdcFDUN5aKOXNwv+PsOWh5tujVF8kF6ti2Qx5YuPP77zMtpJmk+BhE52L2N2uhAKH7NtBL+LYvM6GzXidP3yfSl1JyXwqxOs9QbY+mhVjVN1KDJPJQJURCqhuZIEdDJd82KrjIGr6o3pR2lly0CGPHRO+KJ/ymemX6TTh8MJpnvctA381OGtr29tUIZWQYdPSZ75vzY/1F5W7M4cHIrfEIFyH+wX+prJV6hYFvDPUHUBD36nwNueGxcEaVAdNNjzZR43kAkal+5Tcvc99hTRb1iPM4+UOzmqNP1sqhe7lOhanpGMMY6CcnfHz/KSY+2uU6EO91IbYnQxzaySrYTrUMaZgZTXOC2rR7/Oui4ndNq/xHFKa3/KY2SldIurg0n9DBAorpaf5Wv/y3dCcRU9dgIYyK4AY1nfP/TqOpO9AHQ/A0ulJ6v13cfzkH/iXcd3RyjzrxeDvVHwzeDyL03I/vny1qO7W65evufBbuXiufv5XhHxdMZeCwJhH7Tfj8Vn5nSHDYvDQPqXj8hE7p9p2us0HTt7rGXfDC3XlzPEYPeQJD8HFezZoRyQ8iB9eyz9Hjt34PN7WhJfpnbniEepifywc8fakwh7oUyEhj9GjCUXRpKBHPEFcN35xK8Fzv1+VRyrQrq+LChpxwURRMI83c9Ic/h1dt8OxtfJJ8G41u44VazZFV//dh1LDE6p6l0Y75lYPpxH/kjeY+LOoUnmGFa3+k9iMK2yw9SloflghMVMdGyqB1/TuRXZ7L6MWmLbESuD4Jf/LDRXcoQDGyw+y2zOuVw+yb9IU05rFoMdadXI3YwCS10GAmEfvIw6Hb4WU+m5tv/AOvtRrCN/NLDBtjlOHb7O58Mh0JqvWCMjDjURCD9Z7+9vGN49A3mzCWM2XYVUN+Wsl4b9YYuWnrDkVHLstpMrSoRWFLtDY0hXr4ofatf4fY78CPk+6F1O2bZ7y+UgU12TgVhZwtSXnUYoW5bIhxi2dkUfkfPRGbshKbYkc65v2MwsHvpbFhCGpe69eeswpdkV/PT7+Ux0jMYH8WiJ7wsZy404WETC2k6iNhfkLX+oHbH7Bn6EfF8EL6N82Acvo06HrkV5pctz5rOyC+e2x6ldeF90XioiF928B6nce3nAW2cvmDgxCVIO+FAWpjDqhZEoN4t6WWvnwgJhbBxdHe69vRarc2kK1gHp5tcat6xURGIfatdSzY/2I+TNy7PkpSDg+uCl1OjQ9cCG7uoOC16TBmPOIcapQ9f7TOhTETmThuqQmNinAF+IGIkXBL7A6XdvFfOdtyBY46qO8Nlo3/dhldpYsCV0ddDdHqtzuBSoNM4eYtew2G/tuDx6VvWhdk1vfuRHyJtjd0kltQ9eUp0OXZc7Wan3IAoIflPzY2cb7GHGqUPX+kzo01n1TBqqY2K6HQ33F6zfujVEZcLmR/hUeBsBtHS5caiUlKkPRVHDRtgaeuIY91YGv0cZAuHoOvfcfTWPPSLnreTC90Cw7VNfXHh9l9si5bA0r64JgTb74DXh1rSuhxunmkp0QeWoiFxQY7IqJQSeZPLoQ+Vjv5R9QwQoWS97bPeGT25Vh4nkdXs14HuoH0SxmIgcdseWtSgbzrri00HOsfx9z75SPJHJJX8XyES+RNzE19/nwXMiQASIQKcQ4NRMp5qDwrSMAKwh2PZo3wBvmJXYOWby+1fONqkh2K7ad42zEzivxBKiG8fZb6SWZbLbM72S8l8zK9EvsYn4AXzhNMtABIgAEbgYBKiIXExTsiIRBOwj3+3oGslSKwqTMd/EynErv7+2rgcKP4t1k+4fi/VFTn2pUo2w0yy2wlfX3bfBxIwVNaklMTMRASJABM4EASoiZ9JQFLMhAp9FDeiJVWS/AMuKqjM3+VnVmpzwQ+12bc0gL2W/QhqTBzlhe3nIEwfeJvg20ikzeSaeEAEiQATOGYHfz1l4yk4EaiDwXmwMVRaIGsXTLL57qnp34KucVaH4oXZMsGg50FKlplze54SPAn4tZAmtLYVEXhIBIkAEzg8BWkTOr80o8W4IwGPDdx3drTRyw0qBr36G4b7SCbb8oXaoFzrdgh1O7Ee7Qnr26lZSdZ0McqIUSrvg+5+4WJ4RASJABM4Ugd/PVG6KTQTqIZDIRAce7vsE30qhdEYezYn5JVfuSzCLgoupkcW7qoYksn7mQ1bWKjhK0R7hIaLhXaqwwC6iAWeqpmgcj0SACBCBs0aAFpGzbj4KvxWBf2WztH0f3X8Ll3AyZSxeJ9bvBGtifsh28d9EwdAVLuUPtWNyyKoTD5JXPxr4IjuKhNM7UE0cpyQ9191LUFV+hHxrgzMDESAC54YALSLn1mKUdxcEsIkYVqI0D9ibFRYR/a4MVAUoD98z9eaLHMEBX/ZUqwe2Yvd9OaCE3IqiAsvI1JPnUSgNcrVEkuWbvivPInJv/pYS2ARNw1svVeN4JAJEgAicNQLc0Oysm4/Cb0QAe6Fu2le1lyoTY5lUmckZ1I23sn39LtM42GAstjlZ+KH2kagfv0UlTcy7QBGJZvIi+RFyDwyeEgEicBkIcGrmMtqRtSgj0BcbxSY1BFYObKK+EDXki2wT9kl+8ODYJcA28jNSYBJ8Pec2s56UM76pTCnntU6rzoMkloNxRIAIEIGzQ4CKyNk1GQWuhYB1Ut2UFR++QngUO8jPzC5hbSSbSoVp+B4vlBEE5yMCmovUwmJTsJlZPPSjakw8Lz4wuN/qnyq6jCcCRIAInBAB+oicEHyyPiAC/8ralGonVWxxNkg/K2eXx6rjKZbp7hJWss/qR1FoVmJLUa8RW/69bAX/VzrNA6+SeZRoYv7cYSKIHyGPgshIIkAEzh0B+oicewtS/hgCD+lKlnKKdTW1jqOL7HNy8PN4lSotY3EOfZ1O1pRL7h7TFxXlTuwkH4TiUmwiH0okRrLWpq5HiqVWIsEIIkAEiMC5I0BF5NxbkPKXEYBz6PagX+UdiofIH2l2fNLus6gP99sL18rR5ofa+RHyWpAzExEgAueHABWR82szSrwNAd2zY3M+nYQZywSJVT2G4tyKZbgMRIAIEAEicDQEqIgcDWoyIgJEgAgQASJABIoIcNVMERFeEwEiQASIABEgAkdDgIrI0aAmIyJABIgAESACRKCIABWRIiK8JgJEgAgQASJABI6GABWRo0FNRkSACBABIkAEiEARASoiRUR4TQSIABEgAkSACBwNASoiR4OajIgAESACRIAIEIEiAlREiojwmggQASJABIgAETgaAlREjgY1GREBIkAEiAARIAJFBKiIFBHhNREgAkSACBABInA0BKiIHA1qMmoZgZlZN/j1W5aC5IgAESACRGAvBKiI7AUfC58QAf2w3SfzW/T3h3zK7pV8TfdWvh7zPf/K7ccTSkzWRIAIEAEiUEKA35opQcKIs0FgakaprK+NfsBuk+gDUUgGkuGPXCnZlJtpRIAIEAEicBQEqIgcBWYyORACT6YnlJdi+agX+uZf85nf160HFnMRASJABI6BAKdmjoEyeRwKgduUcM881GSwMP9jhhV5E5NUpNSN3p+CctrHk6U9KVSa5sdyPcoxzalfd8kutfN1t0QXan/m/YqKSBduIsrQFIGl+ZAWHWaTNNvprKRETBXpmS97TtnsT8GXXj1g/Lg65+1KUYfj5jzlepRjNlNgagyBrrVzTMbziBuYiYwe+76EnL6uZ92vqIic/gaiBPsg8FkcURGm6SRNHUqPEY+SRGwq77PCYzM3L/KbC02EocH6nBfzlNtdBnKOmFlWAgefghfd8HQh3CcNyrYrRQMBCkXK9SjHFIrwsgYCrp1HchfibsXdiGnKgXcNjyhj+tn9/CRnxZDInbzpAWbLPhWLNbjuZVLEim6TIiyziVKYs87VVF5M7uX3b53Me+fZraa7sDv3ftVkBSTLEIEOIZCsX9YIT3vI9LAeeKWTErUniUm8HEZ49oLrkEKDdcUBNZSfrfuluG1025diG8ft6eV6lGO2U2EOH4GwnR/k7hx798pYrh+8a7OeBumOUr90p7s0PZvJva7n4XFaER/mclcPFZTqSOGo4KyKUphr+xU4o18/rCc71mU77ViOujXdFVnL64z7FS0iu2idzHtMBHx7wya+K/NXmtzb+G63iUJf3hUfvQwrOb/xrk1p0mZo7sRF1oUiBZfS/Gwik0W7hUNIsZsEsdzlepRjYuUYV4VAsZ1h07DeUrbEZzlYa4hSWJlPehocF7K8/XUQU77w7/MwFRaYXUIVpTpShHyqKIW5tl8NpGejt98dyYG9bk13RdbW9Iz7FRWR7Tcrc5wGgfqdcZENI6PC8FtX7o+laZBVMGfcS43avmryNlBcjClTqMu7Ot+jyFA2plfnP4wUm/jVSyvXoxxTjxJzWQSKd9ujPEwH3h2LOzWp2RcWJSW7LsqDgrJet1wsX3MpYtTqx/1pnutnbiVnnZo2RfaM+xUVkVbuLhI5MQKfMsXgwRuO64qUiBfIt0LmcHjChmjG80EZm3+C/DEKQYaGF99FwakfDiVFfQmqcpbrUY6pKsv4IgKxdsb9+y7POEztH3f5NfxGdg+bXwTqr1TbnfN1l9gH2bPtV79fd5uz9oLASHbh+GX+lL+4+bYNkA7P4878V5SQRJzOtpmai/VR86wfD3NtL5t8GYqTKgzf6lePARrpLhQp9ES1eSsTRY+ppSURNz0Yy8sB+W4lz2PaBnAr/BBM+PyovRYItItSWH6HR347h3I9yjFldBgTRyDWzg9yp9zld9krsRCORTGxK8owbXOfkYID9C/p79PUYRuPvJ7YBHQXnkQmA5/FzrEUF9ZXcr+v8nJG6BmJ62V36ND8Ldf9zH3bqTwhfct0JPyXwjXsMzYN/30p+iIB+t1r4fenSKD8NlMKuQKJN1L2Me21c6GBnYbKo0Jf1Px+yh2u7nZqFlwRdCzEipqepN1LvfuizhVHSJu+zKZ2bgS9e6+eRWp1alqFbCpW+m/T6HK+/eooLjoxtx3GdQOBce7GNm/gHFmvDs147Op8OhDHMwTfba+OfJOCYx/KwP1PXUXhxgb3v1HWV8qOZEUKyDESx7xJ5uC6DlxhnUzINxYn20nGa7KeZzxsHjjNhi6yrmz5rCgFcjRDvky7OqYOh3I9yjHVHJgSIhBrZzhP673SS+/UmVyrA7Z1xEzkTrN9oydpenc7V1Q4fdt7fJreh/2s/NS7k2fiQq3SzEp3a5y+us0OhH+V26uTAk7ac5HD3vchvxileK0meQ1HQq26D00CieYZPui9rifORSLgNg/yKgo2XscE0FMn9ji1ejV13B0fPds0upxtv+LUjNM0r/MM7+MImGOus1G6kXcEu1ww9j++sdjuPJq0xWP2vjKRd5ddAt4JiwEx1ifETsPgbc5aRGAfKYaQApbo4e0xkQkc+xaou52E5XpZvp75miH/qyA5Sr8JC224CqWwGQ+PfB0O5XqUYzZUjEkBArF2Nunkop2csRONuEutpUInZmA3sG/0S7GdqCO06/PYS8Na7h7kPhzIPakO3InYAuydvNjgeRKjP5b8uiw+tmxeK+akgPWiL39FflWUYlyN2CUes356K7YQS0t5VR2nUn+1eAAHXda8lD4IJO4yp/hieTjOqu0Jlic7PlRR217TIv3wevPocrb9iopI2MzXePUgZlCsGlED7TYM7uVrLVU/Z6QNqZR5zAoP3TB/s6v77IH+b6Y01KMCE3QxICaRv56k4RyDjcXnNh+eJSoLIYWb1KMEiDq6MA+XAzxPBpJPB6e3KZ8wH6QohplM9pRDKIWml5HXlLaOZQ6xti3XoxzTlkSXTSfeznhs2sfhn+l9902urWJi79hEJm9UsTBy/5SV9bc5bLjbwztWS0LFjrdbnD7U1FVO9zk/23ZS5henFOcK6nfyIjGVlyadlNrGEZTsjkQ2J6ZLXU3RQ5d5Py3S8uv1WZDtS8lN1Pzy5Zr6qeXz7aOLk7pcurMx9BHpbNMcSbAP0lnxVrFMZ3IPw7TMoycP4PISPOxw6EIilhcXHrP3OxcTO7tLrQwYBvTdJpYrjLuRGeFiQAyGYmx2hIChBhaScXRgCynYeuETexp6wRCnsciHWXCgb8Mgn+XXGDeIawyOWJpZfhyFUtj8ZeRt/Kb/T5ktqJjnOXqHlDnE2rZcj3JMkR+v4wjE2tnIQ3KVPgBv0h4AL6ZHuU+g5toAy1ov9fTANZTq4h30QzyWbBweZeXeiXLVIUYfPWZXOnEO6IsxSjGu9s5ayXgBn45YqRgPUPLHAZxbS4jt/bEysTioam/SHlRFLVaqfpytT/Xocqb9iopI/VvgMnN+lodfX1zP8IhVA2PbNS3zgBpS7jLY4dAFOMztGjAJMhXa9dUQcLAOaj4vdPc/ZWD+mkVCVigNRTfVLLlEAe+b+giA2lC1agFpLl+S81O6xYeFjQcuZfRi9Sgjr5Srj7uhXuYQa9tyPcox1RIxJUSgfL8i/Zuo31Dk1TH6QdQQ9Gh77yXpmesX5b7+WZw336WlP4hao3elFNsSEnnsLqV3gFNIH4rIYUOMq3JcilSjfHpUY3c5gjrCyh72/K/U6pOxyJbzbxpdzrRfUREpN/P1xAzlbRwzqAv54aZHGMt6j1nqO38rRx3UfEwm8oCuCouS3aLMA2rPSAaJidCvP9xVcSzGv5L6lD3ki7n86+d0EPVj7NADtUONtdYiUqWqlSlAwYA5F+FOJPpmT0v/byVN39mQD2XcWyyyg3MxaIkwvihFGXm07itBfSk8jLTze+G4TyhzqG7bcj3KMfvIcj1li+2sNZ9Kr/pbepS26TdRyYdy/1iVAz1ts4qJuxQeFQi79KCeKOjLtCcX6eM+RS/aP1RR2lSre6nvvPYqup8ipC8/lL0moxNo/Ez79P7ULLJl9DaPLufZr3IfaPXJ5fF6EJh726LP1kO5F+ApP8w9zte5B3hzTMo8QOsl5baZ6q6rZkBtlMu+mbafOvFWAmg8tmJ+CbztJSJfhaC59Fim8JB73cOPXdfbJPlaBS355K3YeZGNuE2Kv6bu5gNflKKMvG1dXRth1wIorybHMgdQKbdtuR7lmCb8r7NMsZ0dClg5o/caYrFyRtdz4Mpfs6Jry9y6kX5Q1lGdChW9Qv/SNSjTbPQYZP0iRh+rV7RsUQIXb2TdmJMtzq+KUowrKE/SsQvrgzZt3u7zffBGQyPnuj7I9WVfYncebjf/kvX8Kmo+x3hNsSG/HfsUWcfLnjmJ/NEFaWfbr/5TVrcYczUI2JX2qO5Q3qPs2/+jvCmr+yRmnfcNMR49sUE0edvYJstA3gHvckvEttya/iOyMgVvlbrmxeYDPlUylykM5E3QmmIfxFytdiV8SM9/Q8Rkj5u0wdoE2E/UCgPbyCp/v1Vpq49FKWLIo3V/ZvLoPinVFLelxDjE2rZcj3LMNl5MVwSK7azxdlLGt73BgVXXfuDOes79kfr5ZCL23rFhJalDuecGqa+Jo+qfIa9OuOAje7hW9+0YfbiPqwQj6WeOm08V054qRTFe+VVRinHFyj57dy9lshfrbaqCzxere9RfC7umOMf7uGyOZiI8bEBdbbkqaj5HRwEIaE0xxRUi6+fDeXx0sSm7jBhFuie8/m19QuZkfXIEJpmD1ip/WMKjfppeYXnpq3zioLmoZR4jMRdvN/7u6iMCee+9Weq6EsMp9o/SA39ekHAmA8yqgmSRAiS5TZW4t+L14RQLDDATD2l8R/R1jjAmxZaCvZt4wXDqhsMK5nl0UQoMq9ZhLta6yL1/65Y5xNq2XI9yTF4NnmxBoNzOWqBX8vOayX3oB/uAxuZiUI6xpReW7WPjPSjZD96k60Im7hZ5joXcx1jyi9yYhrHTPeN0KuiHd4eH9C1nTAfChRPTtu9EGZoW+qgvxXMmURW/OKWQK9QprHZDz0rSbQ5XonzrMnMrE/6jL9pNC7AhmQ2TTCGAAoMAp1C7ORqcX+MBi53vBAnr/ut7uRWp7VJTTLL5yDreVaMLcpxvv/IMZ0UDEK+vEwGdkJkEpso2sdBvXeqmSnHau03NYDsmZ4aOU6yKnVUYpavyl+NDCjBgl/MgJtmJ01PlZFCceihFLA9Mt3bDpXFqQt7cAjEK2+JibVuuRzlmG12mOwS2t7PLW/9smk9iYAoRW/rpJEx9GteYM5yEOTwC1aMLJpR0E7vDy9EqB07NOE2TZ0AAkzFwd8JGwlXvAMi3T+iLrg/t3b37x6htTi2W+FfeesorAYq54tf1dxuIl0dd/DchbGkdD28qU8r5YVCumgwq50ZMKEUsD6ZErGy38o6bpO9xsXzN48ptW65HOaY5v2ssub2dd0dlINYKvYfhNA37H5a0MnQNgerR5Yz71e9dQ5nynBgBrNnAIsBXYtStepzuK+JEaPfERFs11WHph0blzTzxsbu/NmfZkAqfmHCtyobM0aSQAjYzi4e+NzETz+Fi73dWBEMpHCV31sv5T6UNPuaPHpdj37Ny25brUY7Zl+t1ld/ezrvjUV5r8Zy+kOxOiSUOi0D16HLO/arChNyq2YU8zgiB/ddSHP/egSe6fuFhO/d+/kUJlzeRiYr9DNGOQtGT3eeyyYPf5cPZKDeUh/Gbr5wUm/MdL7Vcj3LM8aS5FE6HaOeHYGoz/kWbS8GvzXqE63bapByjVT26nHW/ilWVcdeMwMvZzTLuumQ3rnJgVny/drcU8LmstczVxvxV9FNe2/k0l6Z5ye1S7Z6jLE05ZneqLIGF9vver2UUh0Jzkv6mNZbXl8tfX8wgXSK9lv/+sunD4VA9uhzifjhcPUqUuWrmsGa0c6MOj+zyCpIu1wKf9PKXvG6WNZENjrBVeSzgY2KbJ4tipfy4/Skotb5MFjUN7UnRVAJXrlyPcozLzbNdEOhSO+8iN/MeAoEz71dURA5xU5wrTfhtDGRxnTqtdb8eWAD7T2E5YLXUI3HnTHZQW6opMYUIEAEiQARaQoCKSEtAkswJEEhEDSlvKl8UBBsl98QKYjemX4nFh4EIEAEiQAQ6gwBXzXSmKSjIzgj8KwrGTfCN3pAEdissBn/nyWIar4kAESACRODoCFAROTrkZNgSApN0z5OYsrGJgW44vSkP04gAESACROBoCHBq5mhQkxERIAJEgAgQASJQRIA7qxYR4TURIAJEgAgQASJwNASoiBwNajIiAkSACBABIkAEighQESkiwmsiQASIABEgAkTgaAhQETka1GREBIgAESACRIAIFBGgIlJEhNdEgAgQASJABIjA0RCgInI0qMmICBABIkAEiAARKCJARaSICK+JABEgAkSACBCBoyFAReRoUJMRESACRIAIEAEiUESAO6sWEeH1OSMwNq/ka7xL+XSfMW/N+z2/pnvOSFB2IkAEiMCZIMCdVc+koShmDQT68uWZxHyRrwd/ltwz+X2qUYpZiAARIAJE4IQIcGrmhOCTdesIPIod5Geqhhj5IN6ydfokSASIABEgAi0jQEWkZUBJ7oQILIT3wDykEiSiiOCagQgQASJABDqNABWRTjcPhdsRgUS+yPuYlhmJGrJMv8+7IwlmJwJEgAgQgWMiQEXkmGiT16ERGIh7qp2QuTVfxV/k70MzJH0iQASIABHYDwEqIvvhx9LdQqCX+YcYM5X1Mx/FbZWBCBABIkAEOo0AV810unkoHBEgAkSACBCBy0aAFpHLbl/WjggQASJABIhApxGgItLp5qFwRIAIEAEiQAQuGwEqIpfdvqwdESACRIAIEIFOI0BFpNPNQ+GIABEgAkSACFw2AlRELrt9WTsiQASIABEgAp1GgIpIp5uHwhEBIkAEiAARuGwEqIhcdvuydkSACBABIkAEOo0AFZFONw+FIwJEgAgQASJw2QhQEbns9mXtiAARIAJEgAh0GgEqIp1uHgpHBIgAESACROCyEaAictnty9oRASJABIgAEeg0AlREOt08FI4IEAEiQASIwGUjQEXkstuXtSMCRIAIEAEi0GkEqIh0unkoHBEgAkSACBCBy0aAishlty9rRwSIABEgAkSg0whQEel081A4IkAEiAARIAKXjQAVkctuX9aOCBABIkAEiECnEaAi0unmoXBEgAgQASJABC4bASoil92+rB0RIAJEgAgQgU4jQEWk081D4YgAESACRIAIXDYCVEQuu31ZOyJABIgAESACnUaAikinm4fCEQEiQASIABG4bASoiFx2+7J2RIAIEAEiQAQ6jQAVkU43D4UjAkSACBABInDZCFARuez2Ze2IABEgAkSACHQaASoinW4eCkcEiAARIAJE4LIRoCJy2e3L2hEBIkAEiAAR6DQCVEQ63TwUjggQASJABIjAZSNAReSy25e1IwJEgAgQASLQaQSoiHS6eSgcESACRIAIEIHLRoCKyGW3L2tHBIgAESACRKDTCFAR6XTzUDgiQASIABEgApeNABWRy25f1o4IEAEiQASIQKcRoCLS6eahcESACBABIkAELhsBKiKX3b6sHREgAkSACBCBTiNARaTTzUPhiAARIAJEgAhcNgJURC67fVk7IkAEiAARIAKdRoCKSKebh8IRASJABIgAEbhsBKiIXHb7snZEgAgQASJABDqNABWRTjcPhSMCRIAIEAEicNkIUBG57PZl7YgAESACRIAIdBoBKiKdbh4KRwSIABEgAkTgshGgInLZ7cvaEQEiQASIABHoNAJURDrdPBSOCBABIkAEiMBlI0BF5LLb95C1ezBr+b1EfojX3/CQIpA2ESACRIAInDsCv63PvQaU/1QI9M1cWL8yy4gAPdM3t+adScyjHBmIABEgAkSACFQgQEWkAhhG10BgbCZmYV5vyDk1I/OHWW3IwSQiQASIABG4agT+r//vqqvPyu+FwP8x/6/5f8z/EqtHVfjfkvp/m/9Tlcx4IkAEiAARuHYEaBG59jtgv/on5r8y/XK7QRUx5sHc7ceEpYkAESACROByEaAicrlte5yaDcxMpl7+Z8P0S7Ih7TgykgsRIAJEgAh0FgGumuls05yJYI/ms9hEHjZISw+RDeAwiQgQASJw7QjQInLtd0Ab9X8yPfNBFJL9wkhW4Pwyf8rfp/0IsTQRIAJEgAicDwJURM6nrborac88iXDxhbx1pR5LRquAzM17WYvDQASIABEgAleBAKdmrqKZD1zJpdhDjPiK7BMmmcPrQCZ6qIbsgyTLEgEiQATOCgFaRM6quTos7IMZyuQMFJJmYS0bo01FGaES0gw/liICRIAInCkCtIicacN1Tuz3sjamt4dUH8yNbI82l0mefajsIQCLEgEiQASIwCkQoCJyCtQvkWfPPO+1X8hn2YH1tXiJ9Mz9JcLDOhEBIkAEiEAcgd/j0YwlAjshgAW8t433CxmKLeS1lF7ILxHLCMLYvBWvk2e5upXjvitydqoMMxMBIkAEiMDxEKCPyPGwvmROc/OP+d64gnNRP15lpWfiKfJdPpl3k+5O8jr1GVnvuSKnsWAsSASIABEgAodGgFMzh0b4GujDybS5GmKktH6hdyh2EUvpUSwi6rq6EsWEgQgQASJABC4SAU7NXGSzHrVSI/HrUEUixrgn62E2T7Xcy9TMr7ToKvMzwdqZgdhGEHpc0JviwH9EgAgQgYtEgFMzF9msR6xUX7xDdFolzhYfvWsy1aITMhNZGLyZw//f3tlkt42zXx71dg26Zypn1rNWdqAks569Sq/ATq2glB3YJ7N/j+qodqBkBRVnB3KtILFmPbTeFcTWDtT3EgQBkgBFSZRMWRc+sfgBPB8/KMYj4CEU16urIiACIiACJ0BASzMn0Ek9NtEmqTYZODPfs9vbLrVwMeYR/4YIQ/TtvU2Ede88CQwwU6giAqdLIFhw19LM6XZjHyz/B1uYceElXoZYXBlnsxnbL7WMkSEygdjXWPZJa4jr1VUReOkEhljOVIB+Sr08xl+yB/N152cLT8nXtrbO3BaYWpppi+z06g3wp8qWezz+OkVQ0PWAfovZjtgX1A0wj8G8EQYSCzyYa8t2Sy1zPLQbk50L04sInDGBgfnH/Dsb0kb4nz3MHnlfYgZxhVmSC5xzNpHLmQNsEXjn/thvwWtkvkCKlbFFs2TVTXZ0p2+IpWL6/1vElk1WlJs0SSrXbHM2Q79cIRBZFX8P27R66XX4Rad236i10c+LJHC5vl8Pc88u1/P1U+deTtZtyiTXO0LlAY6H64f1qIUtT+txi1p694rAORK4Lf3vGGT/EUMOU1zhOf/XPez4/+i2w78ZbexI/42abelByvI2VoQUzTolqVxr85n763e7nm7pi5e9LQXfsv3RMXSUrZnb0UBLMy8z5uQnjP9VTAJ+M7/jc1HX5a5VbO++O2a7pRY+KfOja4MlTwReBIERkr/D/8+rmlc3qMGn1Tgfues86K7tasbgQhs7luZtrCmucYZjm5KyvI0VZT0pSeVam8/G+FvMXtpnMW1bCputqtc4ho6y1ilGKsyZKxApY3kpZ/wu2/DP0/fSWTdebveflPujtl1qYW6JMZ+02Xs3HSUpL4zAp2LRNe3YLAtEGAL0o+xuxzhbeOrGi92t2E//qyzxfh8ZXVJI2XEMHVXdd/jIOTKLf1Wv6/xFEBjXvAg/QdVuHuHC2y3+JC6RX/KLwpAj9IpUnB6BAZ4j+9pgtv1Uu9h6HqFB5EFvNX8KZ6aGSncU0rS707Fdf33DR07NiGzH7IRqX+LPld/ttO1cxKEc1FLLochK7rkRcNP8Kb9vsuTUJRLUbbqlTTm16aBLTINfm1f4FDoMnnfjMRNbDYL/cB41rmGC2hzOvmYJ8G/RjjsjMxGU3xJ1k30vFNPkfyIRcZZ9/AjtoMwBpuP5LVJLJG++xtkq+NBxjfuvC+susahs8InZBiN+YaMsnzINUuP5fN3PpAehFU000pLKWidYaHHeG3hPJuRbLSMMtFwoow/cg5qFfcDyM58lHmcpx3fg8BF1q3PHcQr1XotLSdEuexPXkRlZ/Gqr0WQzdr7/KaDe1on9nj3UsHPqTDnlRGf9IsBktTWSzebr6yxF9HmtG8KO9R5pWs9rvbSLQJ8ITJFCWbWH/9vtNf5fC++GKaBzJLBP8r8H86CekzctJbZOk8mqTI51bW6DNk+Z7AGuXGc2DFHPJaZ7OwaQa1PYZ7CHCbU2LX2G69OIdbQ69Cgl31k0hv5Uar63wsD/OI154VsoKa6Vf2ethxNIYzJ+/KfM8j7nY8DB+3YPi8jtPmp9lQITaa2ucq9VpcRpx72p6yh701ZjrP/jbSmf76ZBWZHOXg6BS/x3dOUy8d/De8v/KKkf9xbytXUkAiLwXARu1/VnG/g//RY/DPj90EYLwyFwhrvuWTT3XI1ZX+Kqe7bNH5VbVn1l0GCv8dk5OwAP8o8asyA0saFG2Y5rtLBtx4E9Bl7FrLMBQ6g/Jp8yfRiQftZlM42UpJhWWjXPvW3+K1nWGz7HdF/0Jq1mUDMsgrfQ62qQkOq1qpQ47bg3VR2h/vT7pKoxJjtlrdWAfv+Xmx/R6wsj8A0TnL9h8pBTgZtXWW9QN/XjJ0RfGCK5IwInSIBLGbFyhf/tV9kiS+yuu+ZyxR5wgYsxXE5YFamUzM5qU27R1uahvUFr7hdkzAfzN34PcOZ0cMEi2D0zq2XwZZauMN29nLPgWnrrXF33GpdfTs5/dJU3vtb1xSXFtVL8FZaYZliKsLthbFSY8fFL5vzCz0neD2zLZFo+67S5NPVaKCVGO+1Nk952GuOym9pS50BPzTShP/V7/CbbbwhDLvHnwL255/gv44738W+9T+Od2v6yUys1EoGXReAi/4LImFcrZGi0CyV860W2+dcA+Q7cGM0GJ/5u/IjP5H3EIDrI9gr9Pct0eJNlh/AR3CFyIGyxm6qVA6fv+Htkgynq2u7ZO5M94luVz9yUbeXkBlZebJ5H5SJO017xazqZ09FWPyXZL/i0Wnj8Ng/dHu2lVr/TvVaWEqOd9qZJdTuNcdnpttSI94cCkSb0p3mv2DY3N3+O//gu9Bjic0zb/zLN3issaOajuyJwKAI20TEl3X5ndepu7Pol0il/4APL143zKb7112weZIIPOvwMzF1YbbjB4CJMtmQabLl8hrYPWdDyEX+X3JxEuU7sjHvGLrNAqSqfgchhS5NXS1g1MX/m/u9iB6WzWIL2OPXbUuDdVK+VpcRoN3lDyV4Hz3xpozElO9WW0hGWKhDxmF/KEWPSsLwpwhCThSHlN6qtyW+4TZUFYn4VERCBfhB4zAbjtC3th3YrY4r5i/BvRFpyeGeGwZffis2PNUscrbK9f7jUwKdemsoKAc/7/OmS+jMm6Zb8/9cAXAAAQABJREFU2ohlVD5tKC/xpKU030lJavLqBv7eY8v9dr5wm8aQD4PKbXrMUuBzKe16LUa7yRvycTp47Es7jXHZm9o+KkfEg34ZR2MswzAqdWWITx82kOC3UkzxB2Oar+66Gnzlf6bUj8KQkJSOReB5CXS9Q8g1BkI/Y0rf+GDnprLAX5JPGIBZvmEmxe3guoK0D0Fjt0jjL43Qirks/GlT7CyIwXwIP0LF5f9V+pu2T1ASlxTXSuv5N5WZIvzr2qZwudxm19jal+AV+2hYlVWmwAeA2/VajHbKm6qOsg3tNMZlN7XlaLVUIFKGffpnfJaeqWS28An8q+xTCxOhmFD1J35vE4GfPhF5IAIvicD3LGMh9Mj9bw+vueNB8bfAXbGvbGOXNJb5K+dLfxTHnDBvLp8x+NqN1biLK9NLbbnCMo0blEf5fhmU5uTxo9AldFU/Mrn2fPXWcaGHuxAZzKLYv1sx+cx7c0tSE/Dx2kKpoRXV645GSlJMK8MQztJwTugGoUEYYFTlO++N+QO3HB+Gaf6Dnq9Tbs2zKoVUr1X7LU477k1VR9mKthpjstNt+a5bmZW+fbcM+/TPZvgvcZH9oy+POFoVTvHPxW/BeXFDByIgAidCYGCegv/F3C5riJCAHzSYrRA+vcF7YwzKdxj4HvPjBZ5t+YwNxXidCx0f8foFred4XSAQuc+GdFf7Dh9kPie4DCHVDaJzHPm/M26A5uZibB3awWCC6fOuLDAwL4oadetY7zr7rqzvmEtwxQYATr69eo05XYZDXEr+AH9nla+UCK1w/qX0xSWVtTKcGsJDzgUNzH/wbwV+fOqmXMiJtNk/jtcU5wx9XH+N0W92czQmv8ZLmUKs1zizXZdSp23ll72x18o6yna011jtfwZH9feY40Q7rhSIlGG/7DPuidhuJbN7Du6/Gv+z8svK+d/wbq8Ur+5tlEQROAUC84bwoP/2z/D/34ZL3N/1E4ZzfTg6XK/1n/YDRqU7BSKHewv0T/JtHoH7h3mPayNTlq6KzzV2U2j/HcHHtUXaROBUCYzxaT9MeDwlP8YIon4rGfyEvwnu03Hphk72JtB/2vl7WTkie/f1CQkYme+wdopw5HkK11D99Crz7Pnon4oIiMA2BJimmM5H2EbS8euWd7mg/kf8qByGQJ1s32jf2KUoBSKHeQP0U+oUCV/XGP7D1dxjWhqbiTnVT3bH5CZdIlAm8Ac+TnB58/QKdw5xaaW0foqgyj2zc3re9N3ivtOeuN7/te8kZV+HBFJpZx2qaBDFz3DlKVjuAWkfAGxoplsiIAIVAiukeH5JpjVWKvfs9ApZIVwkZhkgSTZMr+2ZqS/AnD7THuGDcZ6aqxyRF/BeOxEXmCHiHsGjyXyGh18griICIrA9Ab+b6fZt1UIEnp9AMEOuQOT5u+NcLOAXYPmN4bnDifZsPZe+l58iIAIikCSgQCSJRjc6JrBGbgoXh+za9gUe3dXacMeIJU4EREAETo+AckROr89O02JmiHzVevBpdp6sFgEREIHDEdBTM4djK8khAeaCzMMLOhYBERABERABY7Q0o3fBcQgwQ0Q7KB6HtbSIgAiIwAkRUCByQp110qau8cCe9gw56S6U8SIgAiJwCAJamjkEVcmsEqjvIVKtoXMREAEREIGzJKBA5Cy7/ehOc9saZYgcHbsUioAIiED/CWhppv99dOoW3uKBXX459RKP69482/fcnDpF2S8CIiACL5SAApEX2rFySwREQAREQAROgYCWZk6hl2SjCIiACIiACLxQAgpEXmjHyi0REAEREAEROAUC/zITJBE+ZT9zfA2ZMePgnM86GOz/cJ/df8CRPX7IruuXCIiACIiACIiACOxFwOaI3OKLmW/MX4WkazM139wX9GZXZ/imVHd/jtTD34q6OhABERABERABERCBHQnYpZkZWodfx86vJrOzIU7sqghDjJ57cFD0KgIiIAIiIAIisB8BG4jc4XtRx/m3olLeBf4NKqHIfnrUWgREQAREQAREQARqBFyy6lfc+VDcvczmP7gJlS3MG1ERAREQAREQAREQgY4JuEDkFnJ94PHa/IlzH5i8N3c1vdfm2swQoAyDO1PklvDqKLs2zpJcb1FjinrXRb1yLV6eo6aKCIiACIiACIjA2RHwG5o9YTHGfjvqEIsynxEcjJE3YgOQKVJZfZkhRPmMUGWFS5wpsdklAwQTs2wmZYjE1jfYRZPl3jyizl94HWYJrvFaa9TUN7NmwPRLBERABERABM6JgJsRMcYvzlxmx36OpL4wM0BwwTDEINxwSa1TnNnnapYIU75kd5nY+jYLZq7Mv7Mr8Vqv8b2sVl7eTC8iIAIiIAIiIALnQMAHInxy5mPm8qssKPCBiZsXCXm4pRruKDLI/k2C5Zv7fHHGtuDcCL9nhDXjtZZ6Esei0m8REAEREAEROC8CvxbuLhB+jBAqXGBhhWWFwGKMHxdyFBWjB29xdVjkgbzG2SCf43gM6qdrBZV0KAIiIAIiIAIicC4EfCDCxZkJfgwWVmy5RRjCOZI2T8xwVoS5IK7YuRWehUsu6VqunV5FQAREQAREQATOiIBfmjFINTXmd2MXZoiAizOXeJamzZwI63AepLm0q9UsQ3dFQAREQAREQAReDIEwELGLM/57ZLg407awrn/c1xSLNOX2qVqD0kPA5TY6EwEREAEREAEReLEEwkDELspwHsQVzpHwX7pwsYX7sHIXkkfsF2LLCPMqrrCGL/Fa/0FeSrmeb6EjERABERABERCBF0vA7yNCF4fYL8Rnd/DKvPQdNPwm3k/IHBngGZi/s4d0ebzEbIhtNYWEpfmJvBD7bTU3eHh3gLurYLM0g3AlrGW1XGDnERUREAEREAEREIEzI1AORM7MebkrAiIgAiIgAiLwvATKSzPPa4u0i4AIiIAIiIAInBkBBSJn1uFyVwREQAREQAT6RECBSJ96Q7aIgAiIgAiIwJkRUCByZh0ud0VABERABESgTwQUiPSpN2SLCIiACIiACJwZAQUiZ9bhclcEREAEREAE+kRAgUifekO2iIAIiIAIiMCZEVAgcmYdLndFQAREQAREoE8EFIj0qTdkiwiIgAiIgAicGQEFImfW4XJXBERABERABPpEQIFIn3pDtoiACIiACIjAmRFQIHJmHS53RUAEREAERKBPBBSI9Kk3ZIsIiIAIiIAInBkBBSJn1uFyVwREQAREQAT6RECBSJ96Q7aIgAiIgAiIwJkRUCByZh0ud0VABERABESgTwQUiPSpN2SLCIiACIiACJwZAQUiZ9bhclcEREAEREAE+kRAgUifekO2iIAIiIAIiMCZEVAgcmYdLndFQAREQAREoE8EFIj0qTdkiwiIgAiIgAicGQEFImfW4XJXBERABERABPpEQIFIn3pDtoiACIiACIjAmRFQIHJmHS53RUAEREAERKBPBBSI9Kk3ZIsIiIAIiIAInBkBBSJn1uFyVwREQAREQAT6RECBSJ96Q7aIgAiIgAiIwJkRUCByZh0ud0VABERABESgTwQUiPSpN2SLCIiACIiACJwZAQUiZ9bhclcEREAEREAE+kRAgUifekO2iIAIiIAIiMCZEVAgcmYdLndFQAREQAREoE8EFIj0qTdkiwiIgAiIgAicGQEFImfW4XJXBERABERABPpEQIFIn3pDtoiACIiACIjAmRFQIHJmHS53RUAEREAERKBPBBSI9Kk3ZIsIiIAIiIAInBkBBSJn1uFyVwREQAREQAT6RECBSJ96Q7aIgAiIgAiIwJkRUCByZh0ud0VABERABESgTwQUiPSpN2SLCIiACIiACJwZAQUiZ9bhclcEREAEREAE+kRAgUifekO2iIAIiIAIiMCZEVAgcmYdLndFQAREQAREoE8EFIj0qTdkiwiIgAiIgAicGQEFImfW4XJXBERABERABPpEQIFIn3pDtoiACIiACIjAmRFQIHJmHS53RUAEREAERKBPBBSI9Kk3ZIsIiIAIiIAInBkBBSJn1uFyVwREQAREQAT6RECBSJ96Q7aIgAiIgAiIwJkRUCByZh0ud0VABERABESgTwQUiPSpN2SLCIiACIiACJwZAQUiZ9bhclcEREAEREAE+kRAgUifekO2iIAIiIAIiMCZEVAgcmYdLndFQAREQAREoE8EFIj0qTdkiwiIgAiIgAicGQEFImfW4XJXBERABERABPpEQIFIn3pDtoiACIiACIjAmRFQIHJmHS53RUAEREAERKBPBBSI9Kk3ZIsIiIAIiIAInBkBBSJn1uFyVwREQAREQAT6RECBSJ96Q7aIgAiIgAiIwJkRUCByZh0ud0VABERABESgTwSeNxAZmEFnMEadSZIgERABERABERCBIxF4zkBkaL6YVYd+zjqUJVEiIAIiIAIiIAJHIHCIQGRo7s0TfprLwNyaP5qrbHV3Aa3ThhYD82B2DVVGmUcPDdJTt0ZmDr2kcY+jW/y7z8+3ncEp2xD3ph35lK3bXS/rituznUTVFgEREAEROEcCa3OQn9v10wa5t+vxhhrbWzZfj5IyR+v1+iF5t65rVqk73+hRXYa9MoDmdUnaJWRdlq6k2pave6ppb3ydcttDnHldaXuc3ipPd12vIiACIiACZ03g1wMFX8sNckdmZO421Nn+9hSLPW8SzRa4s8mqsOkwPMHx0rytXGl7Wl9++mYuTFV+G2ne/rQ3vk4bifvV8brS9jgNu/jr2upVBERABETgxRI4xNJMG1ifGpdR2kiI1blD8mt6yWOxRUbKGKHCIctn83pP8dt4s6eqVs2b7Tk0z1YmqpIIiIAIiED/CDxPIDIwl+brQWB8M586kDtENsehyuWhBPdY7iF59thtmSYCIiACIrCZQLdLMxPzHksYPzfOPIxRI1ywGCIweYdU0rtsnmSAhM7PCdNZ8z1q3ZlJNqcwMh9LCy7fcT1WOBQOzWM+DzFEq4fs0eHXEV2X5neIGOXByFVJ3DXOXkNSqJUpsj9xdWYWpbrxk9/Nt+zGR/weYSmJSxa/4d/A/IN/Qxw7Mpe5ljqNsjcUlyJft422U5sxN7kma8USS1fX5lVmQ+gdpZdLXVfZnirdOM9t7YjRqHtXtlRnIiACIiAC/SewQ8pkKqlmvr7NpY2RFtqUrDotalpZTGScoMV0PcgkrJOJrKx5DenTPC11ur7PdVpJTAy1MupW+nRT32YGvfWaZj2vyDXrWWDfHPedvgfYw+MhNKdSZX2yKtNUy/rmQSLrLLB+Ci+tJ9e5BgOvfWvvDa2NkR9AQt02V5PyvSX0d5Lr8975+/4oros2ONtidOs8t7OjTiPunbdTRyIgAiIgAidBoLulmWszLh7HvdswN8C5CV/46CfnGQbmz/wz+jL71O5ruKNhXnNo/s41/KzkhHA2IZVU6uYrRtkshJW5zQO9Azx8a2crFvDVFn4m/ys7XGIW50t+NfbCR3fnkRo+4dNgdsaVMWYnPubafo/ScN4Y1IyTj9l2iRklO2d0Awp+9mgJjsuad84a/5rSZYoeb0d3OztiNGLeeTt1JAIiIAIicCIEugtEuFziFhVMKdCooxgENQ3SQrlYwadofHsuWMQKa45R0w3D70oLM7bFINYwuLZEyHOPQZg6FlvlqrjnfBg4UcsAUtw1hhHpRFljrrCk9N78rw1knJlT+OUlO2/d3fJrnHzcNgYbj3nzJewJi9PnvAvvueO4LneXr+3obmdHnUbcu9AOHYuACIiACJwEga5yRDioh5/tm52/QE6FL7bdGDkLrgzzPAp37l5Zk3kU/DRsy7iWTeKDGVen+rpCUPAl29xsBZ2pbJRqq9g5516GmJGwhc/BlEOs/EbwsirCC/qRDjDCh5tTDyRbsSnycdsWeT7KW2i/yIKpwLiNhyldYcN2dLezo04j7l1oh45FQAREQAROgkBXgci2zr6qNOBcgvtEzmWPeeW+P+VdX3OARZpy2RQKsPY3/DA99hLhyCBfWilLcWcDDNfpAIuzIvOgPdNANxUXbo0b5JJGWusmDfZ+yrZLPFf0A4m4X6MLPu1kN9dqout5trcjRiPlXbNluisCIiACItA7Av/qyCIOm/y8HCsDzGBc48fPYzzWPoszvHDzA1dYPkg/3Psed90gzZpsxda+uKUHf6V8NEIAwmDkBnkpnzcMx8PG5RYGRNvuB+JmbPh8UbVweGWhTymaWYXgV4p83LYpQpA/4HO4DBYI23CY0hU2a6breG5jR4xG3LvQDh2LgAiIgAicBIGuAhGmbIbhgB9GB+Y/mLX4Cz/+2iI4tpjeFWEIV//dg6Wx7cmYIeLKhyxgGQdhDYfy+gDv6tvXi+zxXHvsg6NyHWY6sFwg1EkXLrR8CG67RZrgUuJwAFpWcij/XVH7rpRy65NKiwrBQZx83LZrWMyBncX2R4qArVP9HdcV1orTrfLczo46jbh3oR06FgEREAEROAkC3QUiNxjg3DMoEwyjg3wo/wfBwgLHkyBA+F4aZglqjGHRDv23CFlc3ga/Ks6HL6zHzAq/bMPnWJgGanfm4P3qDiW85oqzyGBGxAVN48JmV8u+znN73gdhj69BSy+y0yukfrqhfIRdOGLF+hXeGWLPEBcu/Y0b1sdRRsAeU67bVG1YzLqEkrw3KfIx25a53ST1ozgObSNj5135Os9SutjKWRejW+W5nR0xGjHv6vbqigiIgAiIQM8J/LLu0sBrDJl85mKB4OADhtIZgoo1wooHDLuLYujloPUUbNzFgfgBT3AwF+AdZk98WMHha1qEJbSU3/nqvzPmGvWX0OIGdYPaQ+iulxEyIzhzYrdMew99r5Ew+wr/7MO39RbXmDe5M98za1zrBazjQ7qUxKdabE4Iddpt3FwA5aWxpX2g1fnPLAl66heFuFXXAhZxSek2KdfZcIc6PwJv7PxQjDytqNo2yB4gnsP+BaTc4/cMei2buHeUUi51XXeBPQY9GaMb8uQ7gI86b2NH1RPaFLtWtlVnIiACIiACPSfQbSBSd5Yhht8r1N+fYzj1w/YEw+Ev/mZwNEBA4+sFNxKHD1n+Q+KmLouACIiACIiACPSLQHdLM3G/uF+EW1yZBImfU0zy+xJL3LR33wazHb5+6ogLLj6DJFVL10VABERABERABHpC4NeD2/FvzFFwx9ABFjn8EgpTJn3aabhPRNmg0VbzITfRZZmyRJ2JgAiIgAiIgAj0hsDhA5FFnklRdfkPJGz+O3tyhAmofnPzsN4AWRyr8ELj8QTBjXsipLGiboqACIiACIiACPSDwKGXZtJerrCfBRMWJwhI+DSGe+ImbPEB3z7TtoyQJBku97Rtp3oiIAIiIAIiIALPRuDQyarNjvHL79rPeDTLGmk2pBmQ7oqACIiACIhA/wg8byDSPx6ySAREQAREQARE4IgEnm9p5ohOSpUIiIAIiIAIiEA/CSgQ6We/yCoREAEREAEROAsCCkTOopvlpAiIgAiIgAj0k4ACkX72i6wSAREQAREQgbMgoEDkLLpZToqACIiACIhAPwkoEOlnv8gqERABERABETgLAgpEzqKb5aQIiIAIiIAI9JOAApF+9ousEgEREAEREIGzIKBA5Cy6WU6KgAiIgAiIQD8JKBDpZ7/IKhEQAREQARE4CwLPH4gMzKAz0qPOJEmQCIiACIiACIjAEQg8dyAyxDfwdvW1d8QV+w7fI2CUChEQAREQAREQgV0IHCIQGZp784SfzWVgbs0fm6u1rrGA5mlD7YF52CNUGWV+PTTI7++tcWb7/RYGlntxP3JbqFVVERABERCB8yJwiEBkad6Yu1YYv5ibTudDjPlsRvhJlaEZmnHqZvR6OMOygF8/zEW0XtcXQ71dyL6D7cutBJV7cTO5ri3eylhVFgEREAEROFUChwhEyKLNoMeQoV3Asg3dKRZ7UoWhxJvUzej1YeVqG78qTXY6rerdSUil0fa2+xabyR3C4ooDOhUBERABEXh5BA4ViLQh9alxGaWNhFidOyS/pudEFlvNwIyPNP9R9eO59FbtCM+byfXR4tB6HYuACIiACPSUwPMFIgNzab4ehMo386kTuUNksDxHeS69u/t6ehbv7qtaioAIiIAIdErg106lTcx7LMr8bDXrMEat8HmZIQKTd0glvcvmSQZIrvycsI0136PWnZmY16gzMh9LS0HfcT1WOFwOzWPWxuDoI1JX+ejw66iuS/N7JtsGI1clgddZK0rwixdMkv0JWTOzKNXlyQjLRUPUfWOuzSvobGpZ1TuBFi57fIXHM/MWre/gPfkwW+Umo0SpLD/NX9nrGHWHqHeDtiMzz69mt/CLaagsX3E3Vuq92EyuarGVSR9NxtflATVTuER90gz7vYlpzHJdEwEREAEROD0Ca9PZz3x9m8sarx/WTxvkTova1oIZ6k/QaroeZC3X63FCAmteQ8N0PcpqTNf3pZqD9TqXUfdtXtjl28ygt16TV+YVyWY9Cyyc475tN4A119nxELqtVVWJlDXJ7drUsqyX/jiyt9DkJD/l0u5z3eTnvbqHdbTpvvD4trg7hx9OSvU11YvN5MoWU6azeBpYbInWKRj05UPuzXXuTRumVdt1LgIiIAIicHIEuluaucbzKO5R3LvIrEA1RuPchC98PJRzEwPzZz5Pskx8Xh/mNYfm71zLz0pOCOdZ3nrRpSM3WzHKZhnsre2e9xhghsHO5CyKJ3D4yd3ORSwxQxFPll3CyuVOLVeQ6Z71mcNuzuJwruFzJm2GI6ubzwz5nVSWYMBU4Cvzb1YPygQzQ/G5EIMZm1QvbkfuErNWdl7qBhb7Gao4hTH0fszZ/J7b1oZp4JQORUAEREAETpNAd4EIl0rsAE0SYZARJzMIahssM3xDNT5F42VwQSJWWHOMmm5ofBcskLj6drB2Z/XXJYbvewyQ1LHYMlfFPenD0Il6BpDjrnFpIZ0q62pt2/IWOmwo8gZ87LD+AYGY1U0ernC5yvtOQsuCk63DAT616GWyBS/fA7FebEeOIZdrvcRSUliqFKh1GRCk1e2ZhpJ1LAIiIAIicHIEusoR4YDu8yXaYLhARoMvtu0YWQ2uDLPQxJ35V9ZklgUHVFvGtYHVD6WuTvV1hZmCL9nmZqs8z6Jao/05Z1+G+ExvC7NWykFWfiPy0rYlw7OPGKo5b/QVuSucAXmTeU0JIUce25mQeDA4RaDyo8bLmdamF9uRW5jfIHQAW4YIMn1o5DSVX8PHuO3j1W3JlOXoTAREQARE4OQIdBWI7OK4TbD0LTmT4D4t8/P/3N+qHPGurznI5gbCKm0CgW8IdJgee4lwxC9uhFL88QCDaTrM4jAbJoSmlj28PHe0qaXX+zWbB5nAZs4VcFkrHWy5Yb9eg8tZf2czQek5EWdb+rWJnLf4Es8u/cAiUCol1stnv1fpbiLjW+tIBERABETgpAn8qyPrOZDw83S9XGOgv8RyxTV+uMTgymNwbK8xvOC0PMsVBtqv9jDy+z3uuqGLNdmKrX1xywL+SvloBJsMhvUb5KV8TmZMuDbDhuUWGxJxHmT7wmCqqaXXyzyWS9TlQssSRx+y2RyDob4sgcGdC9FwWCk/0HqB+ZRZoq/SvegFNZNzFk/R139kszj1cMjLskfsvep7ZxOZqgydi4AIiIAInCiBrgIRJmuGoYAbWEYY+OZYBHmL+39ln+YdqEVt8HmHurbwU7976DO2PRkzRFz5kAUs4yCsYbDjwhRXq/p6kT2ca6/6RZ5qLeZDsFw0zD8Y3LtDYOCLW6TxV1JHqZZ1vdxO7BPmMli+YYB3G7avcBZyv4Qtm4b+G9BJ7ZAS78XQ/ji5qsXXsMP1pn0vpCkzdOJSjCvMgUmRcXX0KgIiIAIi8EIIdBeI3GDgcc+fTDCwDPJB/A7LHy4rgXtpuPK9NPjw6hihiR34bxG0uMWDJwy/LqyxbZkh4pdt+BQLZ1B8ymZ1hxLbyrW1Gji/4AbwcWF3WJPH7hmV9xgq64WSuJcHtT8WOSujfE+P7Ebi16aWMb38Fh07R8T5DP/Ve3xSyQ3yDIH8jifOU2cEl01suYEs18bddXfivch8DycvRq5q8bLQNUbvO71lXWUKLjQa5nNE2zIty9aZCIiACIjAiRD4Zd2lodcYRDhELjAcfsDgPENAwedIZllYMcA38nJxwRae/RZ8eufg+j5bAnmHPAYfVnCImxZhCdtyQy43I8AHTvnUzKyQy2F5GAzHuTq8jDCnwJkTu2Xae+h7jUTPV8U2YL6mP7rGzMmd+Z7Z49ovYB8f0qUsPu1hc0Ko1W7m5kIoL2X7lqFeK4cUXJAxx9HKi8cdO6gv82RfJv3arc+YWsrir/DppgfYyl76o5i1yCrlv+q9eNeCXNniQfYQ8xx2LRCI3OP3DO8Hy789vyamocU6FgEREAEROFkC3QYiMQw+/OBQ9QbhgJuyn2OBwA/aEwxVv8QEYDD7ENSLVildfMhyE0qXdCICIiACIiACItBHAt0tzaS840KJnQV5j5mEQSk3wz+sazAb4uZKqpLeJu9Ua/KcCy6xhZRYXV0TAREQAREQARF4VgKHD0SGxWzGDEshn/LFAzrNdEaXp2E3M4ujGGXPhsTv1a/eFAsY9Xu6IgIiIAIiIAIi0CsCvx7cGmaJ2ML9J8rlD/MPNiBntgMTUO0zIeUavPOqlA9RvV8+nyC4cUs/5Ts6EwEREAEREAER6B2Bw8+INLm8Qrokv5llgoCE3yTrnroJ23zAt8+0LSMs8ITLPW3bqZ4IiIAIiIAIiMCzEDh8suomt5p3Cd3UunzfJ8KWr+tMBERABERABESglwSePxDpJRYZJQIiIAIiIAIicAwCz7s0cwwPpUMEREAEREAERKC3BBSI9LZrZJgIiIAIiIAIvHwCCkRefh/LQxEQAREQARHoLQEFIr3tGhkmAiIgAiIgAi+fgAKRl9/H8lAEREAEREAEektAgUhvu0aGiYAIiIAIiMDLJ6BA5OX3sTwUAREQAREQgd4SUCDS266RYSIgAiIgAiLw8gkoEHn5fSwPRUAEREAERKC3BBSI9LZrZJgIiIAIiIAIvHwCCkRefh/LQxEQAREQARHoLYGuA5GZuTejRm8H5iH6LbuNjfKbI0h/Qvv9yjCT8rSfELUWAREQAREQARHYn0DXgchHmPRPo1lDMzTjxhrlm7PgdGHemB/mIriyy+ESUu52afiC2oRUX5BbckUEREAERODUCHQdiBjzpxmYywYMDCbeNNyv3hpWLiwr57uddiNlN919aFWl2gebZIMIiIAIiMAZEug+EPkGipwXSZeFWaVvVu6M957/qAjUKQiIqt4GIiACIiACPSHQfSBizGcMdINO/Bua207kSEhIQFRDGjoWAREQARF4VgK/HkD7zEzw81dUMgfBoXk0r7O7Q8ydPGRBy2skkH6utLg0v+PKKA9Grkp3r3H2GpI+Gr/IMsW1n7g6M4tSXX8yMe9R/2dtRibW8jKX7e2iNpNZe5NLmODKEFfuIJfzDAybHjMdXievT1Fraa7MDS5foIZrbzIPyjJt7TvU+Qjf5znHuu6R+ZJJfWOuzavMCrKYwJpXaHcTMCh7l6JarhW3IvRKxyIgAiIgAiLQBYG1OcDPw/qhQep8/ZTfvS9qzdaT4ji0aL72dez1GVpP14Os9nw9z1sNoPE6Ox6u1+tRQtZtfn2M2s6GeMspalgd17lcs3atec/bGPo6Ker4+/boHvpmeaspjof5cVzmPfyiN2xl28frkc6kYHGPNlautzDuXZVqvFbdiqpXOhcBERABERCBPQns2TwfJqtSrpPBAGtyIObrqBhmedw+EFmvx7neKfRY3bMgOJjVghfWoU02tODZbaE71nKMuk7HfS75Etecjf7I4Nq6CCtcgGRtCn97fbz6lFuYksnaDKaGeUiVqjcL7CQLZx/r25Ak5p1BmFMO7+K1qlaE/uhYBERABERABDohcIgckUG2UNGcsMrJnCWWEe6xmMAnOBbm6xbzO+7hW+4owmyUAaS4awYyYzuZTFHDJ8k+5triLaewzcuzCz1LtHatlpmHVgTtdr4OAg25guLFteWFz7CQNqZksg61LvMFlqZ6zk6y+MGGKPSzLZdmeqEVmWj9EgEREAEREIEuCXSfI8IskCvkaTB/ormsUO9LtrnZCjkN1QyR5rblu29xOkSuhC3MP6mGBAx2fDZJXhEv8ZajIAxxjxovzG+Z3LfQdJEN81bKynyDr8z+sDki9mrzbwYNbxFkpGQy0yQs6XphrbqHce/KbVIMWKtsRbWdzkVABERABERgbwJdByJDpFdeYcifYVi+xBDdXL6hxqV5h38zDO3x9FYrYYDBPxZIuLumSOvklU0hkG3F35w3cAmhPGdLO1fBs3K5NJ8w53CLuZuy/BnsHyN0uapcL7eOn6Vk+rkb2y5VLy7VXY155+7x1VJN16paEbbVsQiIgAiIgAh0QKDbQISbp19lywl2N5HmQGSEuQWGIt8wnzDDIN4UiHA/1nQgwuUJ+xxOCgnbclakWmItuRxRrzvFjMubfKmkLIVLPh8RorQftmkrl1HSMssa2tYrtzLZvE4TF0s1xqAqSeciIAIiIAIicBAC/+pQKr8J5qZY1Ni8m8hF9niuNYAPj8YK80hYLhqH+RW0fgiau0Wa4BLCnHFw6gKNeMu7bMnGVZ9kB9fQwRCFxbb2Nn/GnMinbJHJ3o/9Djemn0ASZTXJDGW0rRe24XHcOy7hhFRTtarSdC4CIiACIiACnRPoLhBhGPJnkOnBbzOxQ3jV6EE+DJpsScPeHSeG8TkGfQ6a74sAJ5TGO3aAv0I+gwsMRthJo164s4b7hpUJAg1nRawlr7mt1Ib5XMsy18RckOr33VDuuGHGhtYMihwW1ra7oqRl2kCB7VjS9ex9/vYs7LUmLlWqMQZOppWm3yIgAiIgAiJwEAK/rLsSe4vhkimbvtxicGaCZ1hGmDngvqt3WdjwHtuZvcYGY6/wL7Uwc415kzvzHQs4zN6wrRfmb4Q8XzJJfL7F5mzYbcO4XVkq8fUa2pgoukAg8AHBxizXGmtZvTaAPuaTDND6B4IuhjXuiRVev01qpf+3sP0qmwFiGq3jFJNpcJdhEhd83CZusXqPERYLtLrJdHEhi16yVD3htZAqz6u1xhErbD39FgEREAEREIEOCXQXiHRo1AmKmhbBRdx4BiJN2RrxVroqAiIgAiIgAi+cQHdLMy8clNwTAREQAREQARHonoACkX2YjrOlGi50/L2PGLUVAREQAREQgXMloEBkn54fZU/XME3UPU+TksYdO1REQAREQAREQAQqBP7bf1Uu6HQLAv/P/E881fN/zP9tbMMngsbmv5v/bf4HklxVREAEREAEREAECgJKVi1Q6EAEREAEREAERODYBLQ0c2zi0icCIiACIiACIlAQUCBSoNCBCIiACIiACIjAsQkoEDk2cekTAREQAREQAREoCCgQKVDoQAREQAREQARE4NgEFIgcm7j0iYAIiIAIiIAIFAQUiBQodCACIiACIiACInBsAgpEjk1c+kRABERABERABAoCCkQKFDoQAREQAREQARE4NgEFIscmLn0iIAIiIAIiIAIFAQUiBQodiIAIiIAIiIAIHJuAApFjE5c+ERABERABERCBgoACkQKFDkRABERABERABI5N4NdjK5S+vQiMzXvzYL6a1V5S1FgEREAEREAEekLgMN++OzFvMFQOzXfzV8TPgbk3d+Zj5M7mSyPzBXIfzevNVV9gjZm5MFcIRFbgu0vZjvzQ3IK1Mb/toirRpiyzas/ATNCzNsiaZ56+M3+bbwlZp3656n3Zn+a7tm6bOmWpOhMBERCB/hFYm85/ZuthLnO+nkSkj9br9UPkesqSWaXufP1UuZJqeWrXq56W7Se3ATy/XU939H9b8tTVPWsvs2zPAO8K936Bq+sxvHxa3+/oa5ldH8/K3pt1uferd2MeVOuUJcRa6JoIiIAI9I5A90szU3NTLBwssZDwuRZ8LfB5flm7mr7AT+VhWZq34ekLOq56WnZtDK6cLbgqX97ibFvyZqt+amuI7/uyPRMIcO+Wz+YDZs26nY1pa9+x6pW9N9nsk9ddvevv+KNqneb3j2+nIxEQARHoEYGuA5ERlmN8/sLYTKO+LqJX4xfHWI44j7LJ01dYktq3bEN+X11t2of2vAvCnlUHvrbR/7x1Qu/rvR/eTdkZ1qlLSLXSdREQARHoEYF/dWzLx2BF/9Ysik+4u6phTsF5lPPx9Dz6czsv9+/9/SVsZ7Fqi4AIiEBHBLqeEeFsyC0+zQ7x8w2LNPXCP5g+3XSIpNUHM0C110hhdRPzrtWl+R2HozwYKS9JXGdt2N5P9XP+5SckzRACxUu5xgTLHG+h/Q5LSAb6ObW9xMIRZ3KGOLrKPLiAP365iXKvzSu+QJdNxrUptGzJOwO0TVsVr9vkKTWNzCf8s4PNLFu0qFthrb6DrR9Rd15LFA7Jx62gJpYJeCzhnZ/bstfb0bN1q7/rMkN7xrB5jCYu7Kz6Wtac8rRcq9nHy7yPwndduX3Vg/h7tdwmrbPaOvS+3vvh3QksHRbv0nHG6DF7x/r/SWUJ80QL/z+l6pvORUAEROD5CHSaCjjOEgzH62skHV43pBn6dFOfijgrEhXLiTTzmpwZUhinWdqmWc/xY+sz1fE6Ox4i0XEU8SteY1rUnkATk0Htzz20uOS/KY5dAq5BLavHwGJvP+2ctLQqXrfuqbPFvtIKfyVuxT140Dpa7+v6I0+e7GIW8/pt3nYMpk7OdvS8RnsUl0ldTj4TYz3N0Ne45qqn8VopH6fwzPb1dd6b8fahH946916Nt4nrrLcue1/v/ZDNA+x1tkyK/mmSkGrhpOhVBERABHpCoFsz3ABtpXKYi8t3w8woGIZGidr1P9Cz/IkKymYYYXXMgj/Vs2BI8xakaszzlm74tS38sx08909vhFI44LtgZRur4nXrnnrbeeSo8ThlBa1mEDaMhmJVGfbJFCvbcbwGUR+OeQqhxpBvnF7Z8pTMsj2pQCSuueppvFac9Dh4B93nvR9v7/2IvVfjbWI6Y63L3td7P+zvCSx2obALwm2/+UCuLCHVwnukIxEQARHoBYFuc0TsgoWb3uHSRnNZYsL5HgsBXBJZYJuu9oVPVLA84B8XdrgDhbvGRZYRb5ZKusYV0mFnWIypLiQ9Bu0/QyJlUkq4r8UdzqnfFmdBG6uqdZ2MNq/NVnBZaplcnCrLr1sxBUe/JOMYbE8v1BOXGdZIH6c18z3jPG2qFfNxGbxbKKWpvbWt/l5talPVWW+d9jh2h/833M47g6B/YnXtte1bpGXpjgiIgAgckEC3OSI/S5b6Abp0OThZIVT5giDA4E/rTS1DJKi48ZAP9A6RoWELtzur/rlO16AVzKhoWkFnaPEWAx+lhF7y+G0wqOE0KGmdQaUdDpuscKHDDmLRxGbJ1NumPdlMLyWzriV2Ja059DRdKyZzFPSY3Rpuc/v6e3VzG6+73trfa3O0Qvg7yULlyyKPprmdb2GzSppr664IiIAIPBuBLgORYeVT+Fvz50a/vuEP7KV5h38zhA429TPeaIB5i3SowKAnTM90nx69rKYaS0iewFo/E+DbbT5KB1xNOtNymz1NtXNW7OZDSqq73uTJfvSchtRrWnPoabpWXS5ntqrvpDbtq+/VNm289mprf6d8lOr9P/F/5BL/W94XMyPldv7MSZih/hgh19XGFr6tjkRABETg6AS6XJoZl/Z+GCOwcBPUKbdG+FNp8Mf1Bk+6fN7w53IYWW7xcqmpedv3phrUvzT/eHG1I8r+kf8L9XAxKu1lk86aiuJCs6esRkvaW1EIbnHAAZozGNXS5MkmeimZVR3x8ybNvkW7WrY+l2KqPm5uX3+vbm7j7au39vfKR6neX+Ad+rE2z1dua8+cBC6xtWsRk6JrIiACInAkAl0GIu9LW49NMb/BP/lN5SJ7PNfW4GOQscLVdZaLxvmKFcKBD0Fzt0jjL6VrTLNt164Q6JRtCDdSm8AXesMJbz5m6sol9K7cSe01rbNWFRfaecqW21kR05W+9lfJPzdgpz1J0Qs1xGWGNdLHac1hm3a1XIu7bInNnXFH183t6+/VzW2cBr57+SC6LeV3mbu6ufdn6JlptpDp2pRf6xI+I9D/1NCi3F5nIiACIvAsBLoMRL5nexvQDftlXNXkT+/gIA8uTDZ5bK+PE38w5/j0ylDkfXTmgXdswHCF+Rj3J36U7/PhNfIoXsPuGMIw4AY5JmGQMShyTpjF4hJv/8Cx08Nwx13HYVG2scrXbfaUVFnXlrQVvo6rG76GMsrXHccbBFz0l2WCAdu12JaelWB/p2SWfXKa2CY8jmtmnbCkavk6njTruh1Lhvnc0ub2XOiwxb1XN7fxOuuty17Wez9kQL3cZYe724QlrFOXwH4cV1qErXUsAiIgAj0g0N237w7wJ2+BqeCf2ZZe6S3FuDWXXbbhcM4vtX+dtXGbg9WhXOPT5B22jufTKq71At/K+hmJrpTEJyBsTogNKrgRV3VrNCe1XGOKQGiI2vzum4H5D/6tsOzBZzy4tdYIQQY/x/JqOaia4hoHbgYvLNtY1VQ39DQTXPwawir6ygl6F/pUrRjDGrs9G1Mj68VpvoOsx7wX4hyv0SdMz11AzgfUneXZO+3p1bXXZd6V3gnO9hk8tO+Qsq8cgl3Ppjwt2+f8jftYrmvtjV1znowT79Vym5TO21prV5O9wfcbN6irv8/9XdaY4V1p6/KsWQJrMG/qNvl/wdbQbxEQARF4ZgLdBSKX2SD5zO50qJ6BSJiH0aFoiRKBIxGoP5R+JMVSIwIiIAJtCXS3NBN+ZVlb7aonAiIgAiIgAiJw1gS6C0TOGqOcF4EeERhjSYaLh9dYwFQRAREQgZ4T6C4QCbf56rnTrczjbgwqInCKBEbZU0EMRTY9t3aK3slmERCBF0bgv/1XNw6NkNBZzufvRu7zSOFTEWPz383/Nv8D28WriMBpEfh/5n8iCfv/mP97WmbLWhEQgfMk0F2y6nnyk9ciIAIiIAIiIAJ7EOhuaWYPI9RUBERABERABETgPAkoEDnPfpfXIiACIiACItALAgpEetENMkIEREAEREAEzpOAApHz7Hd5LQIiIAIiIAK9IKBApBfdICNEQAREQARE4DwJKBA5z36X1yIgAiIgAiLQCwIKRHrRDTJCBERABERABM6TgAKR8+x3eS0CIiACIiACvSCgQKQX3SAjREAEREAEROA8CSgQOc9+l9ciIAIiIAIi0AsCCkR60Q0yQgREQAREQATOk4ACkfPsd3ktAiIgAiIgAr0g0JdAZGAe8I23u5URviH3Ce1PsYwz2w/xDb+biJ4ytVPsadksAiIgAiIQJdCXQGSIry0fRy2MXwyDloV5Y36Yi3jFjq+GersQfQfbl10IqsnYRLSZWtd+1szTBREQAREQAREggb4EIhwW32zRJcNK3cMM5hUlOK3qrdfY/sphbG9DNK35EH5uT0YtREAEREAEXjyBX3vj4WILS8ZHmv+omvRceqt2tDvfhmhZ4mn5WbZdZyIgAiIgAidFoC8zIttAG5rbbap3Vve59HbmQCGoeb7j5fhZOKwDERABERCBvhLoakZkYj5myxZfzRRJp2/NwNyZ9/h9n81d3JjPjQA49A3No3md1RpC1gPaGpzf11pemt9xZ5QHI1cluddZG7b3iw5TXPsJSTNTnyEYmS/Qu8Si0LV5BY1NLat623hMqSw/zV/Z6xh0hiBzAwtHZp5fzW7h1xDesnzF3XJpo6vsZ5mogW9fwPcCvj6AxcCsYIMrZWpVP10tvYqACIiACIjAIQisTUc/g/V6fZvLul0/FFKf1oPiuEnXfP2U17sv6s/Wk+I4bDtf+zr2+gytp7mm+XqetxrAjuvseAjrRklZk5Yty3o3eXyf6zbwwtt7D+to033h721xd76eRW00sK+JbtxPT3QAXZbkLNM1Wo8zPXFqBhZ6e0PuOhYBERABERCBjgl0tzSzwtyFe+5ljk/3nNHgJ/HP+PTdprj5ihHaurLNsxsDzDBYTYvCDs4S2LmIJez44sSWXpeYm1ju1LLZ4xl8t7pNNqvjfFlivugOFlyZf5fsMGaCWZ7qXIir0qwr7qcjSsnsB5ZbeDvG3BAtYIlRs3f0WwREQAREQASOQKC7QISD3CAPAd5gYJ9k1n8wf2/pxRJS7tGa4cgCyxTtixtcuaMIw6ABpLhrBjJHSVGu1rYt0x5T97dA3x3ObWjGiwwRlpWlIgYTTQtYzbqcB3E/31FpVrhk5QM9XnItne9ZNf0SAREQAREQgeMQ6DIQuUP4wU/03Erra5bJYZB94T+Xt/NohbmCITI6HrBJ2SSfqWjXslrrLS4Mkf1hf/hwsA8FqnXL521bpj2mhJ+BUB7zGsujfSn9nsLXcr5L6TZOmnU1+/kd7a3v/O3zZ6o6dC4CIiACIiACRybQVbKqNfsrhlMuBHzDsMc5jcedAolvaH9p3uFfuLwRAzPI0i9jd3iNg26YEJpa9qi339TS693GYxsKmAiTIeaN/s7mgZrmRFK6NlnLmZZP5kM23/IRgaGbA6n7Xb3i/aze0bkIiIAIiIAIdEKgyxkRg8DBIHx4nS07LHH0IbuynaEjtDMIRW4g53MyZ8LKHDYst9hFB/scznYWbG7p9aY8/gGVoW4+PZMOAH4gPFggo2RWWTYp253SRbmhrnIrnq0wQ/Ue0ilhu23j0stZdS26IgIiIAIiIAJbE+g2EFlgyPuUP4T6DUHELtuXX+SLOnSFeROxwjwSlovI7IKvv8LQ/8GfYommbUm1rOtNebxCKOVSd6n1MltaadZ/gwCuaYeUtK5NfvJ7Za7QH/xpU+p+tmmlOiIgAiIgAiKwNYFuAxEuAozyBFN+ut/mi+gGeXDBQdsN4ePEjIp7Kud9dJaBQYr95pkrLA65YGaU7+nRhGhTy5jelMd/QJHTzRDIZ4DYIMrbwQUQW25Az7Xx9/1RSlfcT090BamkOob8qnYn3fvOBS371FOcr2uhVxEQAREQARHYn0Bi34pdnxIeFnuJcDeKdjuIGOzwcYudLtZoMcbPFHteTLHXBv+l7LjGThfT9WV237Xmvh2DXNJDsSPHFFcoKbYjyfYtQ73WtiaPp7Bilum3dcfw0PrpdlzxV7izxwMYrOFZfMcTs27WFfrpPCNR6r7NJNtfVr6rEadW9zPVE7ouAiIgAiIgAnsQ+GW9fywjCX0nMMMSlt1JlbvHfsLsyG+Ni1p990f2iYAIiIAIvBgCCkReTFcmHRkj8+S30t0nLBSlU2dLVXUiAiIgAiIgAock0HWOyCFtlezdCNT3LXmM7mWym3S1EgEREAEREIE9CCgQ2QPeiTTlziF8cNeVafawsDvTqwiIgAiIgAg8IwEtzTwj/COq5nfq2h1V+e0y4ebzRzRCqkRABERABESgSkCBSJWIzkVABERABERABI5GQEszR0MtRSIgAiIgAiIgAlUCCkSqRHQuAiIgAiIgAiJwNAIKRI6GWopEQAREQAREQASqBBSIVInoXAREQAREQARE4GgEFIgcDbUUiYAIiIAIiIAIVAkoEKkS0bkIiIAIiIAIiMDRCCgQORpqKRIBERABERABEagSUCBSJaJzERABERABERCBoxFQIHI01FIkAiIgAiIgAiJQJaBApEpE5yIgAiIgAiIgAkcjoEDkaKilSAREQAREQAREoEpAgUiViM5FQAREQAREQASORuDXo2mSov4QGJv35sF8Nav+mCRLREAEREAEzpPAc82IDDAQznZEPjL35gntdynb6R1mmp52UbRjm318a6tyZj6aG/z8s6HBMWzZYIJui4AIiIAIvHQCzxWIDM3QjLeAGwYtC/PG/DAXW7T2VbfTu4SmO9/4CEf07W5H39qZNzIT8weqLqKedcWZtoSy2tm2fa1j6NjeKrUQAREQARFoTeC5lmY44C5bW2kQtpTL0rwtX2h5tq1es5WVLY3YUG0bLhtERW6PsSDDJZmryL3uOFN4tc+iCve8eAwde5qo5iIgAiIgAk0EnisQ4Sfy9mXc4RzBNnrbW3g6NV+Zx6SxXXLuUlbK4GPoSOnWdREQAREQgU4IPNfSzDbGD83tNtVVd0cCXXLuTlZ6zqM7HTsCUzMREAEREIH9CXQ3IzJECuSDGcCk10jx/NxoGoeQIT6Zv85qNbe8NL+j1igPRsoLCteZNrb3yxlTXPsJybPInEuod2S+wAZmgVybV7C7LGWC50qWkFN9rqQsfYIFjrdoe4faBl5z0KTEapnAwmFRb5z58pi1+YiqZHZT00SfaaExv2V1/sls/K2oV7YEVSKFnrH8NH9lryPzCVLtAD6r5Ih0yTkui4TL3o7NFNbcwfuPsGueWzmA34+YA1vi/fQaXq9wn6XscVxHVrH41VZjVTYF1NsWYnUgAiIgAiLQIYG16ejnvpAzW0+K47T0+fopr7W55Xzt61iJM7SergeZhPl6nksarB/W19nxcL1ej/KrZRu8XoN297C1KoXXb/O2Y0h0dsalTwtNE0izssoa7dkDJLnrk1y+0zIN7hn45TTSknXRaoZjKz9uiZPuXu9zFgY+en6hdFfTvXbL2eu08uPe3sNH9tl97vUAr/b9M8usHq3HuBv3uG6v82Q7jbF3TdzasnydiYAIiIAI7E1gbwH5MDkKBs9Rq0DEDYhtWtYHHA7KHKD4w1DAHs2CAd0OY3X/nF7eiUu5LgZ81rktPEtJn+da3dBV18krE0gd5nbaEOoSV1zI5o/KgQgtdPIowQYiKUtcTb6GdTjMzwrdPswJ6/O4S85VWSlvyZch4zAPHEnf2jXGkevj0Bvfs1UdZX/aaozJTrUta9CZCIiACIjA3gS6yhFZYgr9Hg+Gcilhga2yXJljyr25pFo2t+Jd92AtdxTh8sYA+t01LpRs0kwZdSmcpr8rFkBMkdqZln6FZYQZWtkFBCu1/ptMuDTBwuUGLuKsCunLbKEmu7nxV9oS35R1vvlTeDTJGAWXWh86pvtxbvKWCcTLfCntXWEXl9v4ftq1Z9tpjNNsapuZpF8iIAIiIALdEOgqR2SFbIkv2c4RXNF3GSLcK8Rnb8QtjreM122+ygd6h8j4sIX5J3bAzy+0fOHQF7M5LZ0eML8h1sorXSEwmGTBymWe77LIsz/ewuqLLcKEtCVeG+v89KfZ8dsgTAtubX3YRn9daNrb8lM8381l3m8MLi3TQ2qMy05bW/dMV0RABERABPYg0FUgYjDMfsMQ8g7/ZhhIbHIkwxB+9m8usZbxFoMshTF+j2GHKRIeWcfNP6Tqb3e9SfoSfk7Mnxt8/RNsLkHpfWHZJZJHfyAs+VpcaWNTkyVN7dmuXemSs5eV8nZVMuozmHzIQtmPmCOxszGbPPY6SqJAO8431JiSnWpb1qAzERABERCBPQl0FYjwWQwGFN/wmZ9biP+FhZHfMTgvsWQxb/wkXm+Zdon7oqbnHTho2edw0hI236F8uyBQrtsk/QZ677Flev15mVDGArZ/BAs3DE4xe/Mm8mxP2CY85pDJ0mSJrWEQ3pRZ8OkZO6i7Gk2vXXJ2stp6u0JY9j4n6Xhu8tjpKPvUTmNcdru2ZX06EwEREAER2IHAv3ZoE2tykT1ka+/wMUtmijBn4k/8bh4A6y2z5qVfzCNhuSgG8dLt/GQFTR+CG26RJrjU6vCv0ubzLihJS59mD5ZeIfSynqeVzCB5mi1gsc417HXbq1kt9fYuaGF9lz2RtoS1bOFC0Nid4PUSukJZwa3gsEvOVVltvKUp/IabKwRs/HEl5XFVh6tvX9tpjMtu17asT2ciIAIiIAI7EOgqEOFQ5wa+cT7U2p0zUkYN8uAi1rLaZq18HLIAABb6SURBVI45CoYi76NBDe/Yb565QvKnG8xH+R4aVVleb/mOl3KD8MB9h8kk2yeE97gpekw6d8LgLMoSIdd1wSBrUPvF3Bk/p7PMrTZoFX53jtVmG/+dteDxKCNgA5a4JbaF+83vk3EsGJK5HVhS/rNdl5yrslLe2iU1ardlBav5XhrnHturcY+rOpwM+9pWY0x2um1Zh85EQAREQAT2JPDLek8BeXP7xfKvkRT5qtg+i9t4ucn1shZurDXGwHqXDZX8Svpyy3Jtnl1jxuXOfMfnfA7JtvXC/I1cgi+ZpCXu2k/QNjDgVmQuZdZLcy2p97FRyjUs4lMiCwzgH1B3lme9lKVzyBxCE783Z2D+g38rhBR86iZVZsgIcXe5cRcH/wG0/MA8AMMfZ9Ud6ln7L+HXArYwpfMWetr46bRPIZtBGoMkliFsI3cuErnAJLtR/OqGsxUXymK4UfeWG7nZDeGY8OvKLai6ssAX9LlZozJ7W6Osw7Wyr+01MmRjgOjfNbG2rt/KWnQmAiIgAiKwF4GuApGYERw2OQCOiqEkVkvXRCAkMEMwZ8Mm7nb7CUGJ3002rKdjERABERCBF0Ggu6WZOo4RZjD4WTOdXlpvoyvnTWCM+ScbhhgEJJyPWu34PcvnzVHei4AIiMDJEOjqqZmYw1PkdAyx3LCK3dQ1EYgQKO8pwgqP2aJUpKouiYAIiIAIvAQCh1yaeQl85MOxCdwi8PDPyzB3w2ePHNsW6RMBERABETg4AQUiB0csBVsS4Pfq2uW8AVJ5w43qtxSk6iIgAiIgAv0noECk/30kC0VABERABETgxRI4ZLLqi4Umx0RABERABERABLohoECkG46SIgIiIAIiIAIisAMBBSI7QFMTERABERABERCBbggoEOmGo6SIgAiIgAiIgAjsQECByA7Q1EQEREAEREAERKAbAgpEuuEoKSIgAiIgAiIgAjsQUCCyAzQ1EQEREAEREAER6IaAApFuOEqKCIiACIiACIjADgQUiOwATU1EQAREQAREQAS6IaBApBuOkiICIiACIiACIrADAQUiO0BTExEQAREQAREQgW4I/NqNGEk5SQJj8948mK9mdZLWy2gREAEREIEXQOC5Z0QGGAhnO3McmXvzBAm7lO00DzNNT7so2rHNPr61UzkzH80Nfv7ZWP3wtlgTNvVJyo5x1jv3G/1oqrBJd1Nb3RMBERABEdiZwHMHIkMzNOOtrA/DloV5Y36Yi63au8rbaV5C051repRX+na3o29tDByZifkDFRcJv7ri3MYWV2dTn6T6+w6slk7Ijq+bdO8oVs1EQAREQASaCTx3IMKh5U2ziZW7w8r5rgPQ9pp31VQxeIvTQ2ocY0GGSzJXmBOJla44x2SnrrXpkxST1PWUrur1NrqrbXQuAiIgAiKwN4HnzxFZbOXDuMM5gu00b2XmCVR+ZR4brOySc4Oa2q3n7JPn1F0DoQsiIAIicC4EnntGZDvOQ3O7XQPV3olAHzlXZ2h2cqzjRn20qWMXJU4EREAEDk2guxmRIVIfH8wABr9G6uDnVoZzwBvik/nrrPYmCZfmd9Qb5cHIVUnDNc5eQ9bHIFdgims/cXWGPIhqCTWPzBe0ZBbItXkFD8pSJniyZAk51SdLytInWOJ4i7Z3qG3gP4coSiyXCewbFrXGmSePmXzqNBm9m5om+kwLjfktq/NPZuNvRb2yJWWN9ox+sfw0f2WvI/MJMm24MavliHTJuZlt2fKwT2jmAF4/YgZsiffVa5ytgkWkWH+TE98hfA+WKVb9H5spvL9DrY9oMweVUHeTzU020WaWel/W9dmaZf/jbW1N/RYBERCBl0tgbTr6uS/kzNaT4niz9Pn6Ka/dRsJ87WtZ2TO0n64HmYz5ep7LGqwf1tfZ8XC9Xo/yq2VrvGaDdvewuiqF12/ztmNIdJbGpU8LTRNIs7LKGnn2gB93dVJId1qmwV0Dv5xGWrIu2s1wbOXHLXHy7et9TsLAQ08vlF2uz7NuOcfYxi33fTKA7/Z9NMusHq3Hmf/x/jYg+RT4+bQeFrTi/t/DR75D7gvGXnfq/ZCyqcwv3pdVfXH/423L8nUmAiIgAi+KQFfOjIo/5wbD/jaBiBsQ20mIDZDrfIjiwO0G61kwoNuBrO6p08w7HNrtQBdKuS4GfNbhUGelpKTPc61uOKnrZDCwLgZJF0Bd4ppj5o/KgQgtdPIowwYiKUtcTXrmAx8Ou7NcSui9r+2OuuQcZxva5XvIW0X21poxjlzfpHoq7B22us+CFx6FekL/2ZsMUIdFmOp1p7SkbHLU+Jrqy6q+0C7nf6ptKF/HIiACIvDCCPyro7meJSbE7/FAKBcQFtgia/uyjwT3YC13FOHE/ACWuGtcKBm1Mse1cFIMJvDvigUQUyR3pqVfYSFhhlbx51CsEWTDZRgWLjewLPHqUkeX2eJOdnnjr7QlrilrfHMneL3DOQntVqqENut3erZv+c41BR0ud4SlKs3ecwR59jf6nL3e7D+X7JaRhTtKICtb/Puhyaa8cmNfen1xcru+D5xuvYqACIjACRLoKkdkhRyJL9nWZFzJb5chUsa1vwQv7y0Oh8j4sIUZKG7Izy+1euHgF3soNC2dPjDjINbKqVwhMJhkocplkXq7yLM/3sLqiy0ChbQlThtr/HQn+fHbYogNbux0uFl/Suzmlt/NZd5rDJyaiMZ0sP5bhBhN/oeBS0xG/Vobm9J9GeqL+59uW7dFV0RABETghRDoKhAxGF6/Yeh4h38zDCA2KXI7SNtIGGRJjCn5HLoYELjiZiDc+X6vTdKXGDIn5s9gHqWu608wugSt98XMiMH5J2zNdou5pG1sbbKkrtddYau25VCcN1v+GUQ+ZCHtRwQUbnaird1N9Zz/q6ZK0XvtbEr1Zagv5X+qbdQcXRQBERCBl0Cgq0CEz2AwkPiGz/rcOtwHAW0pbSeB+2CmPyVz2LJP4rTVHqtH+eUlAVurSfoN9N5j0/Tq8zKh/AUs/4ih1Q9MU8zevEkuEYRt7TGHMZYmS2yNH3gJSfDpmW0G9UNx3mz5CkHZ+5xjE03rZ/U3d9ul7/v6X5bbxqZ2fRn3v13bsk06EwEREIETJ/Cvjuy/yB6ctML4UCLLNUKSS6zUX+PnduOCQ0yClRP+ZiYJy0UwjIf37fEKg+2H4LJbpAkutTr8q7T9vAtK0tKnyA/hXqWj7DWtYga502why9a5hr3MH2CxWhxDe42/fdhiMO9kS9qSvAJafSv5cAlNoSRXr/p6aM6bLef3ylwhYONPuxJu9X8FniS6q/9xjW1satOXtCv2Dm3XNm6broqACIjAiRLoKhDh4sI4ZzDOhtgRBoI58kbeYnbkL4QPkwShQRGiVCXEGswxUDMUeY8/5PXCO3Y4ukLypxvMR/kuGtX6XnP5jpdyAx/cd65Msn1CeI+hRkw696bgLMoSs0LXBY2sQeUXc2jCGZ1lbrVBq/C7c6w22/jvrA2PRxkBG7DELbEt7G9+n4wjwYDM7b+S8t626pKzlWh/e7Zxy71VK1jNd8Q49zeU4o69NF55LJhzds35mfKfeUPl4nVXr7t3VRubUn1Z1RfzP922bJHOREAEROAFEfhl3Y0z9gvlXyMx8lW+bRYDkSkGEW7wZbAl1Q0+m1cLN9YaY0C4y4ZKfiV9KKFa255fY+7lznzPpLn2Czwl8RlBD2Utcdd+hraBAbciqyfPupbU/JhbEZdyDZv43MQCQ9sH1J3ly05l6Rw0h9DEL18bmP/g3wohBZ+6iZcZ5oj8PW6TxayWAbT8wEwAwx9n1R1qWvsv4dcCtjDp8baln1b7FJI5mDJEYhnCMrLiIpEbsLMbwa9uOcfZlhmGfUI2t2DqygJf0LfAu8m+X2LSbpGZw0TfFf4NK0uDVf/H4GC3n2N6MYuTvOn9ULfJWeheY33JDdbK+mztsv8MVervA/8ucRr0KgIiIAIvikBXgUgcyj0GVA6iA/OE4Tyd0xFvravnTGCGkMKGTQwsPiEo8XvJPheXPtr0XCykVwREQAQ6InDIQMSHH/x0/QafOl0eREfGS8yLJcDt77mhvS9PmLt43tmBPtrk+ehIBERABE6UQHc5InUA/KJ5OwvyHksngyCdtV5XV0QgJMDlp3J5zJakyteOe9ZHm45LQNpEQARE4AAEDhmIDIvcjBkWZj7lE+0HcEIiXxwB7hzi0oTp3BSzac89n9ZHm15cx8shERCB8yNwyKWZ86Mpj7skwG8BtjNqAyTy1lOdu9TVVlYfbWpru+qJgAiIQC8JKBDpZbfIKBEQAREQARE4DwKHXJo5D4LyUgREQAREQAREYGcCCkR2RqeGIiACIiACIiAC+xJQILIvQbUXAREQAREQARHYmYACkZ3RqaEIiIAIiIAIiMC+BBSI7EtQ7UVABERABERABHYmoEBkZ3RqKAIiIAIiIAIisC8BBSL7ElR7ERABERABERCBnQkoENkZnRqKgAiIgAiIgAjsS0CByL4E1V4EREAEREAERGBnAgpEdkanhiIgAiIgAiIgAvsSUCCyL0G1FwEREAEREAER2JmAApGd0amhCIiACIiACIjAvgR+3VeA2r94AmPz3jyYr2b14j2VgyIgAiIgAkcn0NWMyBBf1P5g1vi5x9Et/vH3qKU/A7SdtaxbrTaCxie0f/5yXEvGmd/3B3d7Zj6aG/z8s6emffo4rboLqcftt7QvuiMCIiACZ0mgq0BkiU/NrzOCb3B0hX/vzXcMldNWVIdmaMatatpKYdCyMG/MD3OxRety1VBW+U75bHM9WnK3hyVlfZvO7qBtuanS3vdHZmL+gJQFPNuvtO3jzZxDO9pKDdvwONRyrHdQ1YZtzkN7t2mnuiIgAiLQewJdBSIxR//C4HVtLmO3Ktc4FLypXGs6HVZu7jMgV2VVRBen7ertY0mhqvXB4bWNsSDDJZkrzInsV9r2cTvOzpa2Ul1991rVsg/Jqiyno8vXY+jo0l7JEgEREIHWBP7VuuYuFRdo9HurhostMhDGHc46tJXVtl4rZ0+o0ivz2Jm1bfp4e85tpFZd2F5LVYI/71KWl1o+OoaOskadiYAIiMDRCBw2EDmEG0PknnRV2spqW68ru85VznE4d6mlO1npOY/udJzr+0p+i4AI9JrAYZ+aYbLq3xv95x/aIT552xyTIZIjH8wArV4jx+RzpfVlNsMyyoORq9Ld66wN2/uJduao/ISkGbIcqiUl69q8yqr+NH9lr/F61GMyO282zuaMzBd4uMTyE2UPcEwb7VVjfsvk/JNd/w2yyrWHuM7aE7y+wr2biiejjAh5hXaU/R4jV2eIhbIbSBohjdj6lTkX/Kr6PTKfUNsOg7NajoiVucwXbS7Qf6H+qqywj8v+ORoGi3icPSv3bfO7oY3UwMHsMKbF1enmHVR/Z8T5D/CueMTs3hLv99fo3RUIspT7rslea3dbfVXJbF1va2XqtwiIgAgcjwAfdOnsZ43ipV3ibBac+zv1o/n6Ka95X7SYrSfFcdhivvZ17PUZWk/Xg6z2fD3PWw3WD+vr7HgIS0YtZd3nbQy0ez11nbe5vCm0eOumhR/+mj2ihEnNxnlAbIZj64OBD2Ft2jTMtJS13UKb9ZDWPuV14n7fQybr3icsjPud9odeUZbrYda0NvK6typk6Pq46p/rMXs9JOdbp98Nm6WGEnlc780u30Hxd0aV/wC87Pt7Bl4G788xfsf7rm5v6FFbfbH/DfG2oXQdi4AIiMCBCXQrHiMpAgL+zNa3+HMfH/xjOt2ANwqGyVH+h7pav/5nmUM4/4zzZ4pjezQLQgT7x74qqT4khW04oLphtqqTQZYLk/wRtfthsawtZaOzlqGED0SqtZ0u6nXDvQHjUNt9NqAZ2OxDI+8367I/htFeCduEfqf9oXdl/U8R/SlZVf8cqzLnNu+G0MKUVCfdvZa18Gq8ZUjFk3RS7GtVVuqdUeV/XbxPxzhy7964xqqO0IK2+mKSU21D+ToWAREQgQMT6D5HhHtOcAmAj/DWl0M2TfUsMUV9j2UIrpgvsIlW++IeL+WOIlyoGECKu2Ygs82eJmzzLVB5ly2IBBeKwyUm0l0aJx9dblecPc7G5lZh7R95VT7BQu9ccTbw/G/4OGr0m/2xjPRKe7+dXvca6v9c6G/HMPQv9MnJpq3bvxs2S/Xyy0fVlru8g2hz+p0R8n9XKOdCos0Q2UVjO31xyU1tC/N0IAIiIAKHJXDYHJHtbV8hgPmS7fLAFfNqhsg28t6i8hA5GbYw/4Sr8M2FbX4GVXj8Nghn/K1FntnxFjouSqGBr9Plkc96SUtlnbfZE0Vxv8OgoSylvd/lduUzhldWfzuG5daxs+7eDTHpm67t8g5i+GxzfurvjDL/78iJse9IBmG2f3fR2E5fXHK67SY2ui8CIiACnRHoWyBiMCPxDX+i3+HfDH+o42mV1v1BluiXQsE/72FaJlNL0yUtq/xZ3de7RCrnDyTNfsXsT59K2u/VVmaW/d6qaa3y9rIc5/bvhprSFheclnjVNMlYfS8r9c4o8/+M98+HLNT+iODFzsZs0uh1hBa00ZeSnGobytexCIiACByUQN8CET6lwcHnG+ZDuLl4UyDCXTXTMwX8026fw2kD0MriAkjYhk/PuAl7K8XpnGKu5U1kkaONrlQdDhb7FO4u+yMjEvrQRuJmv9tIoda6/jrDNrIs523eDW2kVuu43qxet+e7vIP4ZEq7d8YKIez7fBs/t5nfJo0xe9vpi0tu1zZOR1dFQAREoCMC3eeI7GfYRbABGh9jjBVmDrBcNC61rBBCfAiau0Wa4BIOy7JWCIDGQYVLyFhl5+V6BoPNXRGG2PX9lLWBuMihlW5v+KyBSMXEpXBr+ytYxO292vhdFpf2u1yvfhbqn+T6UwzrretXypzbvBvqMjZfKWtJ1W9Hsiqr7TuD33BzhVCbP66kNFZ1uPp8bacvLrld21CbjkVABESgcwLdByK7fa4fFHkWl0UoMM5yReouzzETQi3vMeTWC+/Y4fEK6aQuPBjle4NU61dl8XtVXBuGLm6nkmq9Za7DwNrwm27aee9t/Bs6bCDDNFN3jIOg+Nr2Yjj4Pxa0OHtgrU353WRbym/fL4FBweEAA6Et/DYUq39bWaF/Vc6b3w0pC0OpgcHZYVVL+b5vmSIZ1q/KSr0zyknGBgHjFMuPY/zYnrcy4xqrOkL9bfXFJKfbhhp0LAIiIAIHJfDLuhvxQ/xZHeJPKpP1luZP/G5fuHHWGMPwXRYC8CvnXyNl9BX+pRZmrjFvcocv1ePTGa71Ak+NfEaiKyUtcdd+zqRVS0haJRNfQ1nW5mkWEnCjqfD7Vcr1uBkVc1AG8PQHPtsuEDQ9Fn7cVrQ12XgJSxfwmamMt5nls1xO6BGzCG5wn+EGn3uxQ/4tSDNVdoV/wxKtst9jtH2LOpzfcaGV9TX8XfWbfUqa7NF4K9pzlW+o5rbjshKrshwB9rHjFPrneyzkPEaw2fRuaC819JPHoRYnJW5PmWRVTlUWw436O4ObzdX53yIQcWWBrxZ0/2diGkN7XRv72l4fQ+zy/4ZY21hwX9aoMxEQARHolEBXgUinRknYiRBgILJtPsqJuHZwM2cICm2gyyDyE4IS7qqrIgIiIAJnR6Bvyapn1wFy+CwJjJG/xMd8WVbZDNcT5kw0G2GJ6LcIiMBZEeg+R+Ss8MlZEdiJQHlPEYp4zBbndhKmRiIgAiJwygQUiJxy7z237dzXQmUXAsz5YXqvK1PMirgcEXdNryIgAiJwFgSUI3IW3XwAJ5kAy0ed75BCu88OuAcw7URE8nt17T44A6Q9h9vin4gDMlMEREAEuiDw/wEkgH8o8ZgTMgAAAABJRU5ErkJggg==)"
      ]
    },
    {
      "cell_type": "code",
      "execution_count": null,
      "metadata": {
        "id": "0h5Tt1YIfGPJ"
      },
      "outputs": [],
      "source": [
        "# And, the simplest representation (this is the first formula, but reduced):"
      ]
    },
    {
      "cell_type": "markdown",
      "metadata": {
        "id": "knCGcVj8cYYB"
      },
      "source": [
        "![image.png](data:image/png;base64,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)"
      ]
    },
    {
      "cell_type": "markdown",
      "metadata": {
        "id": "I9Z6Kb9ocnV7"
      },
      "source": [
        "![image.png](data:image/png;base64,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)"
      ]
    },
    {
      "cell_type": "markdown",
      "metadata": {
        "id": "YV1R-8gobbr-"
      },
      "source": [
        "E_c(p,n) = e^{\\frac{-\\lambda \\cdot (w \\cdot d_n(p,n) + (1-w) \\cdot d_e(p,n))}{|s_t - s_n|^\\beta}}\n",
        "\n",
        "Explanation of terms:\n",
        "\n",
        "$E_c(p,n)$: The combined inverse elasticity between point $p$ and neighboring area $n$.\n",
        "$e$: The mathematical constant e (Euler's number, approximately 2.71828), base of natural logarithms.\n",
        "$\\lambda$ (lambda): The decay parameter. It controls how quickly the influence decreases with distance.\n",
        "$w$: The network weight (between 0 and 1). It determines the balance between network and Euclidean distance in the calculation.\n",
        "$d_n(p,n)$: The network distance between point $p$ and the nearest point in neighboring area $n$.\n",
        "$d_e(p,n)$: The Euclidean distance between point $p$ and the nearest point in neighboring area $n$.\n",
        "$s_t$: The index value (e.g., SVI) of the target area containing point $p$.\n",
        "$s_n$: The index value (e.g., SVI) of the neighboring area $n$.\n",
        "$\\beta$ (beta): The exponent for the index difference. It controls how sensitive the calculation is to differences in the index values.\n",
        "$|s_t - s_n|$: The absolute difference between the index values of the target and neighboring areas.\n",
        "\n",
        "This formula calculates the combined inverse elasticity by:\n",
        "\n",
        "Computing a weighted average of network and Euclidean distances: $w \\cdot d_n(p,n) + (1-w) \\cdot d_e(p,n)$\n",
        "Scaling this distance by the decay parameter $\\lambda$\n",
        "Dividing by the absolute difference in index values raised to the power $\\beta$\n",
        "Taking the negative of this value as the exponent of $e$\n",
        "\n",
        "The result is a value between 0 and 1, where higher values indicate stronger influence (less \"stretch\" in your elastic band analogy) between the point and the neighboring area."
      ]
    },
    {
      "cell_type": "code",
      "execution_count": null,
      "metadata": {
        "id": "6Oc071Vabjq_"
      },
      "outputs": [],
      "source": []
    }
  ],
  "metadata": {
    "colab": {
      "provenance": [],
      "toc_visible": true,
      "mount_file_id": "1bEnE8loR_dwbqI2bOAYkUUYWSXegYYFe",
      "authorship_tag": "ABX9TyODxe8h7LIVGBx6uQfXLWeN",
      "include_colab_link": true
    },
    "kernelspec": {
      "display_name": "Python 3",
      "name": "python3"
    },
    "language_info": {
      "name": "python"
    }
  },
  "nbformat": 4,
  "nbformat_minor": 0
}