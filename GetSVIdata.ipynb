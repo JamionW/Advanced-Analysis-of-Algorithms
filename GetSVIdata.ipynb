{
  "nbformat": 4,
  "nbformat_minor": 0,
  "metadata": {
    "colab": {
      "provenance": [],
      "mount_file_id": "1pakPBPM-7HHxXu2oThNYpjQJlLkudKUx",
      "authorship_tag": "ABX9TyPDzJNsdWs/IBNyUFXcihQe",
      "include_colab_link": true
    },
    "kernelspec": {
      "name": "python3",
      "display_name": "Python 3"
    },
    "language_info": {
      "name": "python"
    }
  },
  "cells": [
    {
      "cell_type": "markdown",
      "metadata": {
        "id": "view-in-github",
        "colab_type": "text"
      },
      "source": [
        "<a href=\"https://colab.research.google.com/github/JamionW/Advanced-Analysis-of-Algorithms/blob/master/GetSVIdata.ipynb\" target=\"_parent\"><img src=\"https://colab.research.google.com/assets/colab-badge.svg\" alt=\"Open In Colab\"/></a>"
      ]
    },
    {
      "cell_type": "code",
      "execution_count": 5,
      "metadata": {
        "id": "cSbn9dvFigZM"
      },
      "outputs": [],
      "source": [
        "# This is to load up R so that we can use both R and Python\n",
        "\n",
        "%load_ext rpy2.ipython"
      ]
    },
    {
      "cell_type": "code",
      "source": [
        "# Necessary installs in Python\n",
        "\n",
        "%pip install pandasql"
      ],
      "metadata": {
        "id": "YhDvxzrlofWc"
      },
      "execution_count": null,
      "outputs": []
    },
    {
      "cell_type": "code",
      "source": [
        "# Necessary installs in R\n",
        "\n",
        "%%R\n",
        "\n",
        "install.packages(\"sqldf\")"
      ],
      "metadata": {
        "colab": {
          "base_uri": "https://localhost:8080/"
        },
        "collapsed": true,
        "id": "tgHfr8Rns5Ph",
        "outputId": "a88e9cba-ade3-499b-81ef-7d84f0b84430"
      },
      "execution_count": 39,
      "outputs": [
        {
          "output_type": "stream",
          "name": "stderr",
          "text": [
            "WARNING:rpy2.rinterface_lib.callbacks:R[write to console]: Installing package into ‘/usr/local/lib/R/site-library’\n",
            "(as ‘lib’ is unspecified)\n",
            "\n",
            "WARNING:rpy2.rinterface_lib.callbacks:R[write to console]: trying URL 'https://cran.rstudio.com/src/contrib/sqldf_0.4-11.tar.gz'\n",
            "\n",
            "WARNING:rpy2.rinterface_lib.callbacks:R[write to console]: Content type 'application/x-gzip'\n",
            "WARNING:rpy2.rinterface_lib.callbacks:R[write to console]:  length 63097 bytes (61 KB)\n",
            "\n",
            "WARNING:rpy2.rinterface_lib.callbacks:R[write to console]: =\n",
            "WARNING:rpy2.rinterface_lib.callbacks:R[write to console]: =\n",
            "WARNING:rpy2.rinterface_lib.callbacks:R[write to console]: =\n",
            "WARNING:rpy2.rinterface_lib.callbacks:R[write to console]: =\n",
            "WARNING:rpy2.rinterface_lib.callbacks:R[write to console]: =\n",
            "WARNING:rpy2.rinterface_lib.callbacks:R[write to console]: =\n",
            "WARNING:rpy2.rinterface_lib.callbacks:R[write to console]: =\n",
            "WARNING:rpy2.rinterface_lib.callbacks:R[write to console]: =\n",
            "WARNING:rpy2.rinterface_lib.callbacks:R[write to console]: =\n",
            "WARNING:rpy2.rinterface_lib.callbacks:R[write to console]: =\n",
            "WARNING:rpy2.rinterface_lib.callbacks:R[write to console]: =\n",
            "WARNING:rpy2.rinterface_lib.callbacks:R[write to console]: =\n",
            "WARNING:rpy2.rinterface_lib.callbacks:R[write to console]: =\n",
            "WARNING:rpy2.rinterface_lib.callbacks:R[write to console]: =\n",
            "WARNING:rpy2.rinterface_lib.callbacks:R[write to console]: =\n",
            "WARNING:rpy2.rinterface_lib.callbacks:R[write to console]: =\n",
            "WARNING:rpy2.rinterface_lib.callbacks:R[write to console]: =\n",
            "WARNING:rpy2.rinterface_lib.callbacks:R[write to console]: =\n",
            "WARNING:rpy2.rinterface_lib.callbacks:R[write to console]: =\n",
            "WARNING:rpy2.rinterface_lib.callbacks:R[write to console]: =\n",
            "WARNING:rpy2.rinterface_lib.callbacks:R[write to console]: =\n",
            "WARNING:rpy2.rinterface_lib.callbacks:R[write to console]: =\n",
            "WARNING:rpy2.rinterface_lib.callbacks:R[write to console]: =\n",
            "WARNING:rpy2.rinterface_lib.callbacks:R[write to console]: =\n",
            "WARNING:rpy2.rinterface_lib.callbacks:R[write to console]: =\n",
            "WARNING:rpy2.rinterface_lib.callbacks:R[write to console]: =\n",
            "WARNING:rpy2.rinterface_lib.callbacks:R[write to console]: =\n",
            "WARNING:rpy2.rinterface_lib.callbacks:R[write to console]: =\n",
            "WARNING:rpy2.rinterface_lib.callbacks:R[write to console]: =\n",
            "WARNING:rpy2.rinterface_lib.callbacks:R[write to console]: =\n",
            "WARNING:rpy2.rinterface_lib.callbacks:R[write to console]: =\n",
            "WARNING:rpy2.rinterface_lib.callbacks:R[write to console]: =\n",
            "WARNING:rpy2.rinterface_lib.callbacks:R[write to console]: =\n",
            "WARNING:rpy2.rinterface_lib.callbacks:R[write to console]: =\n",
            "WARNING:rpy2.rinterface_lib.callbacks:R[write to console]: =\n",
            "WARNING:rpy2.rinterface_lib.callbacks:R[write to console]: =\n",
            "WARNING:rpy2.rinterface_lib.callbacks:R[write to console]: =\n",
            "WARNING:rpy2.rinterface_lib.callbacks:R[write to console]: =\n",
            "WARNING:rpy2.rinterface_lib.callbacks:R[write to console]: =\n",
            "WARNING:rpy2.rinterface_lib.callbacks:R[write to console]: =\n",
            "WARNING:rpy2.rinterface_lib.callbacks:R[write to console]: =\n",
            "WARNING:rpy2.rinterface_lib.callbacks:R[write to console]: =\n",
            "WARNING:rpy2.rinterface_lib.callbacks:R[write to console]: =\n",
            "WARNING:rpy2.rinterface_lib.callbacks:R[write to console]: =\n",
            "WARNING:rpy2.rinterface_lib.callbacks:R[write to console]: =\n",
            "WARNING:rpy2.rinterface_lib.callbacks:R[write to console]: =\n",
            "WARNING:rpy2.rinterface_lib.callbacks:R[write to console]: =\n",
            "WARNING:rpy2.rinterface_lib.callbacks:R[write to console]: =\n",
            "WARNING:rpy2.rinterface_lib.callbacks:R[write to console]: =\n",
            "WARNING:rpy2.rinterface_lib.callbacks:R[write to console]: =\n",
            "WARNING:rpy2.rinterface_lib.callbacks:R[write to console]: \n",
            "\n",
            "WARNING:rpy2.rinterface_lib.callbacks:R[write to console]: downloaded 61 KB\n",
            "\n",
            "\n",
            "WARNING:rpy2.rinterface_lib.callbacks:R[write to console]: \n",
            "\n",
            "WARNING:rpy2.rinterface_lib.callbacks:R[write to console]: \n",
            "WARNING:rpy2.rinterface_lib.callbacks:R[write to console]: The downloaded source packages are in\n",
            "\t‘/tmp/RtmpCZdOAZ/downloaded_packages’\n",
            "WARNING:rpy2.rinterface_lib.callbacks:R[write to console]: \n",
            "WARNING:rpy2.rinterface_lib.callbacks:R[write to console]: \n",
            "\n"
          ]
        }
      ]
    },
    {
      "cell_type": "code",
      "source": [
        "# Necessary imports in Python\n",
        "\n",
        "from pandasql import sqldf\n",
        "import pandas as pd"
      ],
      "metadata": {
        "colab": {
          "base_uri": "https://localhost:8080/"
        },
        "collapsed": true,
        "id": "xXSXvWCYnl4z",
        "outputId": "005ed67e-6d8b-43ce-8697-ed2229118cc9"
      },
      "execution_count": 18,
      "outputs": [
        {
          "output_type": "stream",
          "name": "stdout",
          "text": [
            "Collecting pandasql\n",
            "  Downloading pandasql-0.7.3.tar.gz (26 kB)\n",
            "  Preparing metadata (setup.py) ... \u001b[?25l\u001b[?25hdone\n",
            "Requirement already satisfied: numpy in /usr/local/lib/python3.10/dist-packages (from pandasql) (1.25.2)\n",
            "Requirement already satisfied: pandas in /usr/local/lib/python3.10/dist-packages (from pandasql) (2.0.3)\n",
            "Requirement already satisfied: sqlalchemy in /usr/local/lib/python3.10/dist-packages (from pandasql) (2.0.30)\n",
            "Requirement already satisfied: python-dateutil>=2.8.2 in /usr/local/lib/python3.10/dist-packages (from pandas->pandasql) (2.8.2)\n",
            "Requirement already satisfied: pytz>=2020.1 in /usr/local/lib/python3.10/dist-packages (from pandas->pandasql) (2023.4)\n",
            "Requirement already satisfied: tzdata>=2022.1 in /usr/local/lib/python3.10/dist-packages (from pandas->pandasql) (2024.1)\n",
            "Requirement already satisfied: typing-extensions>=4.6.0 in /usr/local/lib/python3.10/dist-packages (from sqlalchemy->pandasql) (4.11.0)\n",
            "Requirement already satisfied: greenlet!=0.4.17 in /usr/local/lib/python3.10/dist-packages (from sqlalchemy->pandasql) (3.0.3)\n",
            "Requirement already satisfied: six>=1.5 in /usr/local/lib/python3.10/dist-packages (from python-dateutil>=2.8.2->pandas->pandasql) (1.16.0)\n",
            "Building wheels for collected packages: pandasql\n",
            "  Building wheel for pandasql (setup.py) ... \u001b[?25l\u001b[?25hdone\n",
            "  Created wheel for pandasql: filename=pandasql-0.7.3-py3-none-any.whl size=26771 sha256=f207c67421e0a8193edeac56fc6ea2f3ac422c56ed0b9df2cddb6a566a989bcc\n",
            "  Stored in directory: /root/.cache/pip/wheels/e9/bc/3a/8434bdcccf5779e72894a9b24fecbdcaf97940607eaf4bcdf9\n",
            "Successfully built pandasql\n",
            "Installing collected packages: pandasql\n",
            "Successfully installed pandasql-0.7.3\n"
          ]
        }
      ]
    },
    {
      "cell_type": "code",
      "source": [
        "# Necessary imports in R\n",
        "\n",
        "%%R\n",
        "\n",
        "library(sqldf)"
      ],
      "metadata": {
        "colab": {
          "base_uri": "https://localhost:8080/"
        },
        "id": "7CtjB8UrsXvY",
        "outputId": "9e8b9d75-3af4-4265-de6c-8a96bb534f79"
      },
      "execution_count": 40,
      "outputs": [
        {
          "output_type": "stream",
          "name": "stderr",
          "text": [
            "WARNING:rpy2.rinterface_lib.callbacks:R[write to console]: Loading required package: gsubfn\n",
            "\n",
            "WARNING:rpy2.rinterface_lib.callbacks:R[write to console]: Loading required package: proto\n",
            "\n",
            "WARNING:rpy2.rinterface_lib.callbacks:R[write to console]: Loading required package: RSQLite\n",
            "\n"
          ]
        }
      ]
    },
    {
      "cell_type": "code",
      "source": [
        " %%R\n",
        "\n",
        " # modifiable variables\n",
        "\n",
        "infile.name <- \"/content/drive/MyDrive/Colab Notebooks/data/Tennessee.csv\"\n",
        "\n",
        "##############################\n",
        "####\n",
        "##############################\n",
        "\n",
        "# Bring in the target dataset\n",
        "print(\"Importing Dataset...\")\n",
        "raw.df <- read.csv(infile.name,header = TRUE)\n",
        "print(\"Dataset import finished!\")"
      ],
      "metadata": {
        "colab": {
          "base_uri": "https://localhost:8080/"
        },
        "id": "gYU5rQ_Nlo6O",
        "outputId": "d685a8a4-0053-4a39-aaba-ec8e4848d905"
      },
      "execution_count": 41,
      "outputs": [
        {
          "output_type": "stream",
          "name": "stdout",
          "text": [
            "[1] \"Importing Dataset...\"\n",
            "[1] \"Dataset import finished!\"\n"
          ]
        }
      ]
    },
    {
      "cell_type": "code",
      "source": [
        "%%R\n",
        "\n",
        "# Uncomment this line to give a simple summary of the dataset as it stands\n",
        "#summary(raw.df)\n",
        "\n",
        "# Uncomment this line to print the column names of the dataset\n",
        "#t(t(names(raw.df)))"
      ],
      "metadata": {
        "colab": {
          "base_uri": "https://localhost:8080/"
        },
        "collapsed": true,
        "id": "mYANQDSnmiS1",
        "outputId": "006203af-1f77-475f-b59f-8baa099acaee"
      },
      "execution_count": 13,
      "outputs": [
        {
          "output_type": "stream",
          "name": "stdout",
          "text": [
            "       [,1]          \n",
            "  [1,] \"ST\"          \n",
            "  [2,] \"STATE\"       \n",
            "  [3,] \"ST_ABBR\"     \n",
            "  [4,] \"STCNTY\"      \n",
            "  [5,] \"COUNTY\"      \n",
            "  [6,] \"FIPS\"        \n",
            "  [7,] \"LOCATION\"    \n",
            "  [8,] \"AREA_SQMI\"   \n",
            "  [9,] \"E_TOTPOP\"    \n",
            " [10,] \"M_TOTPOP\"    \n",
            " [11,] \"E_HU\"        \n",
            " [12,] \"M_HU\"        \n",
            " [13,] \"E_HH\"        \n",
            " [14,] \"M_HH\"        \n",
            " [15,] \"E_POV150\"    \n",
            " [16,] \"M_POV150\"    \n",
            " [17,] \"E_UNEMP\"     \n",
            " [18,] \"M_UNEMP\"     \n",
            " [19,] \"E_HBURD\"     \n",
            " [20,] \"M_HBURD\"     \n",
            " [21,] \"E_NOHSDP\"    \n",
            " [22,] \"M_NOHSDP\"    \n",
            " [23,] \"E_UNINSUR\"   \n",
            " [24,] \"M_UNINSUR\"   \n",
            " [25,] \"E_AGE65\"     \n",
            " [26,] \"M_AGE65\"     \n",
            " [27,] \"E_AGE17\"     \n",
            " [28,] \"M_AGE17\"     \n",
            " [29,] \"E_DISABL\"    \n",
            " [30,] \"M_DISABL\"    \n",
            " [31,] \"E_SNGPNT\"    \n",
            " [32,] \"M_SNGPNT\"    \n",
            " [33,] \"E_LIMENG\"    \n",
            " [34,] \"M_LIMENG\"    \n",
            " [35,] \"E_MINRTY\"    \n",
            " [36,] \"M_MINRTY\"    \n",
            " [37,] \"E_MUNIT\"     \n",
            " [38,] \"M_MUNIT\"     \n",
            " [39,] \"E_MOBILE\"    \n",
            " [40,] \"M_MOBILE\"    \n",
            " [41,] \"E_CROWD\"     \n",
            " [42,] \"M_CROWD\"     \n",
            " [43,] \"E_NOVEH\"     \n",
            " [44,] \"M_NOVEH\"     \n",
            " [45,] \"E_GROUPQ\"    \n",
            " [46,] \"M_GROUPQ\"    \n",
            " [47,] \"EP_POV150\"   \n",
            " [48,] \"MP_POV150\"   \n",
            " [49,] \"EP_UNEMP\"    \n",
            " [50,] \"MP_UNEMP\"    \n",
            " [51,] \"EP_HBURD\"    \n",
            " [52,] \"MP_HBURD\"    \n",
            " [53,] \"EP_NOHSDP\"   \n",
            " [54,] \"MP_NOHSDP\"   \n",
            " [55,] \"EP_UNINSUR\"  \n",
            " [56,] \"MP_UNINSUR\"  \n",
            " [57,] \"EP_AGE65\"    \n",
            " [58,] \"MP_AGE65\"    \n",
            " [59,] \"EP_AGE17\"    \n",
            " [60,] \"MP_AGE17\"    \n",
            " [61,] \"EP_DISABL\"   \n",
            " [62,] \"MP_DISABL\"   \n",
            " [63,] \"EP_SNGPNT\"   \n",
            " [64,] \"MP_SNGPNT\"   \n",
            " [65,] \"EP_LIMENG\"   \n",
            " [66,] \"MP_LIMENG\"   \n",
            " [67,] \"EP_MINRTY\"   \n",
            " [68,] \"MP_MINRTY\"   \n",
            " [69,] \"EP_MUNIT\"    \n",
            " [70,] \"MP_MUNIT\"    \n",
            " [71,] \"EP_MOBILE\"   \n",
            " [72,] \"MP_MOBILE\"   \n",
            " [73,] \"EP_CROWD\"    \n",
            " [74,] \"MP_CROWD\"    \n",
            " [75,] \"EP_NOVEH\"    \n",
            " [76,] \"MP_NOVEH\"    \n",
            " [77,] \"EP_GROUPQ\"   \n",
            " [78,] \"MP_GROUPQ\"   \n",
            " [79,] \"EPL_POV150\"  \n",
            " [80,] \"EPL_UNEMP\"   \n",
            " [81,] \"EPL_HBURD\"   \n",
            " [82,] \"EPL_NOHSDP\"  \n",
            " [83,] \"EPL_UNINSUR\" \n",
            " [84,] \"SPL_THEME1\"  \n",
            " [85,] \"RPL_THEME1\"  \n",
            " [86,] \"EPL_AGE65\"   \n",
            " [87,] \"EPL_AGE17\"   \n",
            " [88,] \"EPL_DISABL\"  \n",
            " [89,] \"EPL_SNGPNT\"  \n",
            " [90,] \"EPL_LIMENG\"  \n",
            " [91,] \"SPL_THEME2\"  \n",
            " [92,] \"RPL_THEME2\"  \n",
            " [93,] \"EPL_MINRTY\"  \n",
            " [94,] \"SPL_THEME3\"  \n",
            " [95,] \"RPL_THEME3\"  \n",
            " [96,] \"EPL_MUNIT\"   \n",
            " [97,] \"EPL_MOBILE\"  \n",
            " [98,] \"EPL_CROWD\"   \n",
            " [99,] \"EPL_NOVEH\"   \n",
            "[100,] \"EPL_GROUPQ\"  \n",
            "[101,] \"SPL_THEME4\"  \n",
            "[102,] \"RPL_THEME4\"  \n",
            "[103,] \"SPL_THEMES\"  \n",
            "[104,] \"RPL_THEMES\"  \n",
            "[105,] \"F_POV150\"    \n",
            "[106,] \"F_UNEMP\"     \n",
            "[107,] \"F_HBURD\"     \n",
            "[108,] \"F_NOHSDP\"    \n",
            "[109,] \"F_UNINSUR\"   \n",
            "[110,] \"F_THEME1\"    \n",
            "[111,] \"F_AGE65\"     \n",
            "[112,] \"F_AGE17\"     \n",
            "[113,] \"F_DISABL\"    \n",
            "[114,] \"F_SNGPNT\"    \n",
            "[115,] \"F_LIMENG\"    \n",
            "[116,] \"F_THEME2\"    \n",
            "[117,] \"F_MINRTY\"    \n",
            "[118,] \"F_THEME3\"    \n",
            "[119,] \"F_MUNIT\"     \n",
            "[120,] \"F_MOBILE\"    \n",
            "[121,] \"F_CROWD\"     \n",
            "[122,] \"F_NOVEH\"     \n",
            "[123,] \"F_GROUPQ\"    \n",
            "[124,] \"F_THEME4\"    \n",
            "[125,] \"F_TOTAL\"     \n",
            "[126,] \"E_DAYPOP\"    \n",
            "[127,] \"E_NOINT\"     \n",
            "[128,] \"M_NOINT\"     \n",
            "[129,] \"E_AFAM\"      \n",
            "[130,] \"M_AFAM\"      \n",
            "[131,] \"E_HISP\"      \n",
            "[132,] \"M_HISP\"      \n",
            "[133,] \"E_ASIAN\"     \n",
            "[134,] \"M_ASIAN\"     \n",
            "[135,] \"E_AIAN\"      \n",
            "[136,] \"M_AIAN\"      \n",
            "[137,] \"E_NHPI\"      \n",
            "[138,] \"M_NHPI\"      \n",
            "[139,] \"E_TWOMORE\"   \n",
            "[140,] \"M_TWOMORE\"   \n",
            "[141,] \"E_OTHERRACE\" \n",
            "[142,] \"M_OTHERRACE\" \n",
            "[143,] \"EP_NOINT\"    \n",
            "[144,] \"MP_NOINT\"    \n",
            "[145,] \"EP_AFAM\"     \n",
            "[146,] \"MP_AFAM\"     \n",
            "[147,] \"EP_HISP\"     \n",
            "[148,] \"MP_HISP\"     \n",
            "[149,] \"EP_ASIAN\"    \n",
            "[150,] \"MP_ASIAN\"    \n",
            "[151,] \"EP_AIAN\"     \n",
            "[152,] \"MP_AIAN\"     \n",
            "[153,] \"EP_NHPI\"     \n",
            "[154,] \"MP_NHPI\"     \n",
            "[155,] \"EP_TWOMORE\"  \n",
            "[156,] \"MP_TWOMORE\"  \n",
            "[157,] \"EP_OTHERRACE\"\n",
            "[158,] \"MP_OTHERRACE\"\n"
          ]
        }
      ]
    },
    {
      "cell_type": "code",
      "source": [
        "%%R\n",
        "\n",
        "# Data preprocessing\n",
        "\n",
        "predata <- raw.df[complete.cases(raw.df), ]"
      ],
      "metadata": {
        "id": "jAJ6WonAmroP"
      },
      "execution_count": 46,
      "outputs": []
    },
    {
      "cell_type": "code",
      "source": [
        "%%R\n",
        "\n",
        "sql_string <- \"\n",
        "  SELECT count(1)\n",
        "  FROM predata\n",
        "\"\n",
        "\n",
        "print(sqldf(sql_string))"
      ],
      "metadata": {
        "colab": {
          "base_uri": "https://localhost:8080/"
        },
        "id": "dLAmKmPGnGdU",
        "outputId": "515a4457-6e87-4a7c-ba7e-70a59a5687f4"
      },
      "execution_count": 48,
      "outputs": [
        {
          "output_type": "stream",
          "name": "stdout",
          "text": [
            "  count(1)\n",
            "1     1701\n"
          ]
        }
      ]
    }
  ]
}