{
  "nbformat": 4,
  "nbformat_minor": 0,
  "metadata": {
    "colab": {
      "provenance": [],
      "mount_file_id": "1v3ixPaZz7Xew0q_MGVydG2MtXbzHihuQ",
      "authorship_tag": "ABX9TyNgZZcausom0Oj7OLirg4Qs",
      "include_colab_link": true
    },
    "kernelspec": {
      "name": "python3",
      "display_name": "Python 3"
    },
    "language_info": {
      "name": "python"
    }
  },
  "cells": [
    {
      "cell_type": "markdown",
      "metadata": {
        "id": "view-in-github",
        "colab_type": "text"
      },
      "source": [
        "<a href=\"https://colab.research.google.com/github/JamionW/Advanced-Analysis-of-Algorithms/blob/master/Master_Code_Notebook.ipynb\" target=\"_parent\"><img src=\"https://colab.research.google.com/assets/colab-badge.svg\" alt=\"Open In Colab\"/></a>"
      ]
    },
    {
      "cell_type": "code",
      "source": [
        "## This is the master notebook."
      ],
      "metadata": {
        "id": "J8JM9NHrENit"
      },
      "execution_count": 1,
      "outputs": []
    },
    {
      "cell_type": "code",
      "source": [
        "!pip install osmnx # install the osmnx module\n"
      ],
      "metadata": {
        "colab": {
          "base_uri": "https://localhost:8080/"
        },
        "collapsed": true,
        "id": "OPd3P4QfmuCg",
        "outputId": "cbfb91de-a603-4ff7-af0d-7507829af427"
      },
      "execution_count": 2,
      "outputs": [
        {
          "output_type": "stream",
          "name": "stdout",
          "text": [
            "Requirement already satisfied: osmnx in /usr/local/lib/python3.10/dist-packages (1.9.4)\n",
            "Requirement already satisfied: geopandas<0.15,>=0.12 in /usr/local/lib/python3.10/dist-packages (from osmnx) (0.14.4)\n",
            "Requirement already satisfied: networkx<3.4,>=2.5 in /usr/local/lib/python3.10/dist-packages (from osmnx) (3.3)\n",
            "Requirement already satisfied: numpy<1.27,>=1.20 in /usr/local/lib/python3.10/dist-packages (from osmnx) (1.26.4)\n",
            "Requirement already satisfied: pandas<2.3,>=1.1 in /usr/local/lib/python3.10/dist-packages (from osmnx) (2.1.4)\n",
            "Requirement already satisfied: requests<2.33,>=2.27 in /usr/local/lib/python3.10/dist-packages (from osmnx) (2.32.3)\n",
            "Requirement already satisfied: shapely<2.1,>=2.0 in /usr/local/lib/python3.10/dist-packages (from osmnx) (2.0.5)\n",
            "Requirement already satisfied: fiona>=1.8.21 in /usr/local/lib/python3.10/dist-packages (from geopandas<0.15,>=0.12->osmnx) (1.9.6)\n",
            "Requirement already satisfied: packaging in /usr/local/lib/python3.10/dist-packages (from geopandas<0.15,>=0.12->osmnx) (24.1)\n",
            "Requirement already satisfied: pyproj>=3.3.0 in /usr/local/lib/python3.10/dist-packages (from geopandas<0.15,>=0.12->osmnx) (3.6.1)\n",
            "Requirement already satisfied: python-dateutil>=2.8.2 in /usr/local/lib/python3.10/dist-packages (from pandas<2.3,>=1.1->osmnx) (2.8.2)\n",
            "Requirement already satisfied: pytz>=2020.1 in /usr/local/lib/python3.10/dist-packages (from pandas<2.3,>=1.1->osmnx) (2024.1)\n",
            "Requirement already satisfied: tzdata>=2022.1 in /usr/local/lib/python3.10/dist-packages (from pandas<2.3,>=1.1->osmnx) (2024.1)\n",
            "Requirement already satisfied: charset-normalizer<4,>=2 in /usr/local/lib/python3.10/dist-packages (from requests<2.33,>=2.27->osmnx) (3.3.2)\n",
            "Requirement already satisfied: idna<4,>=2.5 in /usr/local/lib/python3.10/dist-packages (from requests<2.33,>=2.27->osmnx) (3.7)\n",
            "Requirement already satisfied: urllib3<3,>=1.21.1 in /usr/local/lib/python3.10/dist-packages (from requests<2.33,>=2.27->osmnx) (2.0.7)\n",
            "Requirement already satisfied: certifi>=2017.4.17 in /usr/local/lib/python3.10/dist-packages (from requests<2.33,>=2.27->osmnx) (2024.7.4)\n",
            "Requirement already satisfied: attrs>=19.2.0 in /usr/local/lib/python3.10/dist-packages (from fiona>=1.8.21->geopandas<0.15,>=0.12->osmnx) (24.2.0)\n",
            "Requirement already satisfied: click~=8.0 in /usr/local/lib/python3.10/dist-packages (from fiona>=1.8.21->geopandas<0.15,>=0.12->osmnx) (8.1.7)\n",
            "Requirement already satisfied: click-plugins>=1.0 in /usr/local/lib/python3.10/dist-packages (from fiona>=1.8.21->geopandas<0.15,>=0.12->osmnx) (1.1.1)\n",
            "Requirement already satisfied: cligj>=0.5 in /usr/local/lib/python3.10/dist-packages (from fiona>=1.8.21->geopandas<0.15,>=0.12->osmnx) (0.7.2)\n",
            "Requirement already satisfied: six in /usr/local/lib/python3.10/dist-packages (from fiona>=1.8.21->geopandas<0.15,>=0.12->osmnx) (1.16.0)\n"
          ]
        }
      ]
    },
    {
      "cell_type": "code",
      "source": [
        "# IMPORTS\n",
        "\n",
        "import pandas as pd\n",
        "import geopandas as gpd\n",
        "import fiona\n",
        "import numpy as np\n",
        "import osmnx as ox\n",
        "import networkx as nx\n",
        "from shapely.ops import nearest_points, linemerge, transform\n",
        "from shapely.geometry import Point, LineString\n",
        "from geopandas.tools import sjoin_nearest\n",
        "from scipy.spatial import cKDTree\n",
        "from collections import defaultdict\n",
        "from pyproj import CRS, Transformer\n",
        "from functools import partial"
      ],
      "metadata": {
        "id": "JWtJRCd_XtzG"
      },
      "execution_count": 3,
      "outputs": []
    },
    {
      "cell_type": "code",
      "source": [
        "def find_nearest_linestring_efficient(gdf_points, gdf_lines, max_distance):\n",
        "    \"\"\"\n",
        "    Find the nearest linestring for each point, up to a maximum distance.\n",
        "    Uses spatial indexing for efficiency.\n",
        "\n",
        "    :param gdf_points: GeoDataFrame with point geometries (in UTM)\n",
        "    :param gdf_lines: GeoDataFrame with linestring geometries (in UTM)\n",
        "    :param max_distance: Maximum distance to consider (in meters)\n",
        "    :return: GeoDataFrame with points matched to nearest linestrings\n",
        "    \"\"\"\n",
        "    # Use sjoin_nearest to find the nearest linestring for each point\n",
        "    joined = sjoin_nearest(gdf_points, gdf_lines, max_distance=max_distance, how='left')\n",
        "\n",
        "    # Calculate the actual distances\n",
        "    joined['distance'] = joined.apply(lambda row: row['geometry'].distance(gdf_lines.loc[row['index_right'], 'geometry'])\n",
        "                                      if pd.notnull(row['index_right']) else None, axis=1)\n",
        "\n",
        "    # Remove matches beyond max_distance (should be unnecessary due to max_distance in sjoin_nearest, but just in case)\n",
        "    joined = joined[joined['distance'] <= max_distance]\n",
        "\n",
        "    # Drop unnecessary columns\n",
        "    result = joined.drop(columns=['index_right', 'distance'])\n",
        "\n",
        "    print(f\"Matched {result.notna().any(axis=1).sum()} out of {len(result)} points\")\n",
        "\n",
        "    return result\n"
      ],
      "metadata": {
        "id": "LTt0bcyHfgGZ"
      },
      "execution_count": 4,
      "outputs": []
    },
    {
      "cell_type": "markdown",
      "source": [
        "# Dataset imports"
      ],
      "metadata": {
        "id": "yIq_DbPjYEUl"
      }
    },
    {
      "cell_type": "code",
      "source": [
        "# ADDRESSES\n",
        "\n",
        "# Read in addresses\n",
        "# this takes about 20 minutes for the State of Tennessee\n",
        "# less than a minute for Chattanooga\n",
        "\n",
        "# Read the GeoJSON file into a GeoDataFrame\n",
        "#address_df = gpd.read_file('/content/drive/MyDrive/Colab Notebooks/data/tennessee.geojson')\n",
        "\n",
        "# Chattanooga, for testing\n",
        "address_df = gpd.read_file('/content/drive/MyDrive/Colab Notebooks/data/chattanooga.geojson')\n"
      ],
      "metadata": {
        "id": "SuqI7At-EL4A"
      },
      "execution_count": 5,
      "outputs": []
    },
    {
      "cell_type": "code",
      "source": [
        "# SVI\n",
        "\n",
        "# Path to .gdb file\n",
        "gdb_file = \"/content/drive/MyDrive/Colab Notebooks/data/SVI2022_TENNESSEE_tract.gdb\"\n",
        "\n",
        "# List all the layers in the .gdb file\n",
        "layers = fiona.listlayers(gdb_file)\n",
        "print(\"Layers in the geodatabase:\", layers)\n",
        "\n",
        "# Read the desired layer\n",
        "svi_df = gpd.read_file(gdb_file, layer='SVI2022_TENNESSEE_tract')\n"
      ],
      "metadata": {
        "colab": {
          "base_uri": "https://localhost:8080/"
        },
        "id": "oBAGbLaBLuLQ",
        "outputId": "a70ff923-07ef-4d3a-d3c7-d76b8d0766b4"
      },
      "execution_count": 6,
      "outputs": [
        {
          "output_type": "stream",
          "name": "stdout",
          "text": [
            "Layers in the geodatabase: ['SVI2022_TENNESSEE_tract']\n"
          ]
        }
      ]
    },
    {
      "cell_type": "code",
      "source": [
        "# ROADS\n",
        "\n",
        "# Import shapefiles\n",
        "# https://www.census.gov/cgi-bin/geo/shapefiles/index.php\n",
        "\n",
        "# documentation here: https://www2.census.gov/geo/pdfs/maps-data/data/tiger/tgrshp2023/TGRSHP2023_TechDoc.pdf\n",
        "\n",
        "# Open the shapefile as a Fiona collection\n",
        "with fiona.open('/content/drive/MyDrive/Colab Notebooks/data/tl_2023_47065_roads.shp') as collection:\n",
        "    # Create a GeoDataFrame from the collection\n",
        "    roads_df = gpd.GeoDataFrame.from_features(collection)\n"
      ],
      "metadata": {
        "id": "4m23qzVl8xeU"
      },
      "execution_count": 7,
      "outputs": []
    },
    {
      "cell_type": "code",
      "source": [
        "# AMENITIES\n",
        "\n",
        "city = \"Chattanooga, Tennessee, USA\"\n",
        "tags = {'amenity': ['school', 'hospital', 'library'],\n",
        "        'shop': 'supermarket'}\n",
        "\n",
        "amenities = ox.features_from_place(city, tags=tags)"
      ],
      "metadata": {
        "id": "dx9LyIdJnCkO"
      },
      "execution_count": 8,
      "outputs": []
    },
    {
      "cell_type": "markdown",
      "source": [
        "### Define Coordinate Reference Systems"
      ],
      "metadata": {
        "id": "Se46c8etpXbt"
      }
    },
    {
      "cell_type": "code",
      "source": [
        "# Check the original CRS\n",
        "print(\"Original CRS:\", roads_df.crs)\n",
        "\n",
        "# If the CRS is None, set it to WGS84 (assuming that's what it should be)\n",
        "if roads_df.crs is None:\n",
        "    roads_df.set_crs(epsg=4326, inplace=True)\n",
        "\n",
        "# Define the target CRS (UTM zone 18N)\n",
        "target_crs = CRS(\"EPSG:32618\")\n",
        "\n",
        "# Perform the transformation\n",
        "roads_df_transformed = roads_df.to_crs(target_crs)\n",
        "\n",
        "# Check the new CRS\n",
        "print(\"New CRS:\", roads_df_transformed.crs)\n",
        "\n",
        "# Print a sample of the transformed geometries\n",
        "print(\"Sample of transformed geometries:\")\n",
        "print(roads_df_transformed['geometry'].head())"
      ],
      "metadata": {
        "colab": {
          "base_uri": "https://localhost:8080/"
        },
        "id": "ILa_VMzhskhY",
        "outputId": "18bb0801-cfc8-4ba4-9f45-874a6f65bcd2"
      },
      "execution_count": 9,
      "outputs": [
        {
          "output_type": "stream",
          "name": "stderr",
          "text": [
            "/usr/local/lib/python3.10/dist-packages/ipykernel/ipkernel.py:283: DeprecationWarning: `should_run_async` will not call `transform_cell` automatically in the future. Please pass the result to `transformed_cell` argument and any exception that happen during thetransform in `preprocessing_exc_tuple` in IPython 7.17 and above.\n",
            "  and should_run_async(code)\n"
          ]
        },
        {
          "output_type": "stream",
          "name": "stdout",
          "text": [
            "Original CRS: None\n",
            "New CRS: EPSG:32618\n",
            "Sample of transformed geometries:\n",
            "0    LINESTRING (-438047.238 3925110.410, -438015.6...\n",
            "1    LINESTRING (-438047.238 3925110.410, -437997.8...\n",
            "2    LINESTRING (-438379.567 3925013.438, -438362.5...\n",
            "3    LINESTRING (-434083.556 3936175.511, -434066.9...\n",
            "4    LINESTRING (-436868.331 3941879.564, -436868.2...\n",
            "Name: geometry, dtype: geometry\n"
          ]
        }
      ]
    },
    {
      "cell_type": "code",
      "source": [
        "print(\"Bounding box of the data:\")\n",
        "print(roads_df.total_bounds)"
      ],
      "metadata": {
        "colab": {
          "base_uri": "https://localhost:8080/"
        },
        "id": "Qy3pf9hqsvgE",
        "outputId": "34220dc4-1b0f-4aa0-9c9c-4ca4f8e2c71c"
      },
      "execution_count": 10,
      "outputs": [
        {
          "output_type": "stream",
          "name": "stdout",
          "text": [
            "Bounding box of the data:\n",
            "[-85.469528  34.982924 -84.94233   35.459232]\n"
          ]
        }
      ]
    },
    {
      "cell_type": "code",
      "source": [
        "# Define the coordinate reference systems\n",
        "latlong_crs = CRS(\"EPSG:4326\")  # WGS84 lat/long\n",
        "utm_crs = CRS(\"EPSG:32618\")  # UTM zone 18N\n",
        "\n",
        "address_df = address_df.to_crs(utm_crs)\n",
        "svi_df = svi_df.to_crs(utm_crs)\n",
        "amenities = amenities.to_crs(utm_crs)\n",
        "\n",
        "print(address_df.crs)\n",
        "print(svi_df.crs)\n",
        "print(roads_df_transformed.crs)\n",
        "print(amenities.crs)"
      ],
      "metadata": {
        "colab": {
          "base_uri": "https://localhost:8080/"
        },
        "id": "CQvjcHAcpDHC",
        "outputId": "f2ba609d-f920-481a-a480-4b19467d4fbb"
      },
      "execution_count": 11,
      "outputs": [
        {
          "output_type": "stream",
          "name": "stderr",
          "text": [
            "/usr/local/lib/python3.10/dist-packages/ipykernel/ipkernel.py:283: DeprecationWarning: `should_run_async` will not call `transform_cell` automatically in the future. Please pass the result to `transformed_cell` argument and any exception that happen during thetransform in `preprocessing_exc_tuple` in IPython 7.17 and above.\n",
            "  and should_run_async(code)\n"
          ]
        },
        {
          "output_type": "stream",
          "name": "stdout",
          "text": [
            "EPSG:32618\n",
            "EPSG:32618\n",
            "EPSG:32618\n",
            "EPSG:32618\n"
          ]
        }
      ]
    },
    {
      "cell_type": "markdown",
      "source": [
        "### Data Engineering: SVI Filtering"
      ],
      "metadata": {
        "id": "qg-8a-HPZKa2"
      }
    },
    {
      "cell_type": "code",
      "source": [
        "# Remove all columns from the svi_df dataframe except \"geometry\",\"STATE\",\"ST_ABBR\",\"COUNTY\",\"FIPS\",\"LOCATION\",\"AREA_SQMI\", and \"RPL_THEME4\".\n",
        "\n",
        "svi_df = svi_df[[\"geometry\",\"STATE\",\"ST_ABBR\",\"COUNTY\",\"FIPS\",\"LOCATION\",\"AREA_SQMI\", \"RPL_THEME4\"]]\n"
      ],
      "metadata": {
        "id": "Cx56hr8iiiZJ"
      },
      "execution_count": 12,
      "outputs": []
    },
    {
      "cell_type": "markdown",
      "source": [
        "### Data Engineering: Amenities cleanup"
      ],
      "metadata": {
        "id": "1vPIBzVBa93z"
      }
    },
    {
      "cell_type": "code",
      "source": [
        "# Remove rows where the 'amenity' column is null\n",
        "joined_amenities_df = amenities.dropna(subset=['amenity'])\n",
        "amenities = amenities.dropna(subset=['amenity'])\n",
        "print(f\"Number of amenities after removing null 'amenity' values: {len(amenities)}\")"
      ],
      "metadata": {
        "colab": {
          "base_uri": "https://localhost:8080/"
        },
        "id": "DiP1vcOJQwjv",
        "outputId": "81839f21-5cf8-4a15-c9e6-0f679a98ef5d"
      },
      "execution_count": 13,
      "outputs": [
        {
          "output_type": "stream",
          "name": "stdout",
          "text": [
            "Number of amenities after removing null 'amenity' values: 101\n"
          ]
        },
        {
          "output_type": "stream",
          "name": "stderr",
          "text": [
            "/usr/local/lib/python3.10/dist-packages/ipykernel/ipkernel.py:283: DeprecationWarning: `should_run_async` will not call `transform_cell` automatically in the future. Please pass the result to `transformed_cell` argument and any exception that happen during thetransform in `preprocessing_exc_tuple` in IPython 7.17 and above.\n",
            "  and should_run_async(code)\n"
          ]
        }
      ]
    },
    {
      "cell_type": "code",
      "source": [
        "# Distribution of valid values in the amenity column of joined_amenities_df\n",
        "\n",
        "print(amenities['amenity'].value_counts())\n"
      ],
      "metadata": {
        "colab": {
          "base_uri": "https://localhost:8080/"
        },
        "id": "4bRlpMi7UQtA",
        "outputId": "3857723f-01b2-4709-9b23-92196e7c3a0a"
      },
      "execution_count": 14,
      "outputs": [
        {
          "output_type": "stream",
          "name": "stdout",
          "text": [
            "amenity\n",
            "school        85\n",
            "hospital      10\n",
            "library        5\n",
            "restaurant     1\n",
            "Name: count, dtype: int64\n"
          ]
        },
        {
          "output_type": "stream",
          "name": "stderr",
          "text": [
            "/usr/local/lib/python3.10/dist-packages/ipykernel/ipkernel.py:283: DeprecationWarning: `should_run_async` will not call `transform_cell` automatically in the future. Please pass the result to `transformed_cell` argument and any exception that happen during thetransform in `preprocessing_exc_tuple` in IPython 7.17 and above.\n",
            "  and should_run_async(code)\n"
          ]
        }
      ]
    },
    {
      "cell_type": "code",
      "source": [
        "# Filter amenities\n",
        "amenity_types = ['school', 'library', 'hospital']\n",
        "filtered_amenities_df = amenities[amenities['amenity'].isin(amenity_types)]\n",
        "\n",
        "print(f\"Number of filtered amenities: {len(filtered_amenities_df)}\")\n"
      ],
      "metadata": {
        "colab": {
          "base_uri": "https://localhost:8080/"
        },
        "id": "I6D4lN9zQ4XL",
        "outputId": "d8516d4a-c177-46d3-f37b-9c0bfbeee28d"
      },
      "execution_count": 15,
      "outputs": [
        {
          "output_type": "stream",
          "name": "stdout",
          "text": [
            "Number of filtered amenities: 100\n"
          ]
        },
        {
          "output_type": "stream",
          "name": "stderr",
          "text": [
            "/usr/local/lib/python3.10/dist-packages/ipykernel/ipkernel.py:283: DeprecationWarning: `should_run_async` will not call `transform_cell` automatically in the future. Please pass the result to `transformed_cell` argument and any exception that happen during thetransform in `preprocessing_exc_tuple` in IPython 7.17 and above.\n",
            "  and should_run_async(code)\n"
          ]
        }
      ]
    },
    {
      "cell_type": "markdown",
      "source": [
        "### Feature Engineering: Address Density"
      ],
      "metadata": {
        "id": "QEMFlyyHZWjI"
      }
    },
    {
      "cell_type": "code",
      "source": [
        "### This is to engineer the feature for address density\n",
        "\n",
        "# Extract coordinates from the geometry column\n",
        "coords = np.array(list(address_df.geometry.apply(lambda x: (x.x, x.y))))\n",
        "\n",
        "# Build the KD-tree\n",
        "tree = cKDTree(coords)\n",
        "\n",
        "# Set the buffer distance (e.g., 1000 meters)\n",
        "buffer_distance = 1000\n",
        "\n",
        "# Query the tree for all points within the buffer distance\n",
        "indices = tree.query_ball_point(coords, r=buffer_distance)\n",
        "\n",
        "# Count the number of neighbors, excluding the point itself\n",
        "address_df['address_density'] = [len(idx) - 1 for idx in indices]\n",
        "\n",
        "# Optionally, normalize the density\n",
        "max_density = address_df['address_density'].max()\n",
        "address_df['normalized_density'] = address_df['address_density'] / max_density\n",
        "\n",
        "# Print some statistics\n",
        "print(address_df['address_density'].describe())"
      ],
      "metadata": {
        "colab": {
          "base_uri": "https://localhost:8080/"
        },
        "id": "uKaeCUjTu0qa",
        "outputId": "f704704d-f192-4270-83c0-3813e8996614"
      },
      "execution_count": 16,
      "outputs": [
        {
          "output_type": "stream",
          "name": "stderr",
          "text": [
            "/usr/local/lib/python3.10/dist-packages/ipykernel/ipkernel.py:283: DeprecationWarning: `should_run_async` will not call `transform_cell` automatically in the future. Please pass the result to `transformed_cell` argument and any exception that happen during thetransform in `preprocessing_exc_tuple` in IPython 7.17 and above.\n",
            "  and should_run_async(code)\n"
          ]
        },
        {
          "output_type": "stream",
          "name": "stdout",
          "text": [
            "count    102761.000000\n",
            "mean       1235.861251\n",
            "std         643.406327\n",
            "min           0.000000\n",
            "25%         729.000000\n",
            "50%        1196.000000\n",
            "75%        1663.000000\n",
            "max        3676.000000\n",
            "Name: address_density, dtype: float64\n"
          ]
        }
      ]
    },
    {
      "cell_type": "code",
      "source": [
        "#Join on geometry attributes\n",
        "\n",
        "joined_svi_address_df = gpd.overlay(address_df, svi_df, how='intersection')"
      ],
      "metadata": {
        "id": "SykvOYFjL_nb",
        "collapsed": true,
        "colab": {
          "base_uri": "https://localhost:8080/"
        },
        "outputId": "26058939-a664-4073-91ee-d783af20409f"
      },
      "execution_count": 17,
      "outputs": [
        {
          "output_type": "stream",
          "name": "stderr",
          "text": [
            "/usr/local/lib/python3.10/dist-packages/ipykernel/ipkernel.py:283: DeprecationWarning: `should_run_async` will not call `transform_cell` automatically in the future. Please pass the result to `transformed_cell` argument and any exception that happen during thetransform in `preprocessing_exc_tuple` in IPython 7.17 and above.\n",
            "  and should_run_async(code)\n"
          ]
        }
      ]
    },
    {
      "cell_type": "markdown",
      "source": [
        "## Place Addresses and Amenities on a graph"
      ],
      "metadata": {
        "id": "vkAHew74ag4t"
      }
    },
    {
      "cell_type": "code",
      "source": [
        "# Function to create a graph from a GeoDataFrame of roads\n",
        "def create_graph_from_roads(roads_gdf):\n",
        "    G = nx.Graph()\n",
        "    for idx, row in roads_gdf.iterrows():\n",
        "        if row.geometry.geom_type == 'LineString':\n",
        "            start = row.geometry.coords[0]\n",
        "            end = row.geometry.coords[-1]\n",
        "            G.add_edge(start, end, geometry=row.geometry, length=row.geometry.length)\n",
        "        elif row.geometry.geom_type == 'MultiLineString':\n",
        "            merged = linemerge(row.geometry)\n",
        "            if merged.geom_type == 'LineString':\n",
        "                start = merged.coords[0]\n",
        "                end = merged.coords[-1]\n",
        "                G.add_edge(start, end, geometry=merged, length=merged.length)\n",
        "            else:\n",
        "                for line in merged.geoms:\n",
        "                    start = line.coords[0]\n",
        "                    end = line.coords[-1]\n",
        "                    G.add_edge(start, end, geometry=line, length=line.length)\n",
        "    return G\n",
        "\n",
        "# Create the graph\n",
        "G = create_graph_from_roads(roads_df_transformed)"
      ],
      "metadata": {
        "colab": {
          "base_uri": "https://localhost:8080/"
        },
        "id": "JuINL-cu6MEN",
        "outputId": "c64550ab-5bb1-40b2-d059-7fd3340c3e0d"
      },
      "execution_count": 22,
      "outputs": [
        {
          "output_type": "stream",
          "name": "stderr",
          "text": [
            "/usr/local/lib/python3.10/dist-packages/ipykernel/ipkernel.py:283: DeprecationWarning: `should_run_async` will not call `transform_cell` automatically in the future. Please pass the result to `transformed_cell` argument and any exception that happen during thetransform in `preprocessing_exc_tuple` in IPython 7.17 and above.\n",
            "  and should_run_async(code)\n"
          ]
        }
      ]
    },
    {
      "cell_type": "code",
      "source": [
        "def add_points_to_graph(G, gdf_points):\n",
        "    for idx, row in gdf_points.iterrows():\n",
        "        try:\n",
        "            #print(f\"Processing point {idx}\")\n",
        "            point = row.geometry\n",
        "            #print(f\"Point type: {type(point)}\")\n",
        "            #print(f\"Point value: {point}\")\n",
        "\n",
        "            if not isinstance(point, Point):\n",
        "                print(f\"Warning: geometry for point {idx} is not a Point object\")\n",
        "                continue\n",
        "\n",
        "            point_coords = (point.x, point.y)\n",
        "            #print(f\"Point coordinates: {point_coords}\")\n",
        "\n",
        "            # Check if the graph has any nodes\n",
        "            if len(G.nodes) == 0:\n",
        "                print(\"Warning: Graph has no nodes\")\n",
        "                continue\n",
        "\n",
        "            # Convert nodes to a list of coordinate tuples\n",
        "            nodes = [n for n in G.nodes if isinstance(n, tuple) and len(n) == 2]\n",
        "\n",
        "            if not nodes:\n",
        "                print(\"Warning: No valid nodes found in the graph\")\n",
        "                continue\n",
        "\n",
        "            # Use numpy for efficient distance calculation\n",
        "            nodes_array = np.array(nodes)\n",
        "            point_array = np.array(point_coords)\n",
        "            distances = np.sqrt(np.sum((nodes_array - point_array)**2, axis=1))\n",
        "\n",
        "            nearest_index = np.argmin(distances)\n",
        "            nearest_node = tuple(nodes[nearest_index])\n",
        "\n",
        "            #print(f\"Nearest node: {nearest_node}\")\n",
        "\n",
        "            point_node = f\"point_{idx}\"\n",
        "            G.add_node(point_node, geometry=point, point_data=row.to_dict())\n",
        "\n",
        "            distance = distances[nearest_index]\n",
        "            G.add_edge(point_node, nearest_node, length=distance)\n",
        "\n",
        "        except Exception as e:\n",
        "            print(f\"Error processing point {idx}: {str(e)}\")\n",
        "            print(f\"Row data: {row}\")\n",
        "            continue\n",
        "\n",
        "    return G\n",
        "\n",
        "# Before calling the function, let's check the graph\n",
        "print(f\"Number of nodes in graph before adding points: {len(G.nodes)}\")\n",
        "print(f\"Number of edges in graph before adding points: {len(G.edges)}\")\n",
        "print(f\"Sample of node types in graph: {[type(n) for n in list(G.nodes)[:5]]}\")\n",
        "\n",
        "# Now call the function\n",
        "G = add_points_to_graph(G, joined_svi_address_df)\n",
        "\n",
        "# After calling the function, check the graph again\n",
        "print(f\"Number of nodes in graph after adding points: {len(G.nodes)}\")\n",
        "print(f\"Number of edges in graph after adding points: {len(G.edges)}\")"
      ],
      "metadata": {
        "colab": {
          "base_uri": "https://localhost:8080/"
        },
        "id": "o7l5NFiNexJi",
        "outputId": "4a25716c-0d5b-429c-ca0d-9350a8299c00"
      },
      "execution_count": null,
      "outputs": [
        {
          "metadata": {
            "tags": null
          },
          "name": "stdout",
          "output_type": "stream",
          "text": [
            "Number of nodes in graph before adding points: 21154\n",
            "Number of edges in graph before adding points: 13225\n",
            "Sample of node types in graph: [<class 'tuple'>, <class 'tuple'>, <class 'tuple'>, <class 'tuple'>, <class 'tuple'>]\n"
          ]
        }
      ]
    },
    {
      "cell_type": "code",
      "source": [
        "# This calls the function from the beginning which joins a shapefile dataset to a linestring set\n",
        "joined_svi_df = find_nearest_linestring_efficient(joined_svi_address_df, roads_df_transformed, 200)\n"
      ],
      "metadata": {
        "colab": {
          "base_uri": "https://localhost:8080/"
        },
        "id": "hOi0E8bysKiH",
        "outputId": "3369195e-bc4a-4add-a8d7-5082584a1e24"
      },
      "execution_count": 18,
      "outputs": [
        {
          "output_type": "stream",
          "name": "stdout",
          "text": [
            "Matched 0 out of 0 points\n"
          ]
        },
        {
          "output_type": "stream",
          "name": "stderr",
          "text": [
            "<ipython-input-3-0ee733655df3>:24: FutureWarning: <class 'geopandas.array.GeometryArray'>._reduce will require a `keepdims` parameter in the future\n",
            "  print(f\"Matched {result.notna().any(axis=1).sum()} out of {len(result)} points\")\n"
          ]
        }
      ]
    },
    {
      "cell_type": "code",
      "source": [
        "# This calls the function from the beginning which joins a shapefile dataset to a linestring set\n",
        "joined_amenities_df = find_nearest_linestring_efficient(amenities, roads_df_transformed, 200)\n"
      ],
      "metadata": {
        "colab": {
          "base_uri": "https://localhost:8080/"
        },
        "id": "KMsc5cC7Q0FS",
        "outputId": "3b1f4aa9-7efd-4fde-871c-0314aee3bc94"
      },
      "execution_count": 14,
      "outputs": [
        {
          "output_type": "stream",
          "name": "stdout",
          "text": [
            "Matched 0 out of 0 points\n"
          ]
        },
        {
          "output_type": "stream",
          "name": "stderr",
          "text": [
            "<ipython-input-3-0ee733655df3>:24: FutureWarning: <class 'geopandas.array.GeometryArray'>._reduce will require a `keepdims` parameter in the future\n",
            "  print(f\"Matched {result.notna().any(axis=1).sum()} out of {len(result)} points\")\n"
          ]
        }
      ]
    },
    {
      "cell_type": "markdown",
      "source": [
        "# Testing only: filter and export"
      ],
      "metadata": {
        "id": "gED-caNGbtVW"
      }
    },
    {
      "cell_type": "code",
      "source": [
        "# Filter to my address (for testing)\n",
        "\n",
        "selected_records = final_results[(final_results['street'] == 'TUCKER ST')] # & (final_results['number'] == '335')]\n"
      ],
      "metadata": {
        "id": "N0Kz06o8AhJK",
        "collapsed": true
      },
      "execution_count": 35,
      "outputs": []
    },
    {
      "cell_type": "code",
      "source": [
        "# Export the selected_record dataframe above to a csv file\n",
        "\n",
        "selected_records.to_csv('selected_records.csv', index=False)\n"
      ],
      "metadata": {
        "id": "ED5cFo7bBREq",
        "colab": {
          "base_uri": "https://localhost:8080/"
        },
        "outputId": "115d11ee-c53c-44a2-80fa-a20deb1bc73d"
      },
      "execution_count": 36,
      "outputs": [
        {
          "output_type": "stream",
          "name": "stderr",
          "text": [
            "<frozen importlib._bootstrap>:914: ImportWarning: _PyDrive2ImportHook.find_spec() not found; falling back to find_module()\n",
            "<frozen importlib._bootstrap>:914: ImportWarning: _PyDriveImportHook.find_spec() not found; falling back to find_module()\n",
            "<frozen importlib._bootstrap>:914: ImportWarning: _GenerativeAIImportHook.find_spec() not found; falling back to find_module()\n",
            "<frozen importlib._bootstrap>:914: ImportWarning: _OpenCVImportHook.find_spec() not found; falling back to find_module()\n",
            "<frozen importlib._bootstrap>:914: ImportWarning: APICoreClientInfoImportHook.find_spec() not found; falling back to find_module()\n",
            "<frozen importlib._bootstrap>:914: ImportWarning: _BokehImportHook.find_spec() not found; falling back to find_module()\n",
            "<frozen importlib._bootstrap>:914: ImportWarning: _AltairImportHook.find_spec() not found; falling back to find_module()\n"
          ]
        }
      ]
    },
    {
      "cell_type": "code",
      "source": [],
      "metadata": {
        "id": "wp1VqcinCDz7"
      },
      "execution_count": null,
      "outputs": []
    }
  ]
}