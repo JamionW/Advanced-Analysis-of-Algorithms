{
  "nbformat": 4,
  "nbformat_minor": 0,
  "metadata": {
    "colab": {
      "provenance": [],
      "mount_file_id": "1v3ixPaZz7Xew0q_MGVydG2MtXbzHihuQ",
      "authorship_tag": "ABX9TyOZYMgmKRQl76FBj2B4tZuQ",
      "include_colab_link": true
    },
    "kernelspec": {
      "name": "python3",
      "display_name": "Python 3"
    },
    "language_info": {
      "name": "python"
    }
  },
  "cells": [
    {
      "cell_type": "markdown",
      "metadata": {
        "id": "view-in-github",
        "colab_type": "text"
      },
      "source": [
        "<a href=\"https://colab.research.google.com/github/JamionW/Advanced-Analysis-of-Algorithms/blob/master/Master_Code_Notebook.ipynb\" target=\"_parent\"><img src=\"https://colab.research.google.com/assets/colab-badge.svg\" alt=\"Open In Colab\"/></a>"
      ]
    },
    {
      "cell_type": "code",
      "source": [
        "## This is the master notebook."
      ],
      "metadata": {
        "id": "J8JM9NHrENit"
      },
      "execution_count": 54,
      "outputs": []
    },
    {
      "cell_type": "code",
      "source": [
        "!pip install osmnx # install the osmnx module\n"
      ],
      "metadata": {
        "colab": {
          "base_uri": "https://localhost:8080/"
        },
        "collapsed": true,
        "id": "OPd3P4QfmuCg",
        "outputId": "13fecb68-772c-49a0-f7c0-0ce4e3eeb560"
      },
      "execution_count": 55,
      "outputs": [
        {
          "output_type": "stream",
          "name": "stdout",
          "text": [
            "Requirement already satisfied: osmnx in /usr/local/lib/python3.10/dist-packages (1.9.4)\n",
            "Requirement already satisfied: geopandas<0.15,>=0.12 in /usr/local/lib/python3.10/dist-packages (from osmnx) (0.14.4)\n",
            "Requirement already satisfied: networkx<3.4,>=2.5 in /usr/local/lib/python3.10/dist-packages (from osmnx) (3.3)\n",
            "Requirement already satisfied: numpy<1.27,>=1.20 in /usr/local/lib/python3.10/dist-packages (from osmnx) (1.26.4)\n",
            "Requirement already satisfied: pandas<2.3,>=1.1 in /usr/local/lib/python3.10/dist-packages (from osmnx) (2.1.4)\n",
            "Requirement already satisfied: requests<2.33,>=2.27 in /usr/local/lib/python3.10/dist-packages (from osmnx) (2.32.3)\n",
            "Requirement already satisfied: shapely<2.1,>=2.0 in /usr/local/lib/python3.10/dist-packages (from osmnx) (2.0.5)\n",
            "Requirement already satisfied: fiona>=1.8.21 in /usr/local/lib/python3.10/dist-packages (from geopandas<0.15,>=0.12->osmnx) (1.9.6)\n",
            "Requirement already satisfied: packaging in /usr/local/lib/python3.10/dist-packages (from geopandas<0.15,>=0.12->osmnx) (24.1)\n",
            "Requirement already satisfied: pyproj>=3.3.0 in /usr/local/lib/python3.10/dist-packages (from geopandas<0.15,>=0.12->osmnx) (3.6.1)\n",
            "Requirement already satisfied: python-dateutil>=2.8.2 in /usr/local/lib/python3.10/dist-packages (from pandas<2.3,>=1.1->osmnx) (2.8.2)\n",
            "Requirement already satisfied: pytz>=2020.1 in /usr/local/lib/python3.10/dist-packages (from pandas<2.3,>=1.1->osmnx) (2024.1)\n",
            "Requirement already satisfied: tzdata>=2022.1 in /usr/local/lib/python3.10/dist-packages (from pandas<2.3,>=1.1->osmnx) (2024.1)\n",
            "Requirement already satisfied: charset-normalizer<4,>=2 in /usr/local/lib/python3.10/dist-packages (from requests<2.33,>=2.27->osmnx) (3.3.2)\n",
            "Requirement already satisfied: idna<4,>=2.5 in /usr/local/lib/python3.10/dist-packages (from requests<2.33,>=2.27->osmnx) (3.7)\n",
            "Requirement already satisfied: urllib3<3,>=1.21.1 in /usr/local/lib/python3.10/dist-packages (from requests<2.33,>=2.27->osmnx) (2.0.7)\n",
            "Requirement already satisfied: certifi>=2017.4.17 in /usr/local/lib/python3.10/dist-packages (from requests<2.33,>=2.27->osmnx) (2024.7.4)\n",
            "Requirement already satisfied: attrs>=19.2.0 in /usr/local/lib/python3.10/dist-packages (from fiona>=1.8.21->geopandas<0.15,>=0.12->osmnx) (24.2.0)\n",
            "Requirement already satisfied: click~=8.0 in /usr/local/lib/python3.10/dist-packages (from fiona>=1.8.21->geopandas<0.15,>=0.12->osmnx) (8.1.7)\n",
            "Requirement already satisfied: click-plugins>=1.0 in /usr/local/lib/python3.10/dist-packages (from fiona>=1.8.21->geopandas<0.15,>=0.12->osmnx) (1.1.1)\n",
            "Requirement already satisfied: cligj>=0.5 in /usr/local/lib/python3.10/dist-packages (from fiona>=1.8.21->geopandas<0.15,>=0.12->osmnx) (0.7.2)\n",
            "Requirement already satisfied: six in /usr/local/lib/python3.10/dist-packages (from fiona>=1.8.21->geopandas<0.15,>=0.12->osmnx) (1.16.0)\n"
          ]
        }
      ]
    },
    {
      "cell_type": "code",
      "source": [
        "# IMPORTS\n",
        "\n",
        "import pandas as pd\n",
        "import geopandas as gpd\n",
        "import fiona\n",
        "import numpy as np\n",
        "import osmnx as ox\n",
        "import networkx as nx\n",
        "from shapely.ops import nearest_points\n",
        "from shapely.geometry import Point\n",
        "from geopandas.tools import sjoin_nearest\n",
        "from scipy.spatial import cKDTree"
      ],
      "metadata": {
        "id": "JWtJRCd_XtzG"
      },
      "execution_count": 56,
      "outputs": []
    },
    {
      "cell_type": "code",
      "source": [
        "def find_nearest_linestring_efficient(gdf_points, gdf_lines, max_distance):\n",
        "    \"\"\"\n",
        "    Find the nearest linestring for each point, up to a maximum distance.\n",
        "    Uses spatial indexing for efficiency.\n",
        "\n",
        "    :param gdf_points: GeoDataFrame with point geometries (in UTM)\n",
        "    :param gdf_lines: GeoDataFrame with linestring geometries (in UTM)\n",
        "    :param max_distance: Maximum distance to consider (in meters)\n",
        "    :return: GeoDataFrame with points matched to nearest linestrings\n",
        "    \"\"\"\n",
        "    # Use sjoin_nearest to find the nearest linestring for each point\n",
        "    joined = sjoin_nearest(gdf_points, gdf_lines, max_distance=max_distance, how='left')\n",
        "\n",
        "    # Calculate the actual distances\n",
        "    joined['distance'] = joined.apply(lambda row: row['geometry'].distance(gdf_lines.loc[row['index_right'], 'geometry'])\n",
        "                                      if pd.notnull(row['index_right']) else None, axis=1)\n",
        "\n",
        "    # Remove matches beyond max_distance (should be unnecessary due to max_distance in sjoin_nearest, but just in case)\n",
        "    joined = joined[joined['distance'] <= max_distance]\n",
        "\n",
        "    # Drop unnecessary columns\n",
        "    result = joined.drop(columns=['index_right', 'distance'])\n",
        "\n",
        "    print(f\"Matched {result.notna().any(axis=1).sum()} out of {len(result)} points\")\n",
        "\n",
        "    return result\n"
      ],
      "metadata": {
        "id": "LTt0bcyHfgGZ"
      },
      "execution_count": 57,
      "outputs": []
    },
    {
      "cell_type": "code",
      "source": [
        "# ADDRESSES\n",
        "\n",
        "# Read in addresses\n",
        "# this takes about 20 minutes for the State of Tennessee\n",
        "# less than a minute for Chattanooga\n",
        "\n",
        "# Read the GeoJSON file into a GeoDataFrame\n",
        "#address_df = gpd.read_file('/content/drive/MyDrive/Colab Notebooks/data/tennessee.geojson')\n",
        "\n",
        "# Chattanooga, for testing\n",
        "address_df = gpd.read_file('/content/drive/MyDrive/Colab Notebooks/data/chattanooga.geojson')\n"
      ],
      "metadata": {
        "id": "SuqI7At-EL4A"
      },
      "execution_count": 58,
      "outputs": []
    },
    {
      "cell_type": "code",
      "source": [
        "# Change the CRS of the address dataframe to North America UTM\n",
        "\n",
        "address_df = address_df.to_crs(epsg=32618)"
      ],
      "metadata": {
        "id": "q7So9b7GM7qM"
      },
      "execution_count": 59,
      "outputs": []
    },
    {
      "cell_type": "code",
      "source": [
        "### This is to engineer the feature for address density\n",
        "\n",
        "# Extract coordinates from the geometry column\n",
        "coords = np.array(list(address_df.geometry.apply(lambda x: (x.x, x.y))))\n",
        "\n",
        "# Build the KD-tree\n",
        "tree = cKDTree(coords)\n",
        "\n",
        "# Set the buffer distance (e.g., 1000 meters)\n",
        "buffer_distance = 1000\n",
        "\n",
        "# Query the tree for all points within the buffer distance\n",
        "indices = tree.query_ball_point(coords, r=buffer_distance)\n",
        "\n",
        "# Count the number of neighbors, excluding the point itself\n",
        "address_df['address_density'] = [len(idx) - 1 for idx in indices]\n",
        "\n",
        "# Optionally, normalize the density\n",
        "max_density = address_df['address_density'].max()\n",
        "address_df['normalized_density'] = address_df['address_density'] / max_density\n",
        "\n",
        "# Print some statistics\n",
        "print(address_df['address_density'].describe())"
      ],
      "metadata": {
        "colab": {
          "base_uri": "https://localhost:8080/"
        },
        "id": "uKaeCUjTu0qa",
        "outputId": "3548530d-fe50-4392-90a3-c79016dfff1d"
      },
      "execution_count": 60,
      "outputs": [
        {
          "output_type": "stream",
          "name": "stdout",
          "text": [
            "count    102761.000000\n",
            "mean       1235.861251\n",
            "std         643.406327\n",
            "min           0.000000\n",
            "25%         729.000000\n",
            "50%        1196.000000\n",
            "75%        1663.000000\n",
            "max        3676.000000\n",
            "Name: address_density, dtype: float64\n"
          ]
        }
      ]
    },
    {
      "cell_type": "code",
      "source": [
        "# SVI\n",
        "\n",
        "# Path to .gdb file\n",
        "gdb_file = \"/content/drive/MyDrive/Colab Notebooks/data/SVI2022_TENNESSEE_tract.gdb\"\n",
        "\n",
        "# List all the layers in the .gdb file\n",
        "layers = fiona.listlayers(gdb_file)\n",
        "print(\"Layers in the geodatabase:\", layers)\n",
        "\n",
        "# Read the desired layer (replace 'SVI_layer_name' with the actual layer name)\n",
        "svi_df = gpd.read_file(gdb_file, layer='SVI2022_TENNESSEE_tract')\n",
        "\n",
        "#print(svi_df.head())"
      ],
      "metadata": {
        "colab": {
          "base_uri": "https://localhost:8080/"
        },
        "id": "oBAGbLaBLuLQ",
        "outputId": "78fef98f-4933-450f-8860-9fbaea2a4d51"
      },
      "execution_count": 61,
      "outputs": [
        {
          "output_type": "stream",
          "name": "stdout",
          "text": [
            "Layers in the geodatabase: ['SVI2022_TENNESSEE_tract']\n"
          ]
        },
        {
          "output_type": "stream",
          "name": "stderr",
          "text": [
            "/usr/local/lib/python3.10/dist-packages/ipykernel/ipkernel.py:283: DeprecationWarning: `should_run_async` will not call `transform_cell` automatically in the future. Please pass the result to `transformed_cell` argument and any exception that happen during thetransform in `preprocessing_exc_tuple` in IPython 7.17 and above.\n",
            "  and should_run_async(code)\n"
          ]
        }
      ]
    },
    {
      "cell_type": "code",
      "source": [
        "# Remove all columns from the svi_df dataframe except \"geometry\",\"STATE\",\"ST_ABBR\",\"COUNTY\",\"FIPS\",\"LOCATION\",\"AREA_SQMI\", and \"RPL_THEME4\".\n",
        "\n",
        "svi_df = svi_df[[\"geometry\",\"STATE\",\"ST_ABBR\",\"COUNTY\",\"FIPS\",\"LOCATION\",\"AREA_SQMI\", \"RPL_THEME4\"]]\n"
      ],
      "metadata": {
        "id": "Cx56hr8iiiZJ"
      },
      "execution_count": 62,
      "outputs": []
    },
    {
      "cell_type": "code",
      "source": [
        "#Use to_crs to set the svi df to North America UTM\n",
        "\n",
        "svi_df = svi_df.to_crs(address_df.crs)\n",
        "print(svi_df.crs)"
      ],
      "metadata": {
        "colab": {
          "base_uri": "https://localhost:8080/"
        },
        "id": "0MfivjSrMTlF",
        "outputId": "281d134d-5645-4ea8-c03c-ab76566476e3"
      },
      "execution_count": 63,
      "outputs": [
        {
          "output_type": "stream",
          "name": "stdout",
          "text": [
            "EPSG:32618\n"
          ]
        },
        {
          "output_type": "stream",
          "name": "stderr",
          "text": [
            "/usr/local/lib/python3.10/dist-packages/ipykernel/ipkernel.py:283: DeprecationWarning: `should_run_async` will not call `transform_cell` automatically in the future. Please pass the result to `transformed_cell` argument and any exception that happen during thetransform in `preprocessing_exc_tuple` in IPython 7.17 and above.\n",
            "  and should_run_async(code)\n"
          ]
        }
      ]
    },
    {
      "cell_type": "code",
      "source": [
        "#Join on geometry attributes\n",
        "\n",
        "joined_svi_address_df = gpd.overlay(address_df, svi_df, how='intersection')"
      ],
      "metadata": {
        "id": "SykvOYFjL_nb",
        "collapsed": true
      },
      "execution_count": 64,
      "outputs": []
    },
    {
      "cell_type": "code",
      "source": [
        "# ROADS\n",
        "\n",
        "# Import shapefiles\n",
        "# https://www.census.gov/cgi-bin/geo/shapefiles/index.php\n",
        "\n",
        "# documentation here: https://www2.census.gov/geo/pdfs/maps-data/data/tiger/tgrshp2023/TGRSHP2023_TechDoc.pdf\n",
        "\n",
        "# Open the shapefile as a Fiona collection\n",
        "with fiona.open('/content/drive/MyDrive/Colab Notebooks/data/tl_2023_47065_roads.shp') as collection:\n",
        "    # Create a GeoDataFrame from the collection\n",
        "    roads_df = gpd.GeoDataFrame.from_features(collection)\n",
        "\n",
        "# Set geometry on the roads dataset (using UTM from the start)\n",
        "roads_df = roads_df.set_crs(epsg=4269)\n",
        "\n",
        "# Print the attributes of the GeoDataFrame\n",
        "#print(roads_df.head())"
      ],
      "metadata": {
        "id": "4m23qzVl8xeU",
        "colab": {
          "base_uri": "https://localhost:8080/"
        },
        "outputId": "e164cf8e-d0c3-4b97-f058-4f1f2b6cc7db"
      },
      "execution_count": 65,
      "outputs": [
        {
          "output_type": "stream",
          "name": "stderr",
          "text": [
            "/usr/local/lib/python3.10/dist-packages/ipykernel/ipkernel.py:283: DeprecationWarning: `should_run_async` will not call `transform_cell` automatically in the future. Please pass the result to `transformed_cell` argument and any exception that happen during thetransform in `preprocessing_exc_tuple` in IPython 7.17 and above.\n",
            "  and should_run_async(code)\n"
          ]
        }
      ]
    },
    {
      "cell_type": "code",
      "source": [
        "# AMENITIES\n",
        "\n",
        "city = \"Chattanooga, Tennessee, USA\"\n",
        "tags = {'amenity': ['school', 'hospital', 'library'],\n",
        "        'shop': 'supermarket'}\n",
        "\n",
        "amenities = ox.features_from_place(city, tags=tags)"
      ],
      "metadata": {
        "id": "dx9LyIdJnCkO"
      },
      "execution_count": 66,
      "outputs": []
    },
    {
      "cell_type": "code",
      "source": [
        "# Transform Geographies\n",
        "\n",
        "#4269 is Geographic\n",
        "#32618 is North American UTM (metric, one unit equals one meter)\n",
        "\n",
        "roads_df = roads_df.to_crs(epsg=32618)\n",
        "joined_svi_address_df = joined_svi_address_df.to_crs(epsg=32618)\n",
        "amenities = amenities.to_crs(epsg=32618)"
      ],
      "metadata": {
        "id": "2SYWR8n2nd27",
        "colab": {
          "base_uri": "https://localhost:8080/"
        },
        "outputId": "4414650a-1c6a-4ca5-f25f-94aabc0391bc"
      },
      "execution_count": 67,
      "outputs": [
        {
          "output_type": "stream",
          "name": "stderr",
          "text": [
            "/usr/local/lib/python3.10/dist-packages/ipykernel/ipkernel.py:283: DeprecationWarning: `should_run_async` will not call `transform_cell` automatically in the future. Please pass the result to `transformed_cell` argument and any exception that happen during thetransform in `preprocessing_exc_tuple` in IPython 7.17 and above.\n",
            "  and should_run_async(code)\n"
          ]
        }
      ]
    },
    {
      "cell_type": "code",
      "source": [
        "# ensure all dataframes have similar geometries\n",
        "\n",
        "print(\"roads_df has the following CRS: \")\n",
        "print(roads_df.crs)\n",
        "print(\"joined_svi_address has the following CRS: \")\n",
        "print(joined_svi_address_df.crs)\n",
        "print(\"amenities has the following CRS: \")\n",
        "print(amenities.crs)"
      ],
      "metadata": {
        "colab": {
          "base_uri": "https://localhost:8080/"
        },
        "id": "paHkHwBN-E7F",
        "outputId": "1a7f4a12-bdb0-4d6d-e950-da058c1bc33b"
      },
      "execution_count": 68,
      "outputs": [
        {
          "output_type": "stream",
          "name": "stdout",
          "text": [
            "roads_df has the following CRS: \n",
            "EPSG:32618\n",
            "joined_svi_address has the following CRS: \n",
            "EPSG:32618\n",
            "amenities has the following CRS: \n",
            "EPSG:32618\n"
          ]
        }
      ]
    },
    {
      "cell_type": "code",
      "source": [
        "# This calls the function from the beginning which joins a shapefile dataset to a linestring set\n",
        "joined_svi_df = find_nearest_linestring_efficient(joined_svi_address_df, roads_df, 200)\n"
      ],
      "metadata": {
        "colab": {
          "base_uri": "https://localhost:8080/"
        },
        "id": "hOi0E8bysKiH",
        "outputId": "c87715cb-53d6-4207-b727-0cc44d83e16a"
      },
      "execution_count": 89,
      "outputs": [
        {
          "output_type": "stream",
          "name": "stdout",
          "text": [
            "Matched 111676 out of 111676 points\n"
          ]
        }
      ]
    },
    {
      "cell_type": "code",
      "source": [
        "# This calls the function from the beginning which joins a shapefile dataset to a linestring set\n",
        "joined_amenities_df = find_nearest_linestring_efficient(amenities, roads_df, 200)\n"
      ],
      "metadata": {
        "colab": {
          "base_uri": "https://localhost:8080/"
        },
        "id": "KMsc5cC7Q0FS",
        "outputId": "cf0082bc-5d2e-4755-f58d-600d287a4b3a"
      },
      "execution_count": 90,
      "outputs": [
        {
          "output_type": "stream",
          "name": "stdout",
          "text": [
            "Matched 220 out of 220 points\n"
          ]
        }
      ]
    },
    {
      "cell_type": "code",
      "source": [
        "\n",
        "print(f\"Number of addresses: {len(joined_svi_df)}\")\n",
        "print(f\"Number of unique address hashes: {joined_svi_df['hash'].nunique()}\")\n",
        "print(f\"Number of amenities before cleaning: {len(joined_amenities_df)}\")\n"
      ],
      "metadata": {
        "colab": {
          "base_uri": "https://localhost:8080/"
        },
        "id": "Z0MgEGk3Qtm4",
        "outputId": "7b056bc2-0623-4a68-a5db-20fe6a58a32e"
      },
      "execution_count": 91,
      "outputs": [
        {
          "output_type": "stream",
          "name": "stdout",
          "text": [
            "Number of addresses: 111676\n",
            "Number of unique address hashes: 102536\n",
            "Number of amenities before cleaning: 220\n"
          ]
        }
      ]
    },
    {
      "cell_type": "code",
      "source": [
        "# Remove rows where the 'amenity' column is null\n",
        "joined_amenities_df = joined_amenities_df.dropna(subset=['amenity'])\n",
        "print(f\"Number of amenities after removing null 'amenity' values: {len(joined_amenities_df)}\")"
      ],
      "metadata": {
        "colab": {
          "base_uri": "https://localhost:8080/"
        },
        "id": "DiP1vcOJQwjv",
        "outputId": "7fcecb41-bead-4aa2-b728-40e99c5f8430"
      },
      "execution_count": 92,
      "outputs": [
        {
          "output_type": "stream",
          "name": "stdout",
          "text": [
            "Number of amenities after removing null 'amenity' values: 175\n"
          ]
        }
      ]
    },
    {
      "cell_type": "code",
      "source": [
        "# prompt: Can you give me the distribution of valid values in the amenity column of joined_amenities_df?\n",
        "\n",
        "print(joined_amenities_df['amenity'].value_counts())\n"
      ],
      "metadata": {
        "colab": {
          "base_uri": "https://localhost:8080/"
        },
        "id": "4bRlpMi7UQtA",
        "outputId": "cda6e9ee-4c05-45b9-8ce5-787a2de5e498"
      },
      "execution_count": 93,
      "outputs": [
        {
          "output_type": "stream",
          "name": "stdout",
          "text": [
            "amenity\n",
            "school        144\n",
            "hospital       25\n",
            "library         5\n",
            "restaurant      1\n",
            "Name: count, dtype: int64\n"
          ]
        }
      ]
    },
    {
      "cell_type": "code",
      "source": [
        "# Filter amenities\n",
        "amenity_types = ['school', 'library', 'hospital']\n",
        "filtered_amenities_df = joined_amenities_df[joined_amenities_df['amenity'].isin(amenity_types)]\n",
        "\n",
        "print(f\"Number of filtered amenities: {len(filtered_amenities_df)}\")\n"
      ],
      "metadata": {
        "colab": {
          "base_uri": "https://localhost:8080/"
        },
        "id": "I6D4lN9zQ4XL",
        "outputId": "816371dd-a493-4f78-ed9a-b3482f9a3786"
      },
      "execution_count": 94,
      "outputs": [
        {
          "output_type": "stream",
          "name": "stdout",
          "text": [
            "Number of filtered amenities: 174\n"
          ]
        }
      ]
    },
    {
      "cell_type": "code",
      "source": [
        "# Ensure both GeoDataFrames have the same CRS\n",
        "filtered_amenities_df = filtered_amenities_df.to_crs(joined_svi_df.crs)"
      ],
      "metadata": {
        "id": "3Rjg-f-MRBqi"
      },
      "execution_count": 95,
      "outputs": []
    },
    {
      "cell_type": "code",
      "source": [
        "# Create a KD-tree for efficient nearest neighbor search\n",
        "amenity_coords = [(p.x, p.y) for p in filtered_amenities_df.geometry.centroid]\n",
        "tree = cKDTree(amenity_coords)"
      ],
      "metadata": {
        "id": "sCJFL6WJRImZ"
      },
      "execution_count": 96,
      "outputs": []
    },
    {
      "cell_type": "code",
      "source": [
        "# Find nearest amenities for each address\n",
        "k = min(len(filtered_amenities_df), 5)  # Find up to 5 nearest amenities or all if less than 5\n",
        "address_amenities = {}\n",
        "\n",
        "for idx, address in joined_svi_df.iterrows():\n",
        "    distances, indices = tree.query(address.geometry.centroid.coords[0], k=k)\n",
        "    nearest_amenities = filtered_amenities_df.iloc[indices]\n",
        "\n",
        "    amenity_dict = {}\n",
        "    for dist, (_, amenity) in zip(distances, nearest_amenities.iterrows()):\n",
        "        amenity_type = amenity['amenity']\n",
        "        if amenity_type not in amenity_dict:\n",
        "            amenity_dict[amenity_type] = (f\"{amenity['name']}_{amenity_type}\", dist)\n",
        "\n",
        "    address_amenities[address['hash']] = amenity_dict"
      ],
      "metadata": {
        "id": "RVweiKrKRaJI"
      },
      "execution_count": 97,
      "outputs": []
    },
    {
      "cell_type": "code",
      "source": [
        "#need to work on the below. counts aren't right."
      ],
      "metadata": {
        "id": "OBt32307Vy3B"
      },
      "execution_count": null,
      "outputs": []
    },
    {
      "cell_type": "code",
      "source": [
        "# Convert results to a DataFrame\n",
        "results = pd.DataFrame.from_dict(address_amenities, orient='index')\n",
        "\n",
        "# Rename columns and split amenity name and distance\n",
        "for amenity_type in amenity_types:\n",
        "    if amenity_type in results.columns:\n",
        "        results[f'{amenity_type}_name'] = results[amenity_type].apply(lambda x: x[0] if pd.notnull(x) else None)\n",
        "        results[f'{amenity_type}_distance'] = results[amenity_type].apply(lambda x: x[1] if pd.notnull(x) else None)\n",
        "        results = results.drop(columns=[amenity_type])\n",
        "\n",
        "results = results.reset_index().rename(columns={'index': 'address_hash'})\n",
        "\n",
        "# Merge with original address data\n",
        "final_results = pd.merge(joined_svi_df, results, left_on='hash', right_on='address_hash', how='left')\n",
        "\n",
        "print(f\"Number of rows in final results: {len(final_results)}\")\n",
        "for amenity_type in amenity_types:\n",
        "    print(f\"Number of non-null values in {amenity_type}_name: {final_results[f'{amenity_type}_name'].notnull().sum()}\")\n",
        "    print(f\"Number of non-null values in {amenity_type}_distance: {final_results[f'{amenity_type}_distance'].notnull().sum()}\")\n"
      ],
      "metadata": {
        "colab": {
          "base_uri": "https://localhost:8080/"
        },
        "id": "odhH4ddEHiAE",
        "outputId": "580a9922-941d-46c4-9725-8a0a2f23467b"
      },
      "execution_count": 98,
      "outputs": [
        {
          "output_type": "stream",
          "name": "stdout",
          "text": [
            "Number of rows in final results: 111676\n",
            "Number of non-null values in school_name: 100815\n",
            "Number of non-null values in school_distance: 100815\n",
            "Number of non-null values in library_name: 21947\n",
            "Number of non-null values in library_distance: 21947\n",
            "Number of non-null values in hospital_name: 43029\n",
            "Number of non-null values in hospital_distance: 43029\n"
          ]
        }
      ]
    },
    {
      "cell_type": "code",
      "source": [
        "\n",
        "selected_records = final_results[(final_results['street'] == 'TUCKER ST')] # & (final_results['number'] == '335')]\n"
      ],
      "metadata": {
        "id": "N0Kz06o8AhJK",
        "collapsed": true
      },
      "execution_count": null,
      "outputs": []
    },
    {
      "cell_type": "code",
      "source": [
        "# prompt: Can I export the selected_record dataframe above to a csv file?\n",
        "\n",
        "selected_records.to_csv('selected_records.csv', index=False)\n"
      ],
      "metadata": {
        "id": "ED5cFo7bBREq"
      },
      "execution_count": 88,
      "outputs": []
    },
    {
      "cell_type": "code",
      "source": [],
      "metadata": {
        "id": "wp1VqcinCDz7"
      },
      "execution_count": null,
      "outputs": []
    }
  ]
}